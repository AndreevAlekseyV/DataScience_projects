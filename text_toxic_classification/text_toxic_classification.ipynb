{
 "cells": [
  {
   "cell_type": "markdown",
   "metadata": {
    "toc": true
   },
   "source": [
    "<h1>Содержание<span class=\"tocSkip\"></span></h1>\n",
    "<div class=\"toc\"><ul class=\"toc-item\"><li><span><a href=\"#Подготовка\" data-toc-modified-id=\"Подготовка-1\"><span class=\"toc-item-num\">1&nbsp;&nbsp;</span>Подготовка</a></span><ul class=\"toc-item\"><li><span><a href=\"#Чтение-файла-и-анализ-данных\" data-toc-modified-id=\"Чтение-файла-и-анализ-данных-1.1\"><span class=\"toc-item-num\">1.1&nbsp;&nbsp;</span>Чтение файла и анализ данных</a></span></li><li><span><a href=\"#Обработка-данных\" data-toc-modified-id=\"Обработка-данных-1.2\"><span class=\"toc-item-num\">1.2&nbsp;&nbsp;</span>Обработка данных</a></span><ul class=\"toc-item\"><li><span><a href=\"#Лемметизация-и-чистка-текста\" data-toc-modified-id=\"Лемметизация-и-чистка-текста-1.2.1\"><span class=\"toc-item-num\">1.2.1&nbsp;&nbsp;</span>Лемметизация и чистка текста</a></span></li><li><span><a href=\"#Деление-датафрейма-на-выборки\" data-toc-modified-id=\"Деление-датафрейма-на-выборки-1.2.2\"><span class=\"toc-item-num\">1.2.2&nbsp;&nbsp;</span>Деление датафрейма на выборки</a></span></li><li><span><a href=\"#Векторизация-текстовых-признаков\" data-toc-modified-id=\"Векторизация-текстовых-признаков-1.2.3\"><span class=\"toc-item-num\">1.2.3&nbsp;&nbsp;</span>Векторизация текстовых признаков</a></span></li><li><span><a href=\"#Балансировка-классов\" data-toc-modified-id=\"Балансировка-классов-1.2.4\"><span class=\"toc-item-num\">1.2.4&nbsp;&nbsp;</span>Балансировка классов</a></span></li></ul></li></ul></li><li><span><a href=\"#Создание-моделей\" data-toc-modified-id=\"Создание-моделей-2\"><span class=\"toc-item-num\">2&nbsp;&nbsp;</span>Создание моделей</a></span><ul class=\"toc-item\"><li><span><a href=\"#Модель-логистической-регрессии\" data-toc-modified-id=\"Модель-логистической-регрессии-2.1\"><span class=\"toc-item-num\">2.1&nbsp;&nbsp;</span>Модель логистической регрессии</a></span><ul class=\"toc-item\"><li><span><a href=\"#Создание-модели-на-основе-исходной-выборки\" data-toc-modified-id=\"Создание-модели-на-основе-исходной-выборки-2.1.1\"><span class=\"toc-item-num\">2.1.1&nbsp;&nbsp;</span>Создание модели на основе исходной выборки</a></span></li><li><span><a href=\"#Создание-модели-на-основе-выборки,-сбалансированной-методом-RandomUnderSampler\" data-toc-modified-id=\"Создание-модели-на-основе-выборки,-сбалансированной-методом-RandomUnderSampler-2.1.2\"><span class=\"toc-item-num\">2.1.2&nbsp;&nbsp;</span>Создание модели на основе выборки, сбалансированной методом <em>RandomUnderSampler</em></a></span></li></ul></li><li><span><a href=\"#Модель-случайного-леса\" data-toc-modified-id=\"Модель-случайного-леса-2.2\"><span class=\"toc-item-num\">2.2&nbsp;&nbsp;</span>Модель случайного леса</a></span><ul class=\"toc-item\"><li><span><a href=\"#Создание-модели-на-основе-исходной-выборки\" data-toc-modified-id=\"Создание-модели-на-основе-исходной-выборки-2.2.1\"><span class=\"toc-item-num\">2.2.1&nbsp;&nbsp;</span>Создание модели на основе исходной выборки</a></span></li><li><span><a href=\"#Создание-модели-на-основе-выборки,-сбалансированной-методом-RandomUnderSampler\" data-toc-modified-id=\"Создание-модели-на-основе-выборки,-сбалансированной-методом-RandomUnderSampler-2.2.2\"><span class=\"toc-item-num\">2.2.2&nbsp;&nbsp;</span>Создание модели на основе выборки, сбалансированной методом <em>RandomUnderSampler</em></a></span></li></ul></li><li><span><a href=\"#Модель-градиентного-бустинга-с-линейным-классификатором\" data-toc-modified-id=\"Модель-градиентного-бустинга-с-линейным-классификатором-2.3\"><span class=\"toc-item-num\">2.3&nbsp;&nbsp;</span>Модель градиентного бустинга с линейным классификатором</a></span><ul class=\"toc-item\"><li><span><a href=\"#Создание-модели-на-основе-исходной-выборки\" data-toc-modified-id=\"Создание-модели-на-основе-исходной-выборки-2.3.1\"><span class=\"toc-item-num\">2.3.1&nbsp;&nbsp;</span>Создание модели на основе исходной выборки</a></span></li><li><span><a href=\"#Создание-модели-на-основе-выборки,-сбалансированной-методом-RandomUnderSampler\" data-toc-modified-id=\"Создание-модели-на-основе-выборки,-сбалансированной-методом-RandomUnderSampler-2.3.2\"><span class=\"toc-item-num\">2.3.2&nbsp;&nbsp;</span>Создание модели на основе выборки, сбалансированной методом <em>RandomUnderSampler</em></a></span></li></ul></li><li><span><a href=\"#Модель-градиентного-бустинга-на-основе-CatBoost\" data-toc-modified-id=\"Модель-градиентного-бустинга-на-основе-CatBoost-2.4\"><span class=\"toc-item-num\">2.4&nbsp;&nbsp;</span>Модель градиентного бустинга на основе CatBoost</a></span></li><li><span><a href=\"#Выбор-наилучшей-модели\" data-toc-modified-id=\"Выбор-наилучшей-модели-2.5\"><span class=\"toc-item-num\">2.5&nbsp;&nbsp;</span>Выбор наилучшей модели</a></span></li></ul></li><li><span><a href=\"#Оценка-работы-модели-на-тестовой-выборке.\" data-toc-modified-id=\"Оценка-работы-модели-на-тестовой-выборке.-3\"><span class=\"toc-item-num\">3&nbsp;&nbsp;</span>Оценка работы модели на тестовой выборке.</a></span></li><li><span><a href=\"#Общие-выводы\" data-toc-modified-id=\"Общие-выводы-4\"><span class=\"toc-item-num\">4&nbsp;&nbsp;</span>Общие выводы</a></span></li></ul></div>"
   ]
  },
  {
   "cell_type": "markdown",
   "metadata": {},
   "source": [
    "# Задача"
   ]
  },
  {
   "cell_type": "markdown",
   "metadata": {},
   "source": [
    "Интернет-магазин запускает новый сервис, в котором пользователи могут редактировать и дополнять описания товаров, как в вики-сообществах. Необходимо разработать модель классификации комментариев на позитивные и негативные. В распоряжении имеется набор данных с разметкой о токсичности правок. Разработанная модель должна иметь значение метрики качества *F1* не меньше 0.75. \n",
    "\n",
    "**Описание данных**\n",
    "\n",
    "Данные находятся в файле `toxic_comments.csv`. Столбец *text* в нём содержит текст комментария, а *toxic* — целевой признак."
   ]
  },
  {
   "cell_type": "markdown",
   "metadata": {},
   "source": [
    "Перед началом ваполнения работы установым необходимые библиотеки и загрузим их."
   ]
  },
  {
   "cell_type": "code",
   "execution_count": 1,
   "metadata": {},
   "outputs": [],
   "source": [
    "# !pip install -U imbalanced-learn\n",
    "# !pip install --no-build-isolation --editable .\n",
    "\n",
    "# !pip install phik\n",
    "\n",
    "# !pip install -U pip setuptools wheel\n",
    "# !pip install -U spacy\n",
    "# !python -mq spacy download en_core_web_sm"
   ]
  },
  {
   "cell_type": "code",
   "execution_count": 2,
   "metadata": {},
   "outputs": [],
   "source": [
    "import pandas as pd\n",
    "import numpy as np\n",
    "\n",
    "from scipy import sparse\n",
    "\n",
    "import matplotlib.pyplot as plt\n",
    "import seaborn as sns\n",
    "\n",
    "import re\n",
    "\n",
    "import spacy\n",
    "\n",
    "from sklearn.feature_extraction.text import TfidfVectorizer\n",
    "from sklearn.model_selection import train_test_split, cross_val_score, RandomizedSearchCV, GridSearchCV\n",
    "from sklearn.linear_model import LogisticRegression, SGDClassifier\n",
    "from sklearn.ensemble import RandomForestClassifier\n",
    "from sklearn.neural_network import MLPClassifier\n",
    "from sklearn.metrics import f1_score\n",
    "\n",
    "import catboost as cb\n",
    "from catboost import CatBoostClassifier, cv, Pool\n",
    "\n",
    "import phik\n",
    "from phik import resources, report\n",
    "\n",
    "from imblearn.under_sampling import RandomUnderSampler\n",
    "\n",
    "from tqdm import tqdm\n",
    "from tqdm.notebook import tqdm_notebook"
   ]
  },
  {
   "cell_type": "markdown",
   "metadata": {},
   "source": [
    "## Подготовка"
   ]
  },
  {
   "cell_type": "markdown",
   "metadata": {},
   "source": [
    "### Чтение файла и анализ данных"
   ]
  },
  {
   "cell_type": "markdown",
   "metadata": {},
   "source": [
    "Загрузим датафрейм и выполним его запись в переменную *df*."
   ]
  },
  {
   "cell_type": "code",
   "execution_count": 3,
   "metadata": {},
   "outputs": [
    {
     "data": {
      "text/html": [
       "<div>\n",
       "<style scoped>\n",
       "    .dataframe tbody tr th:only-of-type {\n",
       "        vertical-align: middle;\n",
       "    }\n",
       "\n",
       "    .dataframe tbody tr th {\n",
       "        vertical-align: top;\n",
       "    }\n",
       "\n",
       "    .dataframe thead th {\n",
       "        text-align: right;\n",
       "    }\n",
       "</style>\n",
       "<table border=\"1\" class=\"dataframe\">\n",
       "  <thead>\n",
       "    <tr style=\"text-align: right;\">\n",
       "      <th></th>\n",
       "      <th>Unnamed: 0</th>\n",
       "      <th>text</th>\n",
       "      <th>toxic</th>\n",
       "    </tr>\n",
       "  </thead>\n",
       "  <tbody>\n",
       "    <tr>\n",
       "      <th>0</th>\n",
       "      <td>0</td>\n",
       "      <td>Explanation\\nWhy the edits made under my usern...</td>\n",
       "      <td>0</td>\n",
       "    </tr>\n",
       "    <tr>\n",
       "      <th>1</th>\n",
       "      <td>1</td>\n",
       "      <td>D'aww! He matches this background colour I'm s...</td>\n",
       "      <td>0</td>\n",
       "    </tr>\n",
       "    <tr>\n",
       "      <th>2</th>\n",
       "      <td>2</td>\n",
       "      <td>Hey man, I'm really not trying to edit war. It...</td>\n",
       "      <td>0</td>\n",
       "    </tr>\n",
       "    <tr>\n",
       "      <th>3</th>\n",
       "      <td>3</td>\n",
       "      <td>\"\\nMore\\nI can't make any real suggestions on ...</td>\n",
       "      <td>0</td>\n",
       "    </tr>\n",
       "    <tr>\n",
       "      <th>4</th>\n",
       "      <td>4</td>\n",
       "      <td>You, sir, are my hero. Any chance you remember...</td>\n",
       "      <td>0</td>\n",
       "    </tr>\n",
       "  </tbody>\n",
       "</table>\n",
       "</div>"
      ],
      "text/plain": [
       "   Unnamed: 0                                               text  toxic\n",
       "0           0  Explanation\\nWhy the edits made under my usern...      0\n",
       "1           1  D'aww! He matches this background colour I'm s...      0\n",
       "2           2  Hey man, I'm really not trying to edit war. It...      0\n",
       "3           3  \"\\nMore\\nI can't make any real suggestions on ...      0\n",
       "4           4  You, sir, are my hero. Any chance you remember...      0"
      ]
     },
     "execution_count": 3,
     "metadata": {},
     "output_type": "execute_result"
    }
   ],
   "source": [
    "df = pd.read_csv('toxic_comments.csv')\n",
    "df.head()"
   ]
  },
  {
   "cell_type": "markdown",
   "metadata": {},
   "source": [
    "Выведем общую информацию о датафрейме."
   ]
  },
  {
   "cell_type": "code",
   "execution_count": 4,
   "metadata": {
    "scrolled": true
   },
   "outputs": [
    {
     "name": "stdout",
     "output_type": "stream",
     "text": [
      "<class 'pandas.core.frame.DataFrame'>\n",
      "RangeIndex: 159292 entries, 0 to 159291\n",
      "Data columns (total 3 columns):\n",
      " #   Column      Non-Null Count   Dtype \n",
      "---  ------      --------------   ----- \n",
      " 0   Unnamed: 0  159292 non-null  int64 \n",
      " 1   text        159292 non-null  object\n",
      " 2   toxic       159292 non-null  int64 \n",
      "dtypes: int64(2), object(1)\n",
      "memory usage: 3.6+ MB\n"
     ]
    }
   ],
   "source": [
    "df.info()"
   ]
  },
  {
   "cell_type": "markdown",
   "metadata": {},
   "source": [
    "Из выведенной информации видно, что пропуска в датафрейме отсутствуют, а количество строк составляет 159292. При этом имеется столбец *Unnamed: 0* с числовыми данными. Данные в нём мы также проверим.\n",
    "\n",
    "Далее, проверим столбцы на наличие дуликатов."
   ]
  },
  {
   "cell_type": "code",
   "execution_count": 5,
   "metadata": {},
   "outputs": [
    {
     "data": {
      "text/plain": [
       "0"
      ]
     },
     "execution_count": 5,
     "metadata": {},
     "output_type": "execute_result"
    }
   ],
   "source": [
    "df['Unnamed: 0'].duplicated().sum()"
   ]
  },
  {
   "cell_type": "code",
   "execution_count": 6,
   "metadata": {},
   "outputs": [
    {
     "data": {
      "text/plain": [
       "0"
      ]
     },
     "execution_count": 6,
     "metadata": {},
     "output_type": "execute_result"
    }
   ],
   "source": [
    "df['text'].duplicated().sum()"
   ]
  },
  {
   "cell_type": "markdown",
   "metadata": {},
   "source": [
    "Дубликаты в столбцах датафрейма отсутствуют. Дополнительно, оценим содержимость текстовых данных. Для этого выведем на экран произвольные пять строк столбца *text*."
   ]
  },
  {
   "cell_type": "code",
   "execution_count": 7,
   "metadata": {
    "scrolled": true
   },
   "outputs": [
    {
     "name": "stdout",
     "output_type": "stream",
     "text": [
      "Copy of article \n",
      "\n",
      "Does anyone have a copy of the original (Löb and Wainer 1970) paper? I'd appreciate any help in getting a hold of a copy. Cheers, —\n",
      "June 2006 \n",
      "\n",
      "Please stop. If you continue to vandalize pages, as you did to List of songs deemed inappropriate by Clear Channel following the September 11, 2001 attacks, you will be blocked from editing Wikipedia.\n",
      "\"\n",
      "\n",
      "Symptoms:\n",
      "Fever\n",
      "shivering\n",
      "joint pain\n",
      "vomiting\n",
      "aneamia symptoms\n",
      "haemoglobinuria\n",
      "tingling\n",
      "\n",
      "preventative measures:\n",
      "dependant upon control and elimination of the insect vector .\n",
      "There is currently no artificial means of prevention.\n",
      "Methods used to prevent the spread of disease, or to protect individuals in areas where malaria is endemic, include prophylactic drugs, mosquito eradication, and the prevention of mosquito bites. There is currently no vaccine that will prevent malaria, but this is an active field of research.\n",
      "\n",
      "Some drugs that can be used for treatment of malaria can also be used for its preventative qualities however they need to be taken daily or weekly. These are seldom used by those living in a malaria abundant enivornment and are commonyl found amongst travellers visitng regions of hight malaria activity.\n",
      "Quinine was used starting in the seventeenth century as a prophylactic against malaria. The development of more effective alternatives such as quinacrine, chloroquine, and primaquine in the twentieth century reduced the reliance on quinine. Today, quinine is still used to treat chloroquine resistant Plasmodium falciparum, as well as severe and cerebral stages of malaria, but is not generally for malaria prophylaxis.\n",
      "\n",
      "Modern drugs used preventively include mefloquine (Lariam®), doxycycline (available generically), and atovaquone proguanil hydrochloride (Malarone®). The choice of which drug to use is usually driven by what drugs the parasites in the area are resistant to, as well as side-effects and other considerations. The prophylactic effect does not begin immediately upon starting taking the drugs, so people temporarily visiting malaria-endemic areas usually begin taking the drugs one to two weeks before arriving and must continue taking them for 4 weeks after leaving (atovaquone proguanil only needs be started 2 days prior and continued for 7 days afterwards).\n",
      "\n",
      "Controlling the vector is the most useful way of preventing the spread of malaria.\n",
      "Efforts to eradicate malaria by eliminating mosquitoes have been successful in some areas. Malaria was once common in the United States and southern Europe, but the draining of wetland breeding grounds and better sanitation, in conjunction with the monitoring and treatment of infected humans, eliminated it from affluent regions. In 2002, there were 1,059 cases of malaria reported in the US, including eight deaths. In five of those cases, the disease was contracted in the United States. Malaria was eliminated from the northern parts of the USA in the early twentieth century, and the use of the pesticide DDT eliminated it from the South by 1951. In the 1950s and 1960s, there was a major public health effort to eradicate malaria worldwide by selectively targeting mosquitoes in areas where malaria was rampant.[12] However, these efforts have so far failed to eradicate malaria in many parts of the developing world - the problem is most prevalent in Africa. The United States itself may face the spread of malaria in the future as climate change (warming) leads to an expansion of the areas in which mosquitoes are active..\n",
      "\n",
      "Mosquito nets and prevention of mosquito bites\n",
      "\n",
      "Mosquito nets help keep mosquitoes away from people, and thus greatly reduce the infection and transmission of malaria. The nets are not a perfect barrier, so they are often treated with an insecticide designed to kill the mosquito before it has time to search for a way past the net. Insecticide-treated nets (ITN) are estimated to be twice as effective as untreated nets.[16] Since the Anopheles mosquitoes feed at night, the preferred method is to hang a large \"\"bed net\"\" above the center of a bed such that it drapes down and covers the bed completely.\n",
      "\n",
      "The distribution of mosquito nets impregnated with insecticide (often permethrin) has been shown to be an extremely effective method of malaria prevention, and it is also one of the most cost-effective methods of prevention. These nets can often be obtained for around US$2.50 - $3.50 (2-3 euros) from the United Nations, the World Health Organization, and others.\n",
      "\n",
      "For maximum effectiveness, the nets should be re-impregnated with insecticide every six months. This process poses a significant logistical problem in rural areas. A new type of impregnated net, called Olyset, releases insecticide for approximately 5 years[17], and costs about US$5.50. ITN's have the advantage of protecting people sleeping under the net and simultaneously killing mosquitoes that contact the net. This has the effect of killing the most dangerous mosquitoes. Some protection is also provided to others, including people sleeping in the same room but not under the net.\n",
      "\n",
      "Unfortunately, the cost of treating malaria is high relative to income, and the illness results in lost wages. C\n",
      "00:29, 19 Mar 2005 (UTC)\n",
      "Sfacets reply to uber \n",
      "  + The following conversation you will find on uber's talk page, it clearly shows he has personal agenda here, he calls other people idiots and now he has others against me, i do not care if all the world is against me, i can manage that, but he is the one who calls people idiots and more... \n",
      "  + No Personal attacks \n",
      "  + With regards to your comments on Talk:Execution_of_Saddam_Hussein#External_Links_.26_Spam.3F: Please see Wikipedia's no personal attacks policy. Comment on content, not on contributors; personal attacks damage the community and deter users. Note that continued personal attacks may lead to blocks for disruption. Please stay cool and keep this in mind while editing. Thank you. Sfacets  \n",
      "  +  \n",
      "  + I only state the facts. Sorry. I dictate my External Links edits per Wikipedia's policy. ~ UBeR   \n",
      "  + Does the policy also cover calling other editors idiots? Comment on the edits, not the editor. Sfacets   \n",
      "  + I don't believe I ever called you an idiot. If I did, I apologize and will remove it. ~ UBeR   \n",
      "  + First of all, he did not apologize, second of all, again, he replied to sfacets (who i believe is an administrator) that he is just following wiki policy, no he is not, as simple as that. \n",
      "  + Why should I waste any more of my time, the above is black and white.\n"
     ]
    }
   ],
   "source": [
    "for text in df['text'].sample(n=5, random_state=614):\n",
    "    print(text)"
   ]
  },
  {
   "cell_type": "markdown",
   "metadata": {},
   "source": [
    "Из выведенной информации видно, что тексты содержащиеся в строках достаточно разнообразны. Они могут быть достаточно объёмные и иметь ссылки и др. Данный текст будем преобразовывать в векторный вид.\n",
    "\n",
    "Дополнительно оценим данные столбца *Unnamed: 0*. Так как в нём отсутствуют дубликаты, то скорее всего он просто является произвольным уникальным номером текста. Для оценки отсутствия его влияния на токсичность текста выведем матрицу Фк-корреляции данного столбца с целевым признаком."
   ]
  },
  {
   "cell_type": "code",
   "execution_count": 8,
   "metadata": {},
   "outputs": [
    {
     "name": "stdout",
     "output_type": "stream",
     "text": [
      "interval columns not set, guessing: ['Unnamed: 0', 'toxic']\n"
     ]
    },
    {
     "data": {
      "text/plain": [
       "<AxesSubplot:>"
      ]
     },
     "execution_count": 8,
     "metadata": {},
     "output_type": "execute_result"
    },
    {
     "data": {
      "image/png": "[encoded data removed]",
      "text/plain": [
       "<Figure size 600x500 with 2 Axes>"
      ]
     },
     "metadata": {},
     "output_type": "display_data"
    }
   ],
   "source": [
    "plt.figure(figsize=(6,5))\n",
    "sns.heatmap(df[['Unnamed: 0', 'toxic']].phik_matrix(),\n",
    "            annot=True, fmt=\".2f\")"
   ]
  },
  {
   "cell_type": "markdown",
   "metadata": {},
   "source": [
    "На основе полученной матрицы исключим столбец *Unnamed: 0* из признаков. \n",
    "\n",
    "Дополнительно проверим дисбаланс классов в датафрейме."
   ]
  },
  {
   "cell_type": "code",
   "execution_count": 9,
   "metadata": {},
   "outputs": [
    {
     "data": {
      "text/plain": [
       "0    0.898388\n",
       "1    0.101612\n",
       "Name: toxic, dtype: float64"
      ]
     },
     "execution_count": 9,
     "metadata": {},
     "output_type": "execute_result"
    }
   ],
   "source": [
    "df['toxic'].value_counts(normalize=True)"
   ]
  },
  {
   "cell_type": "markdown",
   "metadata": {},
   "source": [
    "Из полученной информации видно, что датафрейм имеет значительный дисбаланс классов. Таким, образом при обработке датафрейма необходимо будет выполнить дополнительные работы по балансировке датафрейма."
   ]
  },
  {
   "cell_type": "markdown",
   "metadata": {},
   "source": [
    "### Обработка данных"
   ]
  },
  {
   "cell_type": "markdown",
   "metadata": {},
   "source": [
    "Обработку данных будем выполнять в несколько этапов:\n",
    "1. Выполним лемметизацию и чистку текста;\n",
    "2. Проведём деление датафрейма на тренировочную, валидационную и тестовую выборку;\n",
    "3. Векторизируем текстовые признаки;\n",
    "4. Ребалансируем данные по целевому показателю."
   ]
  },
  {
   "cell_type": "markdown",
   "metadata": {},
   "source": [
    "#### Лемметизация и чистка текста"
   ]
  },
  {
   "cell_type": "markdown",
   "metadata": {},
   "source": [
    "Перед лемметизацией и чисткой текста приведём его в нижний регистр."
   ]
  },
  {
   "cell_type": "code",
   "execution_count": 10,
   "metadata": {},
   "outputs": [],
   "source": [
    "df['text'] = df['text'].str.lower()"
   ]
  },
  {
   "cell_type": "markdown",
   "metadata": {},
   "source": [
    "Напишем функции **lemm** и **clear_text** для лемметизации и чистки текста и применим их к датафрейму. Колонку с обработанным текстом запишем в исходный датафрейм под именем *lemm_text*."
   ]
  },
  {
   "cell_type": "code",
   "execution_count": 11,
   "metadata": {},
   "outputs": [],
   "source": [
    "def clear_text(text):\n",
    "    cleared_text = ' '.join(re.sub(r\"http\\S+|www\\S+|#\\S+|@\\S+\", \" \", text).split())\n",
    "    cleared_text = re.sub(r\"[^a-zA-Z.'\\s]\", \" \", cleared_text)\n",
    "    return ' '.join(cleared_text.split())"
   ]
  },
  {
   "cell_type": "code",
   "execution_count": 12,
   "metadata": {
    "scrolled": true
   },
   "outputs": [],
   "source": [
    "nlp = spacy.load(\"en_core_web_sm\", disable=['parser', 'ner'])\n",
    "\n",
    "def lemm(text):\n",
    "    doc = nlp(text)\n",
    "    lemmas = [(token.lemma_, token.pos_) for token in doc]\n",
    "    return ' '.join([lemma[0] for lemma in lemmas])"
   ]
  },
  {
   "cell_type": "code",
   "execution_count": 13,
   "metadata": {},
   "outputs": [
    {
     "name": "stderr",
     "output_type": "stream",
     "text": [
      "100%|█████████████████████████████████████████████████████████████████████████| 159292/159292 [11:24<00:00, 232.70it/s]\n"
     ]
    }
   ],
   "source": [
    "tqdm.pandas()\n",
    "df['lemm_text'] = df['text'].apply(clear_text)\n",
    "df['lemm_text'] = df['lemm_text'].progress_apply(lemm)"
   ]
  },
  {
   "cell_type": "markdown",
   "metadata": {},
   "source": [
    "Для оценки результата выведем на экран первые пять строк датафрейма."
   ]
  },
  {
   "cell_type": "code",
   "execution_count": 14,
   "metadata": {
    "scrolled": true
   },
   "outputs": [
    {
     "data": {
      "text/html": [
       "<div>\n",
       "<style scoped>\n",
       "    .dataframe tbody tr th:only-of-type {\n",
       "        vertical-align: middle;\n",
       "    }\n",
       "\n",
       "    .dataframe tbody tr th {\n",
       "        vertical-align: top;\n",
       "    }\n",
       "\n",
       "    .dataframe thead th {\n",
       "        text-align: right;\n",
       "    }\n",
       "</style>\n",
       "<table border=\"1\" class=\"dataframe\">\n",
       "  <thead>\n",
       "    <tr style=\"text-align: right;\">\n",
       "      <th></th>\n",
       "      <th>Unnamed: 0</th>\n",
       "      <th>text</th>\n",
       "      <th>toxic</th>\n",
       "      <th>lemm_text</th>\n",
       "    </tr>\n",
       "  </thead>\n",
       "  <tbody>\n",
       "    <tr>\n",
       "      <th>0</th>\n",
       "      <td>0</td>\n",
       "      <td>explanation\\nwhy the edits made under my usern...</td>\n",
       "      <td>0</td>\n",
       "      <td>explanation why the edit make under my usernam...</td>\n",
       "    </tr>\n",
       "    <tr>\n",
       "      <th>1</th>\n",
       "      <td>1</td>\n",
       "      <td>d'aww! he matches this background colour i'm s...</td>\n",
       "      <td>0</td>\n",
       "      <td>d'aww he match this background colour I be see...</td>\n",
       "    </tr>\n",
       "    <tr>\n",
       "      <th>2</th>\n",
       "      <td>2</td>\n",
       "      <td>hey man, i'm really not trying to edit war. it...</td>\n",
       "      <td>0</td>\n",
       "      <td>hey man I be really not try to edit war . it b...</td>\n",
       "    </tr>\n",
       "    <tr>\n",
       "      <th>3</th>\n",
       "      <td>3</td>\n",
       "      <td>\"\\nmore\\ni can't make any real suggestions on ...</td>\n",
       "      <td>0</td>\n",
       "      <td>more I can not make any real suggestion on imp...</td>\n",
       "    </tr>\n",
       "    <tr>\n",
       "      <th>4</th>\n",
       "      <td>4</td>\n",
       "      <td>you, sir, are my hero. any chance you remember...</td>\n",
       "      <td>0</td>\n",
       "      <td>you sir be my hero . any chance you remember w...</td>\n",
       "    </tr>\n",
       "  </tbody>\n",
       "</table>\n",
       "</div>"
      ],
      "text/plain": [
       "   Unnamed: 0                                               text  toxic  \\\n",
       "0           0  explanation\\nwhy the edits made under my usern...      0   \n",
       "1           1  d'aww! he matches this background colour i'm s...      0   \n",
       "2           2  hey man, i'm really not trying to edit war. it...      0   \n",
       "3           3  \"\\nmore\\ni can't make any real suggestions on ...      0   \n",
       "4           4  you, sir, are my hero. any chance you remember...      0   \n",
       "\n",
       "                                           lemm_text  \n",
       "0  explanation why the edit make under my usernam...  \n",
       "1  d'aww he match this background colour I be see...  \n",
       "2  hey man I be really not try to edit war . it b...  \n",
       "3  more I can not make any real suggestion on imp...  \n",
       "4  you sir be my hero . any chance you remember w...  "
      ]
     },
     "execution_count": 14,
     "metadata": {},
     "output_type": "execute_result"
    }
   ],
   "source": [
    "df.head()"
   ]
  },
  {
   "cell_type": "markdown",
   "metadata": {},
   "source": [
    "Преобразрвание текста выполнено успешно."
   ]
  },
  {
   "cell_type": "markdown",
   "metadata": {},
   "source": [
    "#### Деление датафрейма на выборки"
   ]
  },
  {
   "cell_type": "markdown",
   "metadata": {},
   "source": [
    "Выделим из датафрейма столбец-признак и целевую переменную."
   ]
  },
  {
   "cell_type": "code",
   "execution_count": 15,
   "metadata": {},
   "outputs": [],
   "source": [
    "features = df['lemm_text']\n",
    "target = df['toxic']"
   ]
  },
  {
   "cell_type": "markdown",
   "metadata": {},
   "source": [
    "Разделим датафрейм на тренировочную, валидационную и тестовую выборки в соотношении 0,6/0,2/0,2."
   ]
  },
  {
   "cell_type": "code",
   "execution_count": 16,
   "metadata": {},
   "outputs": [],
   "source": [
    "train_features, test_features, train_target, test_target = train_test_split(features, \n",
    "                                                                            target, \n",
    "                                                                            test_size=0.4, \n",
    "                                                                            random_state=9846, \n",
    "                                                                            stratify=target\n",
    "                                                                           )\n",
    "\n",
    "valid_features, test_features, valid_target, test_target = train_test_split(test_features, \n",
    "                                                                            test_target, \n",
    "                                                                            test_size=0.5, \n",
    "                                                                            random_state=9846, \n",
    "                                                                            stratify=test_target)"
   ]
  },
  {
   "cell_type": "markdown",
   "metadata": {},
   "source": [
    "Для проверки выведем на экран размерности полученных датафреймов."
   ]
  },
  {
   "cell_type": "code",
   "execution_count": 17,
   "metadata": {},
   "outputs": [
    {
     "name": "stdout",
     "output_type": "stream",
     "text": [
      "(95575,) (95575,) \n",
      " (31858,) (31858,) \n",
      " (31859,) (31859,)\n"
     ]
    }
   ],
   "source": [
    "print(train_features.shape, train_target.shape, '\\n', \n",
    "      valid_features.shape, valid_target.shape, '\\n', \n",
    "      test_features.shape, test_target.shape)"
   ]
  },
  {
   "cell_type": "markdown",
   "metadata": {},
   "source": [
    "Деление выполнено успешно."
   ]
  },
  {
   "cell_type": "markdown",
   "metadata": {},
   "source": [
    "#### Векторизация текстовых признаков"
   ]
  },
  {
   "cell_type": "markdown",
   "metadata": {},
   "source": [
    "Векторизацию текста будем выполнять путём вычесления TFIDF показателей. Для этого создадим счётчик, указав в нём стоп-слова."
   ]
  },
  {
   "cell_type": "code",
   "execution_count": 18,
   "metadata": {},
   "outputs": [],
   "source": [
    "count_tf_idf = TfidfVectorizer(stop_words='english')"
   ]
  },
  {
   "cell_type": "markdown",
   "metadata": {},
   "source": [
    "Выполним векторизацию текста."
   ]
  },
  {
   "cell_type": "code",
   "execution_count": 19,
   "metadata": {},
   "outputs": [],
   "source": [
    "train_features = count_tf_idf.fit_transform(train_features)\n",
    "valid_features = count_tf_idf.transform(valid_features)\n",
    "test_features = count_tf_idf.transform(test_features)"
   ]
  },
  {
   "cell_type": "markdown",
   "metadata": {},
   "source": [
    "Выполним проверку размерностей получнных признаков."
   ]
  },
  {
   "cell_type": "code",
   "execution_count": 20,
   "metadata": {},
   "outputs": [
    {
     "data": {
      "text/plain": [
       "(95575, 107379)"
      ]
     },
     "execution_count": 20,
     "metadata": {},
     "output_type": "execute_result"
    }
   ],
   "source": [
    "train_features.shape"
   ]
  },
  {
   "cell_type": "code",
   "execution_count": 21,
   "metadata": {},
   "outputs": [
    {
     "data": {
      "text/plain": [
       "(31858, 107379)"
      ]
     },
     "execution_count": 21,
     "metadata": {},
     "output_type": "execute_result"
    }
   ],
   "source": [
    "valid_features.shape"
   ]
  },
  {
   "cell_type": "code",
   "execution_count": 22,
   "metadata": {},
   "outputs": [
    {
     "data": {
      "text/plain": [
       "(31859, 107379)"
      ]
     },
     "execution_count": 22,
     "metadata": {},
     "output_type": "execute_result"
    }
   ],
   "source": [
    "test_features.shape"
   ]
  },
  {
   "cell_type": "markdown",
   "metadata": {},
   "source": [
    "Векторизация выполнена успешно. Стоит отметить большое количество признаков, которое получильсь при векторизации."
   ]
  },
  {
   "cell_type": "markdown",
   "metadata": {},
   "source": [
    "#### Балансировка классов"
   ]
  },
  {
   "cell_type": "markdown",
   "metadata": {},
   "source": [
    "Балансировку классов будем выполнять с помощью библиотеки *imblearn*. Так как количество данных для обучения достаточно много, мы будем балансировать данные путём уменьшения выборки с помощью инструмента *RandomUnderSampler*."
   ]
  },
  {
   "cell_type": "markdown",
   "metadata": {},
   "source": [
    "Создадим преобразователь *rus* и применим его к тренировочным данным. Результаты запишем в переменные *train_features_rus* и *train_target_rus*."
   ]
  },
  {
   "cell_type": "code",
   "execution_count": 23,
   "metadata": {},
   "outputs": [
    {
     "name": "stdout",
     "output_type": "stream",
     "text": [
      "Wall time: 2.12 ms\n"
     ]
    }
   ],
   "source": [
    "%%time\n",
    "rus = RandomUnderSampler(random_state=984)\n",
    "train_features_rus, train_target_rus = rus.fit_resample(train_features, train_target)"
   ]
  },
  {
   "cell_type": "markdown",
   "metadata": {},
   "source": [
    "Для оценки результата выведем на экран размерность полученных данных и оценим дисбаланс."
   ]
  },
  {
   "cell_type": "code",
   "execution_count": 24,
   "metadata": {},
   "outputs": [
    {
     "data": {
      "text/plain": [
       "(19424, 107379)"
      ]
     },
     "execution_count": 24,
     "metadata": {},
     "output_type": "execute_result"
    }
   ],
   "source": [
    "train_features_rus.shape"
   ]
  },
  {
   "cell_type": "code",
   "execution_count": 25,
   "metadata": {
    "scrolled": true
   },
   "outputs": [
    {
     "data": {
      "text/plain": [
       "0    0.5\n",
       "1    0.5\n",
       "Name: toxic, dtype: float64"
      ]
     },
     "execution_count": 25,
     "metadata": {},
     "output_type": "execute_result"
    }
   ],
   "source": [
    "train_target_rus.value_counts(normalize=True)"
   ]
  },
  {
   "cell_type": "markdown",
   "metadata": {},
   "source": [
    "Количество строк сократилось более чем в четыре раза, а баланс классов выравнен."
   ]
  },
  {
   "cell_type": "markdown",
   "metadata": {},
   "source": [
    "***Выводы***\n",
    "\n",
    "По результатам анализа данных установлено:\n",
    "1. В исходном датафрейме имеется столбец \"*Unnamed: 0*\", который является аналогом индексов строк таблицы и не может быть включён в признаки. В качестве столбцов признаков будет использоваться только столбец с текстом.\n",
    "2. Дубликаты и пропуска в датафрейме отсутствуют.\n",
    "3. Исходный датафрейм имеет дисбаланс классов по целевому столбцу в соотношении 1:9. \n",
    "\n",
    "При подготовке датафрейма выполнены следующие преобразования:\n",
    "1. Текстовые признаки \"почищены\" и лемметизорованы.\n",
    "2. Выполнено деление датафрейма на тренировочную, валидационную и тестовую выборки;\n",
    "3. Выполнена векторизация текстовых признаков путём расчёта показателей TFIDF.\n",
    "4. Для тренировочных данных выполнена балансировка классов по целевому показателю. Обучение моделей будет выполняться как по исходным тренировочным данным, так и по преобразованным (сбалансированным)."
   ]
  },
  {
   "cell_type": "markdown",
   "metadata": {},
   "source": [
    "## Создание моделей"
   ]
  },
  {
   "cell_type": "markdown",
   "metadata": {},
   "source": [
    "Для решения поставленной задачи будем разрабатывать следующие модели:\n",
    "1. Модели логистической регрессии:\n",
    "    1. Модель *model_lr_base*, обученной на исходных несбалансированных данных;\n",
    "    2. Модель *model_lr_rus*, обученной на сбалансированных данных;\n",
    "2. Модели на основе случаного леса, обученной на сбалансированных данных:\n",
    "    1. Модель *model_rf_base*, обученной на исходных несбалансированных данных;\n",
    "    2. Модель *model_rf_rus*, обученной на сбалансированных данных;\n",
    "3. Модели градиентного бустинга с линейным классификатором:\n",
    "    1. Модель *model_sgd_base*, обученной на исходных несбалансированных данных;\n",
    "    2. Модель *model_sgd_rus*, обученной на сбалансированных данных;\n",
    "4. Модель *model_cb* градиентного бустинга на основе *CatBoost*, обученную только на сбалансированных данных\n",
    "\n",
    "Результаты работы каждой из моделей будем сводить в таблицу *model_pivot*, имеющей следующие столбцы:\n",
    "1. *model* - название модели;\n",
    "2. *data_processing_method* - метод балансирования классов, применённый к исходным данным;\n",
    "3. *threshold* - значение порога, при котором было получено максимальное значение F1-меры;\n",
    "5. *f1_score_valid* - значение F1-меры, полученное на валидационных данных.\n",
    "\n",
    "Инициируем данную таблицу."
   ]
  },
  {
   "cell_type": "code",
   "execution_count": 26,
   "metadata": {},
   "outputs": [],
   "source": [
    "model_pivot = pd.DataFrame(\n",
    "    columns=['model', 'data_processing_method', 'threshold', 'f1_score_valid']\n",
    ")"
   ]
  },
  {
   "cell_type": "markdown",
   "metadata": {},
   "source": [
    "Дополнительно напишем функцию, которая на входе будет принимать обученную модель, данные-признаки и целевые значения. При выполнении, функция будет определять оптимальное значение порога, при котором будет достигаться максимальное значение F1-меры, выводить их на экран и выдавать на выходе. Кроме того, функция будет выводить график значения F1-меры в зависимости от порога."
   ]
  },
  {
   "cell_type": "code",
   "execution_count": 27,
   "metadata": {},
   "outputs": [],
   "source": [
    "def threshold_selection(model, features, target):\n",
    "    probabilities = model.predict_proba(features)\n",
    "    probabilities_one = probabilities[:, 1]\n",
    "\n",
    "    list_f1 = []\n",
    "    list_threshold = []\n",
    "    best_f1 = 0\n",
    "\n",
    "    for threshold in np.arange(0, 1, 0.01):\n",
    "        predicted = probabilities_one > threshold\n",
    "        f1 = f1_score(target, predicted)\n",
    "        list_f1.append(f1)\n",
    "        list_threshold.append(threshold)\n",
    "        if f1>best_f1:\n",
    "            best_f1 = f1\n",
    "            best_threshold = threshold\n",
    "    \n",
    "    plt.figure(figsize=(8, 6))\n",
    "    plt.step(list_threshold, list_f1, where='post')\n",
    "    plt.xlabel('Порог')\n",
    "    plt.ylabel('F1-мера')\n",
    "    plt.ylim([0.0, 1.05])\n",
    "    plt.xlim([0.0, 1.0])\n",
    "    plt.title('Зависимость F1-меры от порога\\n')\n",
    "    plt.grid()\n",
    "    plt.show()\n",
    "    \n",
    "    print(f'Значение F1-меры для модели составляет {best_f1} при значении порога {best_threshold}')\n",
    "    return best_f1, best_threshold"
   ]
  },
  {
   "cell_type": "markdown",
   "metadata": {},
   "source": [
    "### Модель логистической регрессии"
   ]
  },
  {
   "cell_type": "markdown",
   "metadata": {},
   "source": [
    "#### Создание модели на основе исходной выборки"
   ]
  },
  {
   "cell_type": "markdown",
   "metadata": {},
   "source": [
    "Инициируем модель и выполним её кросс-валидацию."
   ]
  },
  {
   "cell_type": "code",
   "execution_count": 28,
   "metadata": {},
   "outputs": [],
   "source": [
    "model_lr_base = LogisticRegression(n_jobs=-1)"
   ]
  },
  {
   "cell_type": "code",
   "execution_count": 29,
   "metadata": {
    "scrolled": true
   },
   "outputs": [
    {
     "name": "stdout",
     "output_type": "stream",
     "text": [
      "Wall time: 5.74 s\n"
     ]
    },
    {
     "data": {
      "text/plain": [
       "0.7105692870854311"
      ]
     },
     "execution_count": 29,
     "metadata": {},
     "output_type": "execute_result"
    }
   ],
   "source": [
    "%%time\n",
    "f1_train_cv_model_lr_base = cross_val_score(model_lr_base, train_features,  train_target, n_jobs=-1, scoring='f1').mean()\n",
    "f1_train_cv_model_lr_base"
   ]
  },
  {
   "cell_type": "markdown",
   "metadata": {},
   "source": [
    "Значение F1-меры, полученное при кросс-валидации составляет 0,710. Обучим данную модель и определим оптимальное значение порога предсказания и максимальное значение F1-меры для валидационных данных."
   ]
  },
  {
   "cell_type": "code",
   "execution_count": 30,
   "metadata": {},
   "outputs": [
    {
     "data": {
      "text/plain": [
       "LogisticRegression(n_jobs=-1)"
      ]
     },
     "execution_count": 30,
     "metadata": {},
     "output_type": "execute_result"
    }
   ],
   "source": [
    "model_lr_base.fit(train_features, train_target)"
   ]
  },
  {
   "cell_type": "code",
   "execution_count": 31,
   "metadata": {
    "scrolled": false
   },
   "outputs": [
    {
     "data": {
      "image/png": "[encoded data removed]",
      "text/plain": [
       "<Figure size 800x600 with 1 Axes>"
      ]
     },
     "metadata": {},
     "output_type": "display_data"
    },
    {
     "name": "stdout",
     "output_type": "stream",
     "text": [
      "Значение F1-меры для модели составляет 0.7770466717674062 при значении порога 0.21\n"
     ]
    }
   ],
   "source": [
    "f1_valid, threshold = threshold_selection(model_lr_base, valid_features, valid_target)"
   ]
  },
  {
   "cell_type": "markdown",
   "metadata": {},
   "source": [
    "Оптимальное значение порога составляет 0,21, а значение F1-меры 0,777. Внесём полученные данные в сводную таблицу."
   ]
  },
  {
   "cell_type": "code",
   "execution_count": 32,
   "metadata": {},
   "outputs": [],
   "source": [
    "i = 0\n",
    "model_pivot.loc[i] = 'model_lr_base', 'no_metod', threshold, f1_valid\n",
    "i += 1"
   ]
  },
  {
   "cell_type": "markdown",
   "metadata": {},
   "source": [
    "#### Создание модели на основе выборки, сбалансированной методом *RandomUnderSampler*  "
   ]
  },
  {
   "cell_type": "markdown",
   "metadata": {},
   "source": [
    "Инициируем и обучим модель."
   ]
  },
  {
   "cell_type": "code",
   "execution_count": 33,
   "metadata": {},
   "outputs": [],
   "source": [
    "model_lr_rus = LogisticRegression(n_jobs=-1)"
   ]
  },
  {
   "cell_type": "code",
   "execution_count": 34,
   "metadata": {},
   "outputs": [
    {
     "data": {
      "text/plain": [
       "LogisticRegression(n_jobs=-1)"
      ]
     },
     "execution_count": 34,
     "metadata": {},
     "output_type": "execute_result"
    }
   ],
   "source": [
    "model_lr_rus.fit(train_features_rus, train_target_rus)"
   ]
  },
  {
   "cell_type": "markdown",
   "metadata": {},
   "source": [
    "Определим оптимальное значение порога предсказания и максимальное значение F1-меры для валидационных данных."
   ]
  },
  {
   "cell_type": "code",
   "execution_count": 35,
   "metadata": {
    "scrolled": false
   },
   "outputs": [
    {
     "data": {
      "image/png": "[encoded data removed]",
      "text/plain": [
       "<Figure size 800x600 with 1 Axes>"
      ]
     },
     "metadata": {},
     "output_type": "display_data"
    },
    {
     "name": "stdout",
     "output_type": "stream",
     "text": [
      "Значение F1-меры для модели составляет 0.7527825678005958 при значении порога 0.64\n"
     ]
    }
   ],
   "source": [
    "f1_valid, threshold = threshold_selection(model_lr_rus, valid_features, valid_target)"
   ]
  },
  {
   "cell_type": "markdown",
   "metadata": {},
   "source": [
    "Оптимальное значение порога составляет 0,64, а значение F1-меры 0,752. Внесём полученные данные в сводную таблицу."
   ]
  },
  {
   "cell_type": "code",
   "execution_count": 36,
   "metadata": {},
   "outputs": [],
   "source": [
    "model_pivot.loc[i] = 'model_lr_rus', 'RandomUnderSampler', threshold, f1_valid\n",
    "i += 1"
   ]
  },
  {
   "cell_type": "markdown",
   "metadata": {},
   "source": [
    "### Модель случайного леса"
   ]
  },
  {
   "cell_type": "markdown",
   "metadata": {},
   "source": [
    "#### Создание модели на основе исходной выборки"
   ]
  },
  {
   "cell_type": "markdown",
   "metadata": {},
   "source": [
    "Инициируем модель, зададим словарь *param_grid_rf* с перебираемыми гиперпараметрами и выполним их подбор."
   ]
  },
  {
   "cell_type": "code",
   "execution_count": 37,
   "metadata": {},
   "outputs": [],
   "source": [
    "model_rf_base = RandomForestClassifier(random_state=623)"
   ]
  },
  {
   "cell_type": "code",
   "execution_count": 38,
   "metadata": {},
   "outputs": [],
   "source": [
    "param_grid_rf = {\"max_depth\"    : list(range(1,20)),\n",
    "                 \"n_estimators\" : list(range(1,200))\n",
    "                 }"
   ]
  },
  {
   "cell_type": "code",
   "execution_count": 39,
   "metadata": {
    "scrolled": true
   },
   "outputs": [
    {
     "name": "stdout",
     "output_type": "stream",
     "text": [
      "Wall time: 6min 43s\n"
     ]
    },
    {
     "data": {
      "text/plain": [
       "RandomizedSearchCV(estimator=RandomForestClassifier(random_state=623),\n",
       "                   n_iter=30, n_jobs=-1,\n",
       "                   param_distributions={'max_depth': [1, 2, 3, 4, 5, 6, 7, 8, 9,\n",
       "                                                      10, 11, 12, 13, 14, 15,\n",
       "                                                      16, 17, 18, 19],\n",
       "                                        'n_estimators': [1, 2, 3, 4, 5, 6, 7, 8,\n",
       "                                                         9, 10, 11, 12, 13, 14,\n",
       "                                                         15, 16, 17, 18, 19, 20,\n",
       "                                                         21, 22, 23, 24, 25, 26,\n",
       "                                                         27, 28, 29, 30, ...]},\n",
       "                   random_state=623, scoring='f1')"
      ]
     },
     "execution_count": 39,
     "metadata": {},
     "output_type": "execute_result"
    }
   ],
   "source": [
    "%%time\n",
    "rs_rf_base = RandomizedSearchCV(model_rf_base, \n",
    "                                param_grid_rf, \n",
    "                                n_iter=30, \n",
    "                                scoring='f1', \n",
    "                                n_jobs=-1, \n",
    "                                random_state=623)\n",
    "rs_rf_base.fit(train_features, train_target)"
   ]
  },
  {
   "cell_type": "markdown",
   "metadata": {},
   "source": [
    "Определим значение F1-меры, полученное при подборе гиперпараметров."
   ]
  },
  {
   "cell_type": "code",
   "execution_count": 40,
   "metadata": {},
   "outputs": [
    {
     "data": {
      "text/plain": [
       "0.0014389557974962338"
      ]
     },
     "execution_count": 40,
     "metadata": {},
     "output_type": "execute_result"
    }
   ],
   "source": [
    "f1_train_cv_model_rf_base = rs_rf_base.best_score_\n",
    "f1_train_cv_model_rf_base"
   ]
  },
  {
   "cell_type": "markdown",
   "metadata": {},
   "source": [
    "Значение F1-меры, полученное при кросс-валидации составляет 0,001. Перезапишем данную модель и определим оптимальное значение порога предсказания и максимальное значение F1-меры для валидационных данных."
   ]
  },
  {
   "cell_type": "code",
   "execution_count": 41,
   "metadata": {},
   "outputs": [],
   "source": [
    "model_rf_base = rs_rf_base.best_estimator_ "
   ]
  },
  {
   "cell_type": "code",
   "execution_count": 42,
   "metadata": {
    "scrolled": false
   },
   "outputs": [
    {
     "data": {
      "image/png": "[encoded data removed]",
      "text/plain": [
       "<Figure size 800x600 with 1 Axes>"
      ]
     },
     "metadata": {},
     "output_type": "display_data"
    },
    {
     "name": "stdout",
     "output_type": "stream",
     "text": [
      "Значение F1-меры для модели составляет 0.6568478590950501 при значении порога 0.12\n"
     ]
    }
   ],
   "source": [
    "f1_valid, threshold = threshold_selection(model_rf_base, valid_features, valid_target)"
   ]
  },
  {
   "cell_type": "markdown",
   "metadata": {},
   "source": [
    "Оптимальное значение порога составляет 0,12, а значение F1-меры 0,656. Внесём полученные данные в сводную таблицу."
   ]
  },
  {
   "cell_type": "code",
   "execution_count": 43,
   "metadata": {},
   "outputs": [],
   "source": [
    "model_pivot.loc[i] = 'model_rf_base', 'no_metod', threshold, f1_valid\n",
    "i += 1"
   ]
  },
  {
   "cell_type": "markdown",
   "metadata": {},
   "source": [
    "#### Создание модели на основе выборки, сбалансированной методом *RandomUnderSampler*  "
   ]
  },
  {
   "cell_type": "markdown",
   "metadata": {},
   "source": [
    "Инициируем модель, зададим словарь *param_grid_rf* с перебираемыми гиперпараметрами и выполним их подбор."
   ]
  },
  {
   "cell_type": "code",
   "execution_count": 44,
   "metadata": {},
   "outputs": [],
   "source": [
    "model_rf_rus = RandomForestClassifier(random_state=623)"
   ]
  },
  {
   "cell_type": "code",
   "execution_count": 45,
   "metadata": {},
   "outputs": [],
   "source": [
    "param_grid_rf = {\"max_depth\"    : list(range(1,20)),\n",
    "                 \"n_estimators\" : list(range(1,200))\n",
    "                 }"
   ]
  },
  {
   "cell_type": "code",
   "execution_count": 46,
   "metadata": {
    "scrolled": false
   },
   "outputs": [
    {
     "name": "stdout",
     "output_type": "stream",
     "text": [
      "Wall time: 1min 1s\n"
     ]
    },
    {
     "data": {
      "text/plain": [
       "RandomizedSearchCV(estimator=RandomForestClassifier(random_state=623),\n",
       "                   n_iter=30, n_jobs=-1,\n",
       "                   param_distributions={'max_depth': [1, 2, 3, 4, 5, 6, 7, 8, 9,\n",
       "                                                      10, 11, 12, 13, 14, 15,\n",
       "                                                      16, 17, 18, 19],\n",
       "                                        'n_estimators': [1, 2, 3, 4, 5, 6, 7, 8,\n",
       "                                                         9, 10, 11, 12, 13, 14,\n",
       "                                                         15, 16, 17, 18, 19, 20,\n",
       "                                                         21, 22, 23, 24, 25, 26,\n",
       "                                                         27, 28, 29, 30, ...]},\n",
       "                   random_state=623, scoring='f1')"
      ]
     },
     "execution_count": 46,
     "metadata": {},
     "output_type": "execute_result"
    }
   ],
   "source": [
    "%%time\n",
    "rs_rf_rus = RandomizedSearchCV(model_rf_rus, \n",
    "                                param_grid_rf, \n",
    "                                n_iter=30, \n",
    "                                scoring='f1', \n",
    "                                n_jobs=-1, \n",
    "                                random_state=623)\n",
    "rs_rf_rus.fit(train_features_rus, train_target_rus)"
   ]
  },
  {
   "cell_type": "markdown",
   "metadata": {},
   "source": [
    "Перезапишем данную модель и определим оптимальное значение порога предсказания и максимальное значение F1-меры для валидационных данных."
   ]
  },
  {
   "cell_type": "code",
   "execution_count": 47,
   "metadata": {},
   "outputs": [],
   "source": [
    "model_rf_rus = rs_rf_rus.best_estimator_"
   ]
  },
  {
   "cell_type": "code",
   "execution_count": 48,
   "metadata": {
    "scrolled": false
   },
   "outputs": [
    {
     "data": {
      "image/png": "[encoded data removed]",
      "text/plain": [
       "<Figure size 800x600 with 1 Axes>"
      ]
     },
     "metadata": {},
     "output_type": "display_data"
    },
    {
     "name": "stdout",
     "output_type": "stream",
     "text": [
      "Значение F1-меры для модели составляет 0.6722606120434352 при значении порога 0.53\n"
     ]
    }
   ],
   "source": [
    "f1_valid, threshold = threshold_selection(model_rf_rus, valid_features, valid_target)"
   ]
  },
  {
   "cell_type": "markdown",
   "metadata": {},
   "source": [
    "Оптимальное значение порога составляет 0,53, а значение F1-меры 0,672. Внесём полученные данные в сводную таблицу."
   ]
  },
  {
   "cell_type": "code",
   "execution_count": 49,
   "metadata": {},
   "outputs": [],
   "source": [
    "model_pivot.loc[i] = 'model_rf_rus', 'RandomUnderSampler', threshold, f1_valid\n",
    "i += 1"
   ]
  },
  {
   "cell_type": "markdown",
   "metadata": {},
   "source": [
    "### Модель градиентного бустинга с линейным классификатором"
   ]
  },
  {
   "cell_type": "markdown",
   "metadata": {},
   "source": [
    "#### Создание модели на основе исходной выборки"
   ]
  },
  {
   "cell_type": "markdown",
   "metadata": {},
   "source": [
    "Инициируем модель, зададим словарь *param_grid_sgd* с перебираемыми гиперпараметрами и выполним их подбор."
   ]
  },
  {
   "cell_type": "code",
   "execution_count": 50,
   "metadata": {},
   "outputs": [],
   "source": [
    "model_sgd_base = SGDClassifier(random_state=654, n_jobs=-1)"
   ]
  },
  {
   "cell_type": "code",
   "execution_count": 51,
   "metadata": {},
   "outputs": [],
   "source": [
    "param_grid_sgd = {\"penalty\" : ['l1', 'l2', 'elasticnet'],\n",
    "                  \"loss\":['hinge', 'log_loss', 'modified_huber']\n",
    "                 }\n"
   ]
  },
  {
   "cell_type": "code",
   "execution_count": 52,
   "metadata": {
    "scrolled": false
   },
   "outputs": [
    {
     "name": "stderr",
     "output_type": "stream",
     "text": [
      "C:\\Users\\AAV19\\anaconda3\\lib\\site-packages\\sklearn\\model_selection\\_validation.py:372: FitFailedWarning: \n",
      "15 fits failed out of a total of 45.\n",
      "The score on these train-test partitions for these parameters will be set to nan.\n",
      "If these failures are not expected, you can try to debug them by setting error_score='raise'.\n",
      "\n",
      "Below are more details about the failures:\n",
      "--------------------------------------------------------------------------------\n",
      "15 fits failed with the following error:\n",
      "Traceback (most recent call last):\n",
      "  File \"C:\\Users\\AAV19\\anaconda3\\lib\\site-packages\\sklearn\\model_selection\\_validation.py\", line 680, in _fit_and_score\n",
      "    estimator.fit(X_train, y_train, **fit_params)\n",
      "  File \"C:\\Users\\AAV19\\anaconda3\\lib\\site-packages\\sklearn\\linear_model\\_stochastic_gradient.py\", line 883, in fit\n",
      "    return self._fit(\n",
      "  File \"C:\\Users\\AAV19\\anaconda3\\lib\\site-packages\\sklearn\\linear_model\\_stochastic_gradient.py\", line 649, in _fit\n",
      "    self._validate_params()\n",
      "  File \"C:\\Users\\AAV19\\anaconda3\\lib\\site-packages\\sklearn\\linear_model\\_stochastic_gradient.py\", line 162, in _validate_params\n",
      "    raise ValueError(\"The loss %s is not supported. \" % self.loss)\n",
      "ValueError: The loss log_loss is not supported. \n",
      "\n",
      "  warnings.warn(some_fits_failed_message, FitFailedWarning)\n",
      "C:\\Users\\AAV19\\anaconda3\\lib\\site-packages\\sklearn\\model_selection\\_search.py:969: UserWarning: One or more of the test scores are non-finite: [0.68676893 0.64389857 0.63958823        nan        nan        nan\n",
      " 0.74122837 0.73228206 0.73186559]\n",
      "  warnings.warn(\n"
     ]
    },
    {
     "name": "stdout",
     "output_type": "stream",
     "text": [
      "Wall time: 2.91 s\n"
     ]
    },
    {
     "data": {
      "text/plain": [
       "GridSearchCV(estimator=SGDClassifier(n_jobs=-1, random_state=654), n_jobs=-1,\n",
       "             param_grid={'loss': ['hinge', 'log_loss', 'modified_huber'],\n",
       "                         'penalty': ['l1', 'l2', 'elasticnet']},\n",
       "             scoring='f1')"
      ]
     },
     "execution_count": 52,
     "metadata": {},
     "output_type": "execute_result"
    }
   ],
   "source": [
    "%%time\n",
    "gs_sgd_base = GridSearchCV(model_sgd_base,\n",
    "                           param_grid_sgd,\n",
    "                           scoring='f1',\n",
    "                           n_jobs=-1\n",
    "                          )\n",
    "gs_sgd_base.fit(train_features, train_target)"
   ]
  },
  {
   "cell_type": "markdown",
   "metadata": {},
   "source": [
    "Определим значение F1-меры, полученное при подборе гиперпараметров."
   ]
  },
  {
   "cell_type": "code",
   "execution_count": 53,
   "metadata": {},
   "outputs": [
    {
     "data": {
      "text/plain": [
       "0.7412283688859559"
      ]
     },
     "execution_count": 53,
     "metadata": {},
     "output_type": "execute_result"
    }
   ],
   "source": [
    "f1_train_cv_model_sgd_base = gs_sgd_base.best_score_\n",
    "f1_train_cv_model_sgd_base"
   ]
  },
  {
   "cell_type": "markdown",
   "metadata": {},
   "source": [
    "Значение F1-меры, полученное при кросс-валидации составляет 0,741. Перезапишем данную модель и определим оптимальное значение порога предсказания и максимальное значение F1-меры для валидационных данных."
   ]
  },
  {
   "cell_type": "code",
   "execution_count": 54,
   "metadata": {},
   "outputs": [],
   "source": [
    "model_sgd_base = gs_sgd_base.best_estimator_ "
   ]
  },
  {
   "cell_type": "code",
   "execution_count": 55,
   "metadata": {
    "scrolled": false
   },
   "outputs": [
    {
     "data": {
      "image/png": "[encoded data removed]",
      "text/plain": [
       "<Figure size 800x600 with 1 Axes>"
      ]
     },
     "metadata": {},
     "output_type": "display_data"
    },
    {
     "name": "stdout",
     "output_type": "stream",
     "text": [
      "Значение F1-меры для модели составляет 0.7603935258648048 при значении порога 0.29\n"
     ]
    }
   ],
   "source": [
    "f1_valid, threshold = threshold_selection(model_sgd_base, valid_features, valid_target)"
   ]
  },
  {
   "cell_type": "markdown",
   "metadata": {},
   "source": [
    "Оптимальное значение порога составляет 0,29, а значение F1-меры 0,760. Внесём полученные данные в сводную таблицу."
   ]
  },
  {
   "cell_type": "code",
   "execution_count": 56,
   "metadata": {},
   "outputs": [],
   "source": [
    "model_pivot.loc[i] = 'model_sgd_base', 'no_metod', threshold, f1_valid\n",
    "i += 1"
   ]
  },
  {
   "cell_type": "markdown",
   "metadata": {},
   "source": [
    "#### Создание модели на основе выборки, сбалансированной методом *RandomUnderSampler*  "
   ]
  },
  {
   "cell_type": "markdown",
   "metadata": {},
   "source": [
    "Инициируем модель, зададим словарь *param_grid_sgd* с перебираемыми гиперпараметрами и выполним их подбор."
   ]
  },
  {
   "cell_type": "code",
   "execution_count": 57,
   "metadata": {},
   "outputs": [],
   "source": [
    "model_sgd_rus = SGDClassifier(random_state=654, n_jobs=-1)"
   ]
  },
  {
   "cell_type": "code",
   "execution_count": 58,
   "metadata": {},
   "outputs": [],
   "source": [
    "param_grid_sgd = {\"penalty\" : ['l1', 'l2'],\n",
    "                  \"loss\":['hinge', 'log_loss', 'modified_huber']\n",
    "                 }\n"
   ]
  },
  {
   "cell_type": "code",
   "execution_count": 59,
   "metadata": {
    "scrolled": true
   },
   "outputs": [
    {
     "name": "stdout",
     "output_type": "stream",
     "text": [
      "Wall time: 580 ms\n"
     ]
    },
    {
     "name": "stderr",
     "output_type": "stream",
     "text": [
      "C:\\Users\\AAV19\\anaconda3\\lib\\site-packages\\sklearn\\model_selection\\_validation.py:372: FitFailedWarning: \n",
      "10 fits failed out of a total of 30.\n",
      "The score on these train-test partitions for these parameters will be set to nan.\n",
      "If these failures are not expected, you can try to debug them by setting error_score='raise'.\n",
      "\n",
      "Below are more details about the failures:\n",
      "--------------------------------------------------------------------------------\n",
      "10 fits failed with the following error:\n",
      "Traceback (most recent call last):\n",
      "  File \"C:\\Users\\AAV19\\anaconda3\\lib\\site-packages\\sklearn\\model_selection\\_validation.py\", line 680, in _fit_and_score\n",
      "    estimator.fit(X_train, y_train, **fit_params)\n",
      "  File \"C:\\Users\\AAV19\\anaconda3\\lib\\site-packages\\sklearn\\linear_model\\_stochastic_gradient.py\", line 883, in fit\n",
      "    return self._fit(\n",
      "  File \"C:\\Users\\AAV19\\anaconda3\\lib\\site-packages\\sklearn\\linear_model\\_stochastic_gradient.py\", line 649, in _fit\n",
      "    self._validate_params()\n",
      "  File \"C:\\Users\\AAV19\\anaconda3\\lib\\site-packages\\sklearn\\linear_model\\_stochastic_gradient.py\", line 162, in _validate_params\n",
      "    raise ValueError(\"The loss %s is not supported. \" % self.loss)\n",
      "ValueError: The loss log_loss is not supported. \n",
      "\n",
      "  warnings.warn(some_fits_failed_message, FitFailedWarning)\n",
      "C:\\Users\\AAV19\\anaconda3\\lib\\site-packages\\sklearn\\model_selection\\_search.py:969: UserWarning: One or more of the test scores are non-finite: [0.87634648 0.89118562        nan        nan 0.88911512 0.89482105]\n",
      "  warnings.warn(\n"
     ]
    },
    {
     "data": {
      "text/plain": [
       "GridSearchCV(estimator=SGDClassifier(n_jobs=-1, random_state=654), n_jobs=-1,\n",
       "             param_grid={'loss': ['hinge', 'log_loss', 'modified_huber'],\n",
       "                         'penalty': ['l1', 'l2']},\n",
       "             scoring='f1')"
      ]
     },
     "execution_count": 59,
     "metadata": {},
     "output_type": "execute_result"
    }
   ],
   "source": [
    "%%time\n",
    "gs_sgd_rus = GridSearchCV(model_sgd_rus,\n",
    "                           param_grid_sgd,\n",
    "                           scoring='f1',\n",
    "                           n_jobs=-1\n",
    "                          )\n",
    "gs_sgd_rus.fit(train_features_rus, train_target_rus)"
   ]
  },
  {
   "cell_type": "markdown",
   "metadata": {},
   "source": [
    "Перезапишем модель и определим оптимальное значение порога предсказания и максимальное значение F1-меры для валидационных данных."
   ]
  },
  {
   "cell_type": "code",
   "execution_count": 60,
   "metadata": {},
   "outputs": [],
   "source": [
    "model_sgd_rus = gs_sgd_rus.best_estimator_"
   ]
  },
  {
   "cell_type": "code",
   "execution_count": 61,
   "metadata": {
    "scrolled": false
   },
   "outputs": [
    {
     "data": {
      "image/png": "[encoded data removed]",
      "text/plain": [
       "<Figure size 800x600 with 1 Axes>"
      ]
     },
     "metadata": {},
     "output_type": "display_data"
    },
    {
     "name": "stdout",
     "output_type": "stream",
     "text": [
      "Значение F1-меры для модели составляет 0.7630496678266372 при значении порога 0.6900000000000001\n"
     ]
    }
   ],
   "source": [
    "f1_valid, threshold = threshold_selection(model_sgd_rus, valid_features, valid_target)"
   ]
  },
  {
   "cell_type": "markdown",
   "metadata": {},
   "source": [
    "Оптимальное значение порога составляет 0,69, а значение F1-меры 0,763. Внесём полученные данные в сводную таблицу."
   ]
  },
  {
   "cell_type": "code",
   "execution_count": 62,
   "metadata": {},
   "outputs": [],
   "source": [
    "model_pivot.loc[i] = 'model_sgd_rus', 'RandomUnderSampler', threshold, f1_valid\n",
    "i += 1"
   ]
  },
  {
   "cell_type": "markdown",
   "metadata": {},
   "source": [
    "### Модель градиентного бустинга на основе CatBoost"
   ]
  },
  {
   "cell_type": "markdown",
   "metadata": {},
   "source": [
    "Перед началом создания модели запишем пулы данных."
   ]
  },
  {
   "cell_type": "code",
   "execution_count": 63,
   "metadata": {},
   "outputs": [],
   "source": [
    "train_data = Pool(data=train_features_rus,\n",
    "                  label=train_target_rus\n",
    "                 )"
   ]
  },
  {
   "cell_type": "code",
   "execution_count": 64,
   "metadata": {},
   "outputs": [],
   "source": [
    "valid_data = Pool(data=valid_features)"
   ]
  },
  {
   "cell_type": "code",
   "execution_count": 65,
   "metadata": {},
   "outputs": [],
   "source": [
    "test_data = Pool(data=test_features)"
   ]
  },
  {
   "cell_type": "markdown",
   "metadata": {},
   "source": [
    "Сформируем словарь *params* с гиперпараметрами модели и выполним кросс-валидацию. Отметим, что на данном этапе кросс-валидация выполнялась в несколько итерраций, что бы подобрать значение *learning_rate* при котором наивысшее значение метрики обеспечивалось на итеррации, близкой к тысячной."
   ]
  },
  {
   "cell_type": "code",
   "execution_count": 66,
   "metadata": {},
   "outputs": [],
   "source": [
    "params = {'eval_metric'  : 'F1',\n",
    "          'loss_function': 'Logloss',\n",
    "          'learning_rate': 0.14,\n",
    "          'random_seed'  : 7865\n",
    "         }"
   ]
  },
  {
   "cell_type": "code",
   "execution_count": 67,
   "metadata": {
    "scrolled": true
   },
   "outputs": [
    {
     "data": {
      "application/vnd.jupyter.widget-view+json": {
       "model_id": "dc10196d86744c4b90eebeb1fa02142c",
       "version_major": 2,
       "version_minor": 0
      },
      "text/plain": [
       "MetricVisualizer(layout=Layout(align_self='stretch', height='500px'))"
      ]
     },
     "metadata": {},
     "output_type": "display_data"
    },
    {
     "name": "stdout",
     "output_type": "stream",
     "text": [
      "Training on fold [0/5]\n",
      "\n",
      "bestTest = 0.8845208845\n",
      "bestIteration = 785\n",
      "\n",
      "Training on fold [1/5]\n",
      "\n",
      "bestTest = 0.8964401294\n",
      "bestIteration = 841\n",
      "\n",
      "Training on fold [2/5]\n",
      "\n",
      "bestTest = 0.8966639544\n",
      "bestIteration = 999\n",
      "\n",
      "Training on fold [3/5]\n",
      "\n",
      "bestTest = 0.879848115\n",
      "bestIteration = 915\n",
      "\n",
      "Training on fold [4/5]\n",
      "\n",
      "bestTest = 0.8948076406\n",
      "bestIteration = 958\n",
      "\n",
      "Wall time: 13min 55s\n"
     ]
    }
   ],
   "source": [
    "%%time\n",
    "cv_data = cv(\n",
    "    params = params,\n",
    "    pool = train_data,\n",
    "    fold_count=5,\n",
    "    stratified=True,\n",
    "    verbose=False,\n",
    "    plot=\"True\"\n",
    ")"
   ]
  },
  {
   "cell_type": "markdown",
   "metadata": {},
   "source": [
    "Из графиков видно, что максимальное значение F1-меры получено на итерации, близкой к тысячной, что говорит о хорошо подобранном значении *learning_rate*."
   ]
  },
  {
   "cell_type": "markdown",
   "metadata": {},
   "source": [
    "Создадим модель с подобранными параметрами, обучим её и определим оптимальное значение порога предсказания и максимальное значение F1-меры для валидационных данных."
   ]
  },
  {
   "cell_type": "code",
   "execution_count": 68,
   "metadata": {},
   "outputs": [],
   "source": [
    "model_cb = CatBoostClassifier(**params)"
   ]
  },
  {
   "cell_type": "code",
   "execution_count": 69,
   "metadata": {},
   "outputs": [
    {
     "name": "stdout",
     "output_type": "stream",
     "text": [
      "0:\tlearn: 0.4750352\ttotal: 181ms\tremaining: 3m\n",
      "1:\tlearn: 0.5890599\ttotal: 350ms\tremaining: 2m 54s\n",
      "2:\tlearn: 0.6021336\ttotal: 526ms\tremaining: 2m 54s\n",
      "3:\tlearn: 0.6382298\ttotal: 694ms\tremaining: 2m 52s\n",
      "4:\tlearn: 0.6673001\ttotal: 864ms\tremaining: 2m 51s\n",
      "5:\tlearn: 0.6855577\ttotal: 1.03s\tremaining: 2m 51s\n",
      "6:\tlearn: 0.6971845\ttotal: 1.2s\tremaining: 2m 50s\n",
      "7:\tlearn: 0.6964996\ttotal: 1.38s\tremaining: 2m 50s\n",
      "8:\tlearn: 0.7083853\ttotal: 1.55s\tremaining: 2m 51s\n",
      "9:\tlearn: 0.7238540\ttotal: 1.73s\tremaining: 2m 50s\n",
      "10:\tlearn: 0.7306130\ttotal: 1.9s\tremaining: 2m 50s\n",
      "11:\tlearn: 0.7380770\ttotal: 2.07s\tremaining: 2m 50s\n",
      "12:\tlearn: 0.7491313\ttotal: 2.24s\tremaining: 2m 50s\n",
      "13:\tlearn: 0.7488752\ttotal: 2.42s\tremaining: 2m 50s\n",
      "14:\tlearn: 0.7567262\ttotal: 2.59s\tremaining: 2m 50s\n",
      "15:\tlearn: 0.7644012\ttotal: 2.76s\tremaining: 2m 49s\n",
      "16:\tlearn: 0.7739028\ttotal: 2.93s\tremaining: 2m 49s\n",
      "17:\tlearn: 0.7747270\ttotal: 3.1s\tremaining: 2m 49s\n",
      "18:\tlearn: 0.7831096\ttotal: 3.27s\tremaining: 2m 49s\n",
      "19:\tlearn: 0.7856837\ttotal: 3.44s\tremaining: 2m 48s\n",
      "20:\tlearn: 0.7925213\ttotal: 3.62s\tremaining: 2m 48s\n",
      "21:\tlearn: 0.7924323\ttotal: 3.79s\tremaining: 2m 48s\n",
      "22:\tlearn: 0.7929388\ttotal: 3.96s\tremaining: 2m 48s\n",
      "23:\tlearn: 0.7940342\ttotal: 4.13s\tremaining: 2m 47s\n",
      "24:\tlearn: 0.7964101\ttotal: 4.32s\tremaining: 2m 48s\n",
      "25:\tlearn: 0.7991109\ttotal: 4.49s\tremaining: 2m 48s\n",
      "26:\tlearn: 0.8006720\ttotal: 4.66s\tremaining: 2m 48s\n",
      "27:\tlearn: 0.8037092\ttotal: 4.83s\tremaining: 2m 47s\n",
      "28:\tlearn: 0.8042802\ttotal: 5.03s\tremaining: 2m 48s\n",
      "29:\tlearn: 0.8091158\ttotal: 5.21s\tremaining: 2m 48s\n",
      "30:\tlearn: 0.8134147\ttotal: 5.39s\tremaining: 2m 48s\n",
      "31:\tlearn: 0.8153582\ttotal: 5.56s\tremaining: 2m 48s\n",
      "32:\tlearn: 0.8143171\ttotal: 5.73s\tremaining: 2m 48s\n",
      "33:\tlearn: 0.8149117\ttotal: 5.91s\tremaining: 2m 47s\n",
      "34:\tlearn: 0.8168546\ttotal: 6.09s\tremaining: 2m 47s\n",
      "35:\tlearn: 0.8177287\ttotal: 6.26s\tremaining: 2m 47s\n",
      "36:\tlearn: 0.8222771\ttotal: 6.43s\tremaining: 2m 47s\n",
      "37:\tlearn: 0.8246818\ttotal: 6.6s\tremaining: 2m 47s\n",
      "38:\tlearn: 0.8260105\ttotal: 6.77s\tremaining: 2m 46s\n",
      "39:\tlearn: 0.8276910\ttotal: 6.95s\tremaining: 2m 46s\n",
      "40:\tlearn: 0.8270738\ttotal: 7.12s\tremaining: 2m 46s\n",
      "41:\tlearn: 0.8290718\ttotal: 7.29s\tremaining: 2m 46s\n",
      "42:\tlearn: 0.8296443\ttotal: 7.45s\tremaining: 2m 45s\n",
      "43:\tlearn: 0.8315655\ttotal: 7.62s\tremaining: 2m 45s\n",
      "44:\tlearn: 0.8311901\ttotal: 7.79s\tremaining: 2m 45s\n",
      "45:\tlearn: 0.8315211\ttotal: 7.96s\tremaining: 2m 45s\n",
      "46:\tlearn: 0.8316091\ttotal: 8.13s\tremaining: 2m 44s\n",
      "47:\tlearn: 0.8320767\ttotal: 8.3s\tremaining: 2m 44s\n",
      "48:\tlearn: 0.8351495\ttotal: 8.47s\tremaining: 2m 44s\n",
      "49:\tlearn: 0.8352674\ttotal: 8.63s\tremaining: 2m 44s\n",
      "50:\tlearn: 0.8353929\ttotal: 8.81s\tremaining: 2m 43s\n",
      "51:\tlearn: 0.8359930\ttotal: 8.98s\tremaining: 2m 43s\n",
      "52:\tlearn: 0.8382762\ttotal: 9.15s\tremaining: 2m 43s\n",
      "53:\tlearn: 0.8385863\ttotal: 9.33s\tremaining: 2m 43s\n",
      "54:\tlearn: 0.8390685\ttotal: 9.5s\tremaining: 2m 43s\n",
      "55:\tlearn: 0.8404975\ttotal: 9.67s\tremaining: 2m 42s\n",
      "56:\tlearn: 0.8405177\ttotal: 9.84s\tremaining: 2m 42s\n",
      "57:\tlearn: 0.8418744\ttotal: 10s\tremaining: 2m 42s\n",
      "58:\tlearn: 0.8433429\ttotal: 10.2s\tremaining: 2m 42s\n",
      "59:\tlearn: 0.8441297\ttotal: 10.3s\tremaining: 2m 41s\n",
      "60:\tlearn: 0.8449327\ttotal: 10.5s\tremaining: 2m 41s\n",
      "61:\tlearn: 0.8455303\ttotal: 10.7s\tremaining: 2m 41s\n",
      "62:\tlearn: 0.8460920\ttotal: 10.8s\tremaining: 2m 41s\n",
      "63:\tlearn: 0.8473817\ttotal: 11s\tremaining: 2m 41s\n",
      "64:\tlearn: 0.8477924\ttotal: 11.2s\tremaining: 2m 40s\n",
      "65:\tlearn: 0.8491972\ttotal: 11.3s\tremaining: 2m 40s\n",
      "66:\tlearn: 0.8504839\ttotal: 11.5s\tremaining: 2m 40s\n",
      "67:\tlearn: 0.8513753\ttotal: 11.7s\tremaining: 2m 39s\n",
      "68:\tlearn: 0.8517523\ttotal: 11.8s\tremaining: 2m 39s\n",
      "69:\tlearn: 0.8530622\ttotal: 12s\tremaining: 2m 39s\n",
      "70:\tlearn: 0.8536028\ttotal: 12.2s\tremaining: 2m 39s\n",
      "71:\tlearn: 0.8546180\ttotal: 12.3s\tremaining: 2m 39s\n",
      "72:\tlearn: 0.8560373\ttotal: 12.5s\tremaining: 2m 38s\n",
      "73:\tlearn: 0.8569967\ttotal: 12.7s\tremaining: 2m 38s\n",
      "74:\tlearn: 0.8574189\ttotal: 12.8s\tremaining: 2m 38s\n",
      "75:\tlearn: 0.8579704\ttotal: 13s\tremaining: 2m 38s\n",
      "76:\tlearn: 0.8588128\ttotal: 13.2s\tremaining: 2m 38s\n",
      "77:\tlearn: 0.8590878\ttotal: 13.4s\tremaining: 2m 37s\n",
      "78:\tlearn: 0.8593954\ttotal: 13.5s\tremaining: 2m 37s\n",
      "79:\tlearn: 0.8600578\ttotal: 13.7s\tremaining: 2m 37s\n",
      "80:\tlearn: 0.8618153\ttotal: 13.9s\tremaining: 2m 37s\n",
      "81:\tlearn: 0.8619285\ttotal: 14s\tremaining: 2m 36s\n",
      "82:\tlearn: 0.8631662\ttotal: 14.2s\tremaining: 2m 36s\n",
      "83:\tlearn: 0.8650328\ttotal: 14.4s\tremaining: 2m 36s\n",
      "84:\tlearn: 0.8651641\ttotal: 14.5s\tremaining: 2m 36s\n",
      "85:\tlearn: 0.8656952\ttotal: 14.7s\tremaining: 2m 36s\n",
      "86:\tlearn: 0.8663542\ttotal: 14.9s\tremaining: 2m 35s\n",
      "87:\tlearn: 0.8664822\ttotal: 15s\tremaining: 2m 35s\n",
      "88:\tlearn: 0.8674454\ttotal: 15.2s\tremaining: 2m 35s\n",
      "89:\tlearn: 0.8678926\ttotal: 15.4s\tremaining: 2m 35s\n",
      "90:\tlearn: 0.8690114\ttotal: 15.5s\tremaining: 2m 35s\n",
      "91:\tlearn: 0.8696681\ttotal: 15.7s\tremaining: 2m 35s\n",
      "92:\tlearn: 0.8703339\ttotal: 15.9s\tremaining: 2m 34s\n",
      "93:\tlearn: 0.8706081\ttotal: 16s\tremaining: 2m 34s\n",
      "94:\tlearn: 0.8710386\ttotal: 16.2s\tremaining: 2m 34s\n",
      "95:\tlearn: 0.8712002\ttotal: 16.4s\tremaining: 2m 34s\n",
      "96:\tlearn: 0.8719708\ttotal: 16.6s\tremaining: 2m 34s\n",
      "97:\tlearn: 0.8723655\ttotal: 16.7s\tremaining: 2m 34s\n",
      "98:\tlearn: 0.8729356\ttotal: 16.9s\tremaining: 2m 33s\n",
      "99:\tlearn: 0.8731888\ttotal: 17.1s\tremaining: 2m 33s\n",
      "100:\tlearn: 0.8736883\ttotal: 17.2s\tremaining: 2m 33s\n",
      "101:\tlearn: 0.8750280\ttotal: 17.4s\tremaining: 2m 33s\n",
      "102:\tlearn: 0.8760220\ttotal: 17.6s\tremaining: 2m 33s\n",
      "103:\tlearn: 0.8765633\ttotal: 17.7s\tremaining: 2m 32s\n",
      "104:\tlearn: 0.8769653\ttotal: 17.9s\tremaining: 2m 32s\n",
      "105:\tlearn: 0.8774938\ttotal: 18.1s\tremaining: 2m 32s\n",
      "106:\tlearn: 0.8767246\ttotal: 18.3s\tremaining: 2m 32s\n",
      "107:\tlearn: 0.8778027\ttotal: 18.4s\tremaining: 2m 32s\n",
      "108:\tlearn: 0.8784177\ttotal: 18.6s\tremaining: 2m 31s\n",
      "109:\tlearn: 0.8791086\ttotal: 18.8s\tremaining: 2m 31s\n",
      "110:\tlearn: 0.8795208\ttotal: 18.9s\tremaining: 2m 31s\n",
      "111:\tlearn: 0.8804834\ttotal: 19.1s\tremaining: 2m 31s\n",
      "112:\tlearn: 0.8812479\ttotal: 19.3s\tremaining: 2m 31s\n",
      "113:\tlearn: 0.8823464\ttotal: 19.5s\tremaining: 2m 31s\n",
      "114:\tlearn: 0.8823595\ttotal: 19.6s\tremaining: 2m 31s\n",
      "115:\tlearn: 0.8826679\ttotal: 19.8s\tremaining: 2m 31s\n",
      "116:\tlearn: 0.8823431\ttotal: 20s\tremaining: 2m 31s\n",
      "117:\tlearn: 0.8827040\ttotal: 20.2s\tremaining: 2m 31s\n",
      "118:\tlearn: 0.8834513\ttotal: 20.4s\tremaining: 2m 30s\n",
      "119:\tlearn: 0.8836639\ttotal: 20.6s\tremaining: 2m 30s\n",
      "120:\tlearn: 0.8840757\ttotal: 20.7s\tremaining: 2m 30s\n",
      "121:\tlearn: 0.8846967\ttotal: 20.9s\tremaining: 2m 30s\n",
      "122:\tlearn: 0.8852915\ttotal: 21.1s\tremaining: 2m 30s\n",
      "123:\tlearn: 0.8855284\ttotal: 21.3s\tremaining: 2m 30s\n",
      "124:\tlearn: 0.8859620\ttotal: 21.5s\tremaining: 2m 30s\n",
      "125:\tlearn: 0.8865808\ttotal: 21.6s\tremaining: 2m 30s\n",
      "126:\tlearn: 0.8875694\ttotal: 21.8s\tremaining: 2m 29s\n",
      "127:\tlearn: 0.8880999\ttotal: 22s\tremaining: 2m 29s\n",
      "128:\tlearn: 0.8884944\ttotal: 22.2s\tremaining: 2m 29s\n",
      "129:\tlearn: 0.8893202\ttotal: 22.4s\tremaining: 2m 29s\n",
      "130:\tlearn: 0.8894311\ttotal: 22.5s\tremaining: 2m 29s\n",
      "131:\tlearn: 0.8892461\ttotal: 22.7s\tremaining: 2m 29s\n",
      "132:\tlearn: 0.8897263\ttotal: 22.9s\tremaining: 2m 29s\n",
      "133:\tlearn: 0.8902919\ttotal: 23s\tremaining: 2m 28s\n",
      "134:\tlearn: 0.8907349\ttotal: 23.2s\tremaining: 2m 28s\n",
      "135:\tlearn: 0.8909464\ttotal: 23.4s\tremaining: 2m 28s\n",
      "136:\tlearn: 0.8913525\ttotal: 23.6s\tremaining: 2m 28s\n",
      "137:\tlearn: 0.8918814\ttotal: 23.7s\tremaining: 2m 28s\n",
      "138:\tlearn: 0.8922992\ttotal: 23.9s\tremaining: 2m 28s\n",
      "139:\tlearn: 0.8927305\ttotal: 24.1s\tremaining: 2m 27s\n",
      "140:\tlearn: 0.8928651\ttotal: 24.2s\tremaining: 2m 27s\n",
      "141:\tlearn: 0.8933555\ttotal: 24.4s\tremaining: 2m 27s\n",
      "142:\tlearn: 0.8939067\ttotal: 24.6s\tremaining: 2m 27s\n",
      "143:\tlearn: 0.8944223\ttotal: 24.8s\tremaining: 2m 27s\n",
      "144:\tlearn: 0.8944835\ttotal: 24.9s\tremaining: 2m 27s\n",
      "145:\tlearn: 0.8949610\ttotal: 25.1s\tremaining: 2m 27s\n",
      "146:\tlearn: 0.8950368\ttotal: 25.3s\tremaining: 2m 26s\n",
      "147:\tlearn: 0.8956974\ttotal: 25.5s\tremaining: 2m 26s\n",
      "148:\tlearn: 0.8961857\ttotal: 25.6s\tremaining: 2m 26s\n",
      "149:\tlearn: 0.8969556\ttotal: 25.8s\tremaining: 2m 26s\n",
      "150:\tlearn: 0.8973821\ttotal: 26s\tremaining: 2m 26s\n",
      "151:\tlearn: 0.8973325\ttotal: 26.2s\tremaining: 2m 25s\n",
      "152:\tlearn: 0.8980020\ttotal: 26.3s\tremaining: 2m 25s\n",
      "153:\tlearn: 0.8989470\ttotal: 26.5s\tremaining: 2m 25s\n",
      "154:\tlearn: 0.8993829\ttotal: 26.7s\tremaining: 2m 25s\n",
      "155:\tlearn: 0.8995041\ttotal: 26.9s\tremaining: 2m 25s\n",
      "156:\tlearn: 0.8995041\ttotal: 27s\tremaining: 2m 25s\n",
      "157:\tlearn: 0.8996639\ttotal: 27.2s\tremaining: 2m 25s\n",
      "158:\tlearn: 0.8997135\ttotal: 27.4s\tremaining: 2m 24s\n"
     ]
    },
    {
     "name": "stdout",
     "output_type": "stream",
     "text": [
      "159:\tlearn: 0.9000275\ttotal: 27.6s\tremaining: 2m 24s\n",
      "160:\tlearn: 0.9002479\ttotal: 27.8s\tremaining: 2m 24s\n",
      "161:\tlearn: 0.9006112\ttotal: 27.9s\tremaining: 2m 24s\n",
      "162:\tlearn: 0.9010130\ttotal: 28.1s\tremaining: 2m 24s\n",
      "163:\tlearn: 0.9010239\ttotal: 28.3s\tremaining: 2m 24s\n",
      "164:\tlearn: 0.9013154\ttotal: 28.4s\tremaining: 2m 23s\n",
      "165:\tlearn: 0.9016871\ttotal: 28.6s\tremaining: 2m 23s\n",
      "166:\tlearn: 0.9017366\ttotal: 28.8s\tremaining: 2m 23s\n",
      "167:\tlearn: 0.9018466\ttotal: 29s\tremaining: 2m 23s\n",
      "168:\tlearn: 0.9021267\ttotal: 29.1s\tremaining: 2m 23s\n",
      "169:\tlearn: 0.9023895\ttotal: 29.3s\tremaining: 2m 23s\n",
      "170:\tlearn: 0.9027122\ttotal: 29.5s\tremaining: 2m 22s\n",
      "171:\tlearn: 0.9028929\ttotal: 29.7s\tremaining: 2m 22s\n",
      "172:\tlearn: 0.9033072\ttotal: 29.8s\tremaining: 2m 22s\n",
      "173:\tlearn: 0.9036574\ttotal: 30s\tremaining: 2m 22s\n",
      "174:\tlearn: 0.9037882\ttotal: 30.2s\tremaining: 2m 22s\n",
      "175:\tlearn: 0.9043288\ttotal: 30.3s\tremaining: 2m 22s\n",
      "176:\tlearn: 0.9045689\ttotal: 30.5s\tremaining: 2m 21s\n",
      "177:\tlearn: 0.9052781\ttotal: 30.7s\tremaining: 2m 21s\n",
      "178:\tlearn: 0.9053381\ttotal: 30.9s\tremaining: 2m 21s\n",
      "179:\tlearn: 0.9056872\ttotal: 31s\tremaining: 2m 21s\n",
      "180:\tlearn: 0.9058070\ttotal: 31.2s\tremaining: 2m 21s\n",
      "181:\tlearn: 0.9058463\ttotal: 31.4s\tremaining: 2m 21s\n",
      "182:\tlearn: 0.9062551\ttotal: 31.6s\tremaining: 2m 21s\n",
      "183:\tlearn: 0.9066448\ttotal: 31.8s\tremaining: 2m 20s\n",
      "184:\tlearn: 0.9071522\ttotal: 31.9s\tremaining: 2m 20s\n",
      "185:\tlearn: 0.9073112\ttotal: 32.1s\tremaining: 2m 20s\n",
      "186:\tlearn: 0.9074307\ttotal: 32.3s\tremaining: 2m 20s\n",
      "187:\tlearn: 0.9074601\ttotal: 32.4s\tremaining: 2m 20s\n",
      "188:\tlearn: 0.9073902\ttotal: 32.6s\tremaining: 2m 19s\n",
      "189:\tlearn: 0.9074003\ttotal: 32.8s\tremaining: 2m 19s\n",
      "190:\tlearn: 0.9077588\ttotal: 32.9s\tremaining: 2m 19s\n",
      "191:\tlearn: 0.9077983\ttotal: 33.1s\tremaining: 2m 19s\n",
      "192:\tlearn: 0.9079976\ttotal: 33.3s\tremaining: 2m 19s\n",
      "193:\tlearn: 0.9082464\ttotal: 33.5s\tremaining: 2m 18s\n",
      "194:\tlearn: 0.9085942\ttotal: 33.6s\tremaining: 2m 18s\n",
      "195:\tlearn: 0.9088923\ttotal: 33.8s\tremaining: 2m 18s\n",
      "196:\tlearn: 0.9088923\ttotal: 34s\tremaining: 2m 18s\n",
      "197:\tlearn: 0.9091306\ttotal: 34.1s\tremaining: 2m 18s\n",
      "198:\tlearn: 0.9094879\ttotal: 34.3s\tremaining: 2m 18s\n",
      "199:\tlearn: 0.9097855\ttotal: 34.5s\tremaining: 2m 17s\n",
      "200:\tlearn: 0.9102515\ttotal: 34.6s\tremaining: 2m 17s\n",
      "201:\tlearn: 0.9099247\ttotal: 34.8s\tremaining: 2m 17s\n",
      "202:\tlearn: 0.9100437\ttotal: 35s\tremaining: 2m 17s\n",
      "203:\tlearn: 0.9101626\ttotal: 35.1s\tremaining: 2m 17s\n",
      "204:\tlearn: 0.9105691\ttotal: 35.3s\tremaining: 2m 16s\n",
      "205:\tlearn: 0.9106782\ttotal: 35.5s\tremaining: 2m 16s\n",
      "206:\tlearn: 0.9108857\ttotal: 35.6s\tremaining: 2m 16s\n",
      "207:\tlearn: 0.9114986\ttotal: 35.8s\tremaining: 2m 16s\n",
      "208:\tlearn: 0.9125463\ttotal: 36s\tremaining: 2m 16s\n",
      "209:\tlearn: 0.9128138\ttotal: 36.1s\tremaining: 2m 15s\n",
      "210:\tlearn: 0.9130695\ttotal: 36.3s\tremaining: 2m 15s\n",
      "211:\tlearn: 0.9131784\ttotal: 36.5s\tremaining: 2m 15s\n",
      "212:\tlearn: 0.9134553\ttotal: 36.6s\tremaining: 2m 15s\n",
      "213:\tlearn: 0.9136918\ttotal: 36.8s\tremaining: 2m 15s\n",
      "214:\tlearn: 0.9141645\ttotal: 37s\tremaining: 2m 15s\n",
      "215:\tlearn: 0.9142049\ttotal: 37.2s\tremaining: 2m 14s\n",
      "216:\tlearn: 0.9142640\ttotal: 37.3s\tremaining: 2m 14s\n",
      "217:\tlearn: 0.9147270\ttotal: 37.5s\tremaining: 2m 14s\n",
      "218:\tlearn: 0.9147767\ttotal: 37.7s\tremaining: 2m 14s\n",
      "219:\tlearn: 0.9150718\ttotal: 37.8s\tremaining: 2m 14s\n",
      "220:\tlearn: 0.9151308\ttotal: 38s\tremaining: 2m 13s\n",
      "221:\tlearn: 0.9153077\ttotal: 38.2s\tremaining: 2m 13s\n",
      "222:\tlearn: 0.9155343\ttotal: 38.4s\tremaining: 2m 13s\n",
      "223:\tlearn: 0.9157111\ttotal: 38.5s\tremaining: 2m 13s\n",
      "224:\tlearn: 0.9158289\ttotal: 38.7s\tremaining: 2m 13s\n",
      "225:\tlearn: 0.9159376\ttotal: 38.9s\tremaining: 2m 13s\n",
      "226:\tlearn: 0.9159874\ttotal: 39s\tremaining: 2m 12s\n",
      "227:\tlearn: 0.9162048\ttotal: 39.2s\tremaining: 2m 12s\n",
      "228:\tlearn: 0.9164629\ttotal: 39.4s\tremaining: 2m 12s\n",
      "229:\tlearn: 0.9169836\ttotal: 39.6s\tremaining: 2m 12s\n",
      "230:\tlearn: 0.9172099\ttotal: 39.7s\tremaining: 2m 12s\n",
      "231:\tlearn: 0.9172777\ttotal: 39.9s\tremaining: 2m 12s\n",
      "232:\tlearn: 0.9173953\ttotal: 40.1s\tremaining: 2m 11s\n",
      "233:\tlearn: 0.9176215\ttotal: 40.2s\tremaining: 2m 11s\n",
      "234:\tlearn: 0.9179741\ttotal: 40.4s\tremaining: 2m 11s\n",
      "235:\tlearn: 0.9179741\ttotal: 40.6s\tremaining: 2m 11s\n",
      "236:\tlearn: 0.9181414\ttotal: 40.8s\tremaining: 2m 11s\n",
      "237:\tlearn: 0.9182998\ttotal: 40.9s\tremaining: 2m 11s\n",
      "238:\tlearn: 0.9187663\ttotal: 41.1s\tremaining: 2m 10s\n",
      "239:\tlearn: 0.9188837\ttotal: 41.3s\tremaining: 2m 10s\n",
      "240:\tlearn: 0.9193356\ttotal: 41.5s\tremaining: 2m 10s\n",
      "241:\tlearn: 0.9197960\ttotal: 41.6s\tremaining: 2m 10s\n",
      "242:\tlearn: 0.9199805\ttotal: 41.8s\tremaining: 2m 10s\n",
      "243:\tlearn: 0.9199718\ttotal: 42s\tremaining: 2m 10s\n",
      "244:\tlearn: 0.9200217\ttotal: 42.2s\tremaining: 2m 9s\n",
      "245:\tlearn: 0.9201302\ttotal: 42.3s\tremaining: 2m 9s\n",
      "246:\tlearn: 0.9200890\ttotal: 42.5s\tremaining: 2m 9s\n",
      "247:\tlearn: 0.9203233\ttotal: 42.7s\tremaining: 2m 9s\n",
      "248:\tlearn: 0.9204903\ttotal: 42.9s\tremaining: 2m 9s\n",
      "249:\tlearn: 0.9205488\ttotal: 43s\tremaining: 2m 9s\n",
      "250:\tlearn: 0.9208415\ttotal: 43.2s\tremaining: 2m 8s\n",
      "251:\tlearn: 0.9208329\ttotal: 43.4s\tremaining: 2m 8s\n",
      "252:\tlearn: 0.9208243\ttotal: 43.5s\tremaining: 2m 8s\n",
      "253:\tlearn: 0.9210583\ttotal: 43.7s\tremaining: 2m 8s\n",
      "254:\tlearn: 0.9212338\ttotal: 43.9s\tremaining: 2m 8s\n",
      "255:\tlearn: 0.9215761\ttotal: 44.1s\tremaining: 2m 8s\n",
      "256:\tlearn: 0.9216345\ttotal: 44.3s\tremaining: 2m 7s\n",
      "257:\tlearn: 0.9217514\ttotal: 44.4s\tremaining: 2m 7s\n",
      "258:\tlearn: 0.9216345\ttotal: 44.6s\tremaining: 2m 7s\n",
      "259:\tlearn: 0.9219182\ttotal: 44.8s\tremaining: 2m 7s\n",
      "260:\tlearn: 0.9218513\ttotal: 45s\tremaining: 2m 7s\n",
      "261:\tlearn: 0.9225436\ttotal: 45.1s\tremaining: 2m 7s\n",
      "262:\tlearn: 0.9227019\ttotal: 45.3s\tremaining: 2m 6s\n",
      "263:\tlearn: 0.9226436\ttotal: 45.5s\tremaining: 2m 6s\n",
      "264:\tlearn: 0.9232602\ttotal: 45.6s\tremaining: 2m 6s\n",
      "265:\tlearn: 0.9234351\ttotal: 45.8s\tremaining: 2m 6s\n",
      "266:\tlearn: 0.9236765\ttotal: 46s\tremaining: 2m 6s\n",
      "267:\tlearn: 0.9239095\ttotal: 46.1s\tremaining: 2m 6s\n",
      "268:\tlearn: 0.9239095\ttotal: 46.3s\tremaining: 2m 5s\n",
      "269:\tlearn: 0.9240260\ttotal: 46.5s\tremaining: 2m 5s\n",
      "270:\tlearn: 0.9242006\ttotal: 46.6s\tremaining: 2m 5s\n",
      "271:\tlearn: 0.9249486\ttotal: 46.8s\tremaining: 2m 5s\n",
      "272:\tlearn: 0.9251811\ttotal: 47s\tremaining: 2m 5s\n",
      "273:\tlearn: 0.9253054\ttotal: 47.1s\tremaining: 2m 4s\n",
      "274:\tlearn: 0.9255796\ttotal: 47.3s\tremaining: 2m 4s\n",
      "275:\tlearn: 0.9259199\ttotal: 47.5s\tremaining: 2m 4s\n",
      "276:\tlearn: 0.9259279\ttotal: 47.6s\tremaining: 2m 4s\n",
      "277:\tlearn: 0.9264340\ttotal: 47.8s\tremaining: 2m 4s\n",
      "278:\tlearn: 0.9265579\ttotal: 48s\tremaining: 2m 3s\n",
      "279:\tlearn: 0.9270057\ttotal: 48.1s\tremaining: 2m 3s\n",
      "280:\tlearn: 0.9270057\ttotal: 48.3s\tremaining: 2m 3s\n",
      "281:\tlearn: 0.9270057\ttotal: 48.5s\tremaining: 2m 3s\n",
      "282:\tlearn: 0.9271216\ttotal: 48.7s\tremaining: 2m 3s\n",
      "283:\tlearn: 0.9273375\ttotal: 48.8s\tremaining: 2m 3s\n",
      "284:\tlearn: 0.9273375\ttotal: 49s\tremaining: 2m 2s\n",
      "285:\tlearn: 0.9273375\ttotal: 49.2s\tremaining: 2m 2s\n",
      "286:\tlearn: 0.9275534\ttotal: 49.4s\tremaining: 2m 2s\n",
      "287:\tlearn: 0.9277271\ttotal: 49.6s\tremaining: 2m 2s\n",
      "288:\tlearn: 0.9281744\ttotal: 49.7s\tremaining: 2m 2s\n",
      "289:\tlearn: 0.9283903\ttotal: 49.9s\tremaining: 2m 2s\n",
      "290:\tlearn: 0.9287949\ttotal: 50.1s\tremaining: 2m 1s\n",
      "291:\tlearn: 0.9286870\ttotal: 50.2s\tremaining: 2m 1s\n",
      "292:\tlearn: 0.9286215\ttotal: 50.4s\tremaining: 2m 1s\n",
      "293:\tlearn: 0.9284404\ttotal: 50.6s\tremaining: 2m 1s\n",
      "294:\tlearn: 0.9284404\ttotal: 50.8s\tremaining: 2m 1s\n",
      "295:\tlearn: 0.9285560\ttotal: 50.9s\tremaining: 2m 1s\n",
      "296:\tlearn: 0.9288450\ttotal: 51.1s\tremaining: 2m\n",
      "297:\tlearn: 0.9290030\ttotal: 51.3s\tremaining: 2m\n",
      "298:\tlearn: 0.9291534\ttotal: 51.4s\tremaining: 2m\n",
      "299:\tlearn: 0.9292112\ttotal: 51.6s\tremaining: 2m\n",
      "300:\tlearn: 0.9295501\ttotal: 51.8s\tremaining: 2m\n",
      "301:\tlearn: 0.9297157\ttotal: 51.9s\tremaining: 2m\n",
      "302:\tlearn: 0.9296580\ttotal: 52.1s\tremaining: 1m 59s\n",
      "303:\tlearn: 0.9296003\ttotal: 52.3s\tremaining: 1m 59s\n",
      "304:\tlearn: 0.9299391\ttotal: 52.4s\tremaining: 1m 59s\n",
      "305:\tlearn: 0.9301122\ttotal: 52.6s\tremaining: 1m 59s\n",
      "306:\tlearn: 0.9300545\ttotal: 52.8s\tremaining: 1m 59s\n",
      "307:\tlearn: 0.9302852\ttotal: 53s\tremaining: 1m 58s\n",
      "308:\tlearn: 0.9305586\ttotal: 53.1s\tremaining: 1m 58s\n",
      "309:\tlearn: 0.9305586\ttotal: 53.3s\tremaining: 1m 58s\n",
      "310:\tlearn: 0.9305586\ttotal: 53.5s\tremaining: 1m 58s\n",
      "311:\tlearn: 0.9304582\ttotal: 53.6s\tremaining: 1m 58s\n",
      "312:\tlearn: 0.9304507\ttotal: 53.8s\tremaining: 1m 58s\n",
      "313:\tlearn: 0.9306312\ttotal: 54s\tremaining: 1m 57s\n",
      "314:\tlearn: 0.9307966\ttotal: 54.2s\tremaining: 1m 57s\n",
      "315:\tlearn: 0.9310271\ttotal: 54.4s\tremaining: 1m 57s\n",
      "316:\tlearn: 0.9312500\ttotal: 54.5s\tremaining: 1m 57s\n"
     ]
    },
    {
     "name": "stdout",
     "output_type": "stream",
     "text": [
      "317:\tlearn: 0.9314803\ttotal: 54.7s\tremaining: 1m 57s\n",
      "318:\tlearn: 0.9314301\ttotal: 54.9s\tremaining: 1m 57s\n",
      "319:\tlearn: 0.9315378\ttotal: 55s\tremaining: 1m 56s\n",
      "320:\tlearn: 0.9317105\ttotal: 55.2s\tremaining: 1m 56s\n",
      "321:\tlearn: 0.9320482\ttotal: 55.4s\tremaining: 1m 56s\n",
      "322:\tlearn: 0.9323211\ttotal: 55.5s\tremaining: 1m 56s\n",
      "323:\tlearn: 0.9323859\ttotal: 55.7s\tremaining: 1m 56s\n",
      "324:\tlearn: 0.9323859\ttotal: 55.9s\tremaining: 1m 56s\n",
      "325:\tlearn: 0.9323859\ttotal: 56.1s\tremaining: 1m 55s\n",
      "326:\tlearn: 0.9322782\ttotal: 56.2s\tremaining: 1m 55s\n",
      "327:\tlearn: 0.9326085\ttotal: 56.4s\tremaining: 1m 55s\n",
      "328:\tlearn: 0.9324288\ttotal: 56.6s\tremaining: 1m 55s\n",
      "329:\tlearn: 0.9324863\ttotal: 56.7s\tremaining: 1m 55s\n",
      "330:\tlearn: 0.9325437\ttotal: 56.9s\tremaining: 1m 54s\n",
      "331:\tlearn: 0.9327161\ttotal: 57.1s\tremaining: 1m 54s\n",
      "332:\tlearn: 0.9327234\ttotal: 57.2s\tremaining: 1m 54s\n",
      "333:\tlearn: 0.9328884\ttotal: 57.4s\tremaining: 1m 54s\n",
      "334:\tlearn: 0.9328884\ttotal: 57.6s\tremaining: 1m 54s\n",
      "335:\tlearn: 0.9331181\ttotal: 57.7s\tremaining: 1m 54s\n",
      "336:\tlearn: 0.9333979\ttotal: 57.9s\tremaining: 1m 53s\n",
      "337:\tlearn: 0.9334553\ttotal: 58.1s\tremaining: 1m 53s\n",
      "338:\tlearn: 0.9336705\ttotal: 58.2s\tremaining: 1m 53s\n",
      "339:\tlearn: 0.9338927\ttotal: 58.4s\tremaining: 1m 53s\n",
      "340:\tlearn: 0.9338927\ttotal: 58.6s\tremaining: 1m 53s\n",
      "341:\tlearn: 0.9341221\ttotal: 58.7s\tremaining: 1m 52s\n",
      "342:\tlearn: 0.9344015\ttotal: 58.9s\tremaining: 1m 52s\n",
      "343:\tlearn: 0.9346237\ttotal: 59.1s\tremaining: 1m 52s\n",
      "344:\tlearn: 0.9346237\ttotal: 59.2s\tremaining: 1m 52s\n",
      "345:\tlearn: 0.9347382\ttotal: 59.4s\tremaining: 1m 52s\n",
      "346:\tlearn: 0.9349100\ttotal: 59.6s\tremaining: 1m 52s\n",
      "347:\tlearn: 0.9351319\ttotal: 59.7s\tremaining: 1m 51s\n",
      "348:\tlearn: 0.9352464\ttotal: 59.9s\tremaining: 1m 51s\n",
      "349:\tlearn: 0.9354683\ttotal: 1m\tremaining: 1m 51s\n",
      "350:\tlearn: 0.9354388\ttotal: 1m\tremaining: 1m 51s\n",
      "351:\tlearn: 0.9357108\ttotal: 1m\tremaining: 1m 51s\n",
      "352:\tlearn: 0.9357680\ttotal: 1m\tremaining: 1m 51s\n",
      "353:\tlearn: 0.9357680\ttotal: 1m\tremaining: 1m 50s\n",
      "354:\tlearn: 0.9360606\ttotal: 1m\tremaining: 1m 50s\n",
      "355:\tlearn: 0.9361748\ttotal: 1m 1s\tremaining: 1m 50s\n",
      "356:\tlearn: 0.9362387\ttotal: 1m 1s\tremaining: 1m 50s\n",
      "357:\tlearn: 0.9364534\ttotal: 1m 1s\tremaining: 1m 50s\n",
      "358:\tlearn: 0.9368257\ttotal: 1m 1s\tremaining: 1m 49s\n",
      "359:\tlearn: 0.9366477\ttotal: 1m 1s\tremaining: 1m 49s\n",
      "360:\tlearn: 0.9369331\ttotal: 1m 1s\tremaining: 1m 49s\n",
      "361:\tlearn: 0.9369331\ttotal: 1m 2s\tremaining: 1m 49s\n",
      "362:\tlearn: 0.9369331\ttotal: 1m 2s\tremaining: 1m 49s\n",
      "363:\tlearn: 0.9371613\ttotal: 1m 2s\tremaining: 1m 49s\n",
      "364:\tlearn: 0.9372820\ttotal: 1m 2s\tremaining: 1m 48s\n",
      "365:\tlearn: 0.9373893\ttotal: 1m 2s\tremaining: 1m 48s\n",
      "366:\tlearn: 0.9376173\ttotal: 1m 2s\tremaining: 1m 48s\n",
      "367:\tlearn: 0.9376173\ttotal: 1m 3s\tremaining: 1m 48s\n",
      "368:\tlearn: 0.9376173\ttotal: 1m 3s\tremaining: 1m 48s\n",
      "369:\tlearn: 0.9377246\ttotal: 1m 3s\tremaining: 1m 48s\n",
      "370:\tlearn: 0.9380664\ttotal: 1m 3s\tremaining: 1m 47s\n",
      "371:\tlearn: 0.9382372\ttotal: 1m 3s\tremaining: 1m 47s\n",
      "372:\tlearn: 0.9382438\ttotal: 1m 3s\tremaining: 1m 47s\n",
      "373:\tlearn: 0.9383510\ttotal: 1m 4s\tremaining: 1m 47s\n",
      "374:\tlearn: 0.9384714\ttotal: 1m 4s\tremaining: 1m 47s\n",
      "375:\tlearn: 0.9385852\ttotal: 1m 4s\tremaining: 1m 47s\n",
      "376:\tlearn: 0.9385852\ttotal: 1m 4s\tremaining: 1m 46s\n",
      "377:\tlearn: 0.9388630\ttotal: 1m 4s\tremaining: 1m 46s\n",
      "378:\tlearn: 0.9390904\ttotal: 1m 5s\tremaining: 1m 46s\n",
      "379:\tlearn: 0.9393177\ttotal: 1m 5s\tremaining: 1m 46s\n",
      "380:\tlearn: 0.9394881\ttotal: 1m 5s\tremaining: 1m 46s\n",
      "381:\tlearn: 0.9396016\ttotal: 1m 5s\tremaining: 1m 45s\n",
      "382:\tlearn: 0.9397152\ttotal: 1m 5s\tremaining: 1m 45s\n",
      "383:\tlearn: 0.9398790\ttotal: 1m 5s\tremaining: 1m 45s\n",
      "384:\tlearn: 0.9398223\ttotal: 1m 6s\tremaining: 1m 45s\n",
      "385:\tlearn: 0.9395448\ttotal: 1m 6s\tremaining: 1m 45s\n",
      "386:\tlearn: 0.9395448\ttotal: 1m 6s\tremaining: 1m 45s\n",
      "387:\tlearn: 0.9398790\ttotal: 1m 6s\tremaining: 1m 44s\n",
      "388:\tlearn: 0.9402761\ttotal: 1m 6s\tremaining: 1m 44s\n",
      "389:\tlearn: 0.9406730\ttotal: 1m 6s\tremaining: 1m 44s\n",
      "390:\tlearn: 0.9406666\ttotal: 1m 7s\tremaining: 1m 44s\n",
      "391:\tlearn: 0.9407800\ttotal: 1m 7s\tremaining: 1m 44s\n",
      "392:\tlearn: 0.9409499\ttotal: 1m 7s\tremaining: 1m 44s\n",
      "393:\tlearn: 0.9409563\ttotal: 1m 7s\tremaining: 1m 43s\n",
      "394:\tlearn: 0.9414470\ttotal: 1m 7s\tremaining: 1m 43s\n",
      "395:\tlearn: 0.9415036\ttotal: 1m 7s\tremaining: 1m 43s\n",
      "396:\tlearn: 0.9416733\ttotal: 1m 8s\tremaining: 1m 43s\n",
      "397:\tlearn: 0.9416168\ttotal: 1m 8s\tremaining: 1m 43s\n",
      "398:\tlearn: 0.9419058\ttotal: 1m 8s\tremaining: 1m 43s\n",
      "399:\tlearn: 0.9421885\ttotal: 1m 8s\tremaining: 1m 42s\n",
      "400:\tlearn: 0.9421885\ttotal: 1m 8s\tremaining: 1m 42s\n",
      "401:\tlearn: 0.9425275\ttotal: 1m 8s\tremaining: 1m 42s\n",
      "402:\tlearn: 0.9425275\ttotal: 1m 9s\tremaining: 1m 42s\n",
      "403:\tlearn: 0.9427473\ttotal: 1m 9s\tremaining: 1m 42s\n",
      "404:\tlearn: 0.9427473\ttotal: 1m 9s\tremaining: 1m 42s\n",
      "405:\tlearn: 0.9429731\ttotal: 1m 9s\tremaining: 1m 41s\n",
      "406:\tlearn: 0.9431424\ttotal: 1m 9s\tremaining: 1m 41s\n",
      "407:\tlearn: 0.9433620\ttotal: 1m 9s\tremaining: 1m 41s\n",
      "408:\tlearn: 0.9433056\ttotal: 1m 10s\tremaining: 1m 41s\n",
      "409:\tlearn: 0.9433620\ttotal: 1m 10s\tremaining: 1m 41s\n",
      "410:\tlearn: 0.9437507\ttotal: 1m 10s\tremaining: 1m 41s\n",
      "411:\tlearn: 0.9436943\ttotal: 1m 10s\tremaining: 1m 40s\n",
      "412:\tlearn: 0.9438070\ttotal: 1m 10s\tremaining: 1m 40s\n",
      "413:\tlearn: 0.9438574\ttotal: 1m 10s\tremaining: 1m 40s\n",
      "414:\tlearn: 0.9439138\ttotal: 1m 11s\tremaining: 1m 40s\n",
      "415:\tlearn: 0.9439138\ttotal: 1m 11s\tremaining: 1m 40s\n",
      "416:\tlearn: 0.9442280\ttotal: 1m 11s\tremaining: 1m 39s\n",
      "417:\tlearn: 0.9442784\ttotal: 1m 11s\tremaining: 1m 39s\n",
      "418:\tlearn: 0.9443288\ttotal: 1m 11s\tremaining: 1m 39s\n",
      "419:\tlearn: 0.9446045\ttotal: 1m 11s\tremaining: 1m 39s\n",
      "420:\tlearn: 0.9447172\ttotal: 1m 12s\tremaining: 1m 39s\n",
      "421:\tlearn: 0.9448743\ttotal: 1m 12s\tremaining: 1m 39s\n",
      "422:\tlearn: 0.9450374\ttotal: 1m 12s\tremaining: 1m 38s\n",
      "423:\tlearn: 0.9453188\ttotal: 1m 12s\tremaining: 1m 38s\n",
      "424:\tlearn: 0.9455768\ttotal: 1m 12s\tremaining: 1m 38s\n",
      "425:\tlearn: 0.9456893\ttotal: 1m 13s\tremaining: 1m 38s\n",
      "426:\tlearn: 0.9455768\ttotal: 1m 13s\tremaining: 1m 38s\n",
      "427:\tlearn: 0.9456777\ttotal: 1m 13s\tremaining: 1m 38s\n",
      "428:\tlearn: 0.9457340\ttotal: 1m 13s\tremaining: 1m 37s\n",
      "429:\tlearn: 0.9455710\ttotal: 1m 13s\tremaining: 1m 37s\n",
      "430:\tlearn: 0.9455710\ttotal: 1m 13s\tremaining: 1m 37s\n",
      "431:\tlearn: 0.9456272\ttotal: 1m 14s\tremaining: 1m 37s\n",
      "432:\tlearn: 0.9457960\ttotal: 1m 14s\tremaining: 1m 37s\n",
      "433:\tlearn: 0.9459647\ttotal: 1m 14s\tremaining: 1m 36s\n",
      "434:\tlearn: 0.9459142\ttotal: 1m 14s\tremaining: 1m 36s\n",
      "435:\tlearn: 0.9460267\ttotal: 1m 14s\tremaining: 1m 36s\n",
      "436:\tlearn: 0.9459705\ttotal: 1m 14s\tremaining: 1m 36s\n",
      "437:\tlearn: 0.9461391\ttotal: 1m 14s\tremaining: 1m 36s\n",
      "438:\tlearn: 0.9459142\ttotal: 1m 15s\tremaining: 1m 36s\n",
      "439:\tlearn: 0.9461276\ttotal: 1m 15s\tremaining: 1m 35s\n",
      "440:\tlearn: 0.9462400\ttotal: 1m 15s\tremaining: 1m 35s\n",
      "441:\tlearn: 0.9461838\ttotal: 1m 15s\tremaining: 1m 35s\n",
      "442:\tlearn: 0.9465657\ttotal: 1m 15s\tremaining: 1m 35s\n",
      "443:\tlearn: 0.9465095\ttotal: 1m 15s\tremaining: 1m 35s\n",
      "444:\tlearn: 0.9467285\ttotal: 1m 16s\tremaining: 1m 34s\n",
      "445:\tlearn: 0.9468970\ttotal: 1m 16s\tremaining: 1m 34s\n",
      "446:\tlearn: 0.9468408\ttotal: 1m 16s\tremaining: 1m 34s\n",
      "447:\tlearn: 0.9468408\ttotal: 1m 16s\tremaining: 1m 34s\n",
      "448:\tlearn: 0.9469531\ttotal: 1m 16s\tremaining: 1m 34s\n",
      "449:\tlearn: 0.9471777\ttotal: 1m 16s\tremaining: 1m 34s\n",
      "450:\tlearn: 0.9472506\ttotal: 1m 17s\tremaining: 1m 33s\n",
      "451:\tlearn: 0.9473067\ttotal: 1m 17s\tremaining: 1m 33s\n",
      "452:\tlearn: 0.9476487\ttotal: 1m 17s\tremaining: 1m 33s\n",
      "453:\tlearn: 0.9478673\ttotal: 1m 17s\tremaining: 1m 33s\n",
      "454:\tlearn: 0.9479233\ttotal: 1m 17s\tremaining: 1m 33s\n",
      "455:\tlearn: 0.9480354\ttotal: 1m 17s\tremaining: 1m 33s\n",
      "456:\tlearn: 0.9481418\ttotal: 1m 18s\tremaining: 1m 32s\n",
      "457:\tlearn: 0.9481418\ttotal: 1m 18s\tremaining: 1m 32s\n",
      "458:\tlearn: 0.9481418\ttotal: 1m 18s\tremaining: 1m 32s\n",
      "459:\tlearn: 0.9481418\ttotal: 1m 18s\tremaining: 1m 32s\n",
      "460:\tlearn: 0.9481978\ttotal: 1m 18s\tremaining: 1m 32s\n",
      "461:\tlearn: 0.9482538\ttotal: 1m 18s\tremaining: 1m 31s\n",
      "462:\tlearn: 0.9483658\ttotal: 1m 19s\tremaining: 1m 31s\n",
      "463:\tlearn: 0.9484778\ttotal: 1m 19s\tremaining: 1m 31s\n",
      "464:\tlearn: 0.9484778\ttotal: 1m 19s\tremaining: 1m 31s\n",
      "465:\tlearn: 0.9484778\ttotal: 1m 19s\tremaining: 1m 31s\n",
      "466:\tlearn: 0.9486456\ttotal: 1m 19s\tremaining: 1m 31s\n",
      "467:\tlearn: 0.9487016\ttotal: 1m 19s\tremaining: 1m 30s\n",
      "468:\tlearn: 0.9487575\ttotal: 1m 20s\tremaining: 1m 30s\n",
      "469:\tlearn: 0.9488694\ttotal: 1m 20s\tremaining: 1m 30s\n",
      "470:\tlearn: 0.9490930\ttotal: 1m 20s\tremaining: 1m 30s\n"
     ]
    },
    {
     "name": "stdout",
     "output_type": "stream",
     "text": [
      "471:\tlearn: 0.9493058\ttotal: 1m 20s\tremaining: 1m 30s\n",
      "472:\tlearn: 0.9495293\ttotal: 1m 20s\tremaining: 1m 30s\n",
      "473:\tlearn: 0.9494735\ttotal: 1m 21s\tremaining: 1m 29s\n",
      "474:\tlearn: 0.9494735\ttotal: 1m 21s\tremaining: 1m 29s\n",
      "475:\tlearn: 0.9491598\ttotal: 1m 21s\tremaining: 1m 29s\n",
      "476:\tlearn: 0.9492156\ttotal: 1m 21s\tremaining: 1m 29s\n",
      "477:\tlearn: 0.9491598\ttotal: 1m 21s\tremaining: 1m 29s\n",
      "478:\tlearn: 0.9491489\ttotal: 1m 21s\tremaining: 1m 29s\n",
      "479:\tlearn: 0.9490930\ttotal: 1m 22s\tremaining: 1m 28s\n",
      "480:\tlearn: 0.9490534\ttotal: 1m 22s\tremaining: 1m 28s\n",
      "481:\tlearn: 0.9491147\ttotal: 1m 22s\tremaining: 1m 28s\n",
      "482:\tlearn: 0.9491706\ttotal: 1m 22s\tremaining: 1m 28s\n",
      "483:\tlearn: 0.9491652\ttotal: 1m 22s\tremaining: 1m 28s\n",
      "484:\tlearn: 0.9495454\ttotal: 1m 23s\tremaining: 1m 28s\n",
      "485:\tlearn: 0.9496013\ttotal: 1m 23s\tremaining: 1m 27s\n",
      "486:\tlearn: 0.9496013\ttotal: 1m 23s\tremaining: 1m 27s\n",
      "487:\tlearn: 0.9497741\ttotal: 1m 23s\tremaining: 1m 27s\n",
      "488:\tlearn: 0.9499415\ttotal: 1m 23s\tremaining: 1m 27s\n",
      "489:\tlearn: 0.9499415\ttotal: 1m 23s\tremaining: 1m 27s\n",
      "490:\tlearn: 0.9500531\ttotal: 1m 24s\tremaining: 1m 27s\n",
      "491:\tlearn: 0.9500531\ttotal: 1m 24s\tremaining: 1m 26s\n",
      "492:\tlearn: 0.9500531\ttotal: 1m 24s\tremaining: 1m 26s\n",
      "493:\tlearn: 0.9502205\ttotal: 1m 24s\tremaining: 1m 26s\n",
      "494:\tlearn: 0.9504435\ttotal: 1m 24s\tremaining: 1m 26s\n",
      "495:\tlearn: 0.9505602\ttotal: 1m 24s\tremaining: 1m 26s\n",
      "496:\tlearn: 0.9506160\ttotal: 1m 25s\tremaining: 1m 26s\n",
      "497:\tlearn: 0.9507169\ttotal: 1m 25s\tremaining: 1m 25s\n",
      "498:\tlearn: 0.9507169\ttotal: 1m 25s\tremaining: 1m 25s\n",
      "499:\tlearn: 0.9508789\ttotal: 1m 25s\tremaining: 1m 25s\n",
      "500:\tlearn: 0.9508284\ttotal: 1m 25s\tremaining: 1m 25s\n",
      "501:\tlearn: 0.9508284\ttotal: 1m 25s\tremaining: 1m 25s\n",
      "502:\tlearn: 0.9509903\ttotal: 1m 26s\tremaining: 1m 25s\n",
      "503:\tlearn: 0.9511522\ttotal: 1m 26s\tremaining: 1m 24s\n",
      "504:\tlearn: 0.9511522\ttotal: 1m 26s\tremaining: 1m 24s\n",
      "505:\tlearn: 0.9515924\ttotal: 1m 26s\tremaining: 1m 24s\n",
      "506:\tlearn: 0.9516480\ttotal: 1m 26s\tremaining: 1m 24s\n",
      "507:\tlearn: 0.9516480\ttotal: 1m 27s\tremaining: 1m 24s\n",
      "508:\tlearn: 0.9519261\ttotal: 1m 27s\tremaining: 1m 24s\n",
      "509:\tlearn: 0.9518200\ttotal: 1m 27s\tremaining: 1m 23s\n",
      "510:\tlearn: 0.9519261\ttotal: 1m 27s\tremaining: 1m 23s\n",
      "511:\tlearn: 0.9520323\ttotal: 1m 27s\tremaining: 1m 23s\n",
      "512:\tlearn: 0.9520323\ttotal: 1m 27s\tremaining: 1m 23s\n",
      "513:\tlearn: 0.9520323\ttotal: 1m 28s\tremaining: 1m 23s\n",
      "514:\tlearn: 0.9522546\ttotal: 1m 28s\tremaining: 1m 23s\n",
      "515:\tlearn: 0.9522546\ttotal: 1m 28s\tremaining: 1m 22s\n",
      "516:\tlearn: 0.9523052\ttotal: 1m 28s\tremaining: 1m 22s\n",
      "517:\tlearn: 0.9522496\ttotal: 1m 28s\tremaining: 1m 22s\n",
      "518:\tlearn: 0.9523607\ttotal: 1m 28s\tremaining: 1m 22s\n",
      "519:\tlearn: 0.9523052\ttotal: 1m 29s\tremaining: 1m 22s\n",
      "520:\tlearn: 0.9522496\ttotal: 1m 29s\tremaining: 1m 21s\n",
      "521:\tlearn: 0.9522496\ttotal: 1m 29s\tremaining: 1m 21s\n",
      "522:\tlearn: 0.9524668\ttotal: 1m 29s\tremaining: 1m 21s\n",
      "523:\tlearn: 0.9523557\ttotal: 1m 29s\tremaining: 1m 21s\n",
      "524:\tlearn: 0.9523557\ttotal: 1m 29s\tremaining: 1m 21s\n",
      "525:\tlearn: 0.9525174\ttotal: 1m 30s\tremaining: 1m 21s\n",
      "526:\tlearn: 0.9526235\ttotal: 1m 30s\tremaining: 1m 20s\n",
      "527:\tlearn: 0.9527296\ttotal: 1m 30s\tremaining: 1m 20s\n",
      "528:\tlearn: 0.9529518\ttotal: 1m 30s\tremaining: 1m 20s\n",
      "529:\tlearn: 0.9529468\ttotal: 1m 30s\tremaining: 1m 20s\n",
      "530:\tlearn: 0.9530579\ttotal: 1m 30s\tremaining: 1m 20s\n",
      "531:\tlearn: 0.9532750\ttotal: 1m 31s\tremaining: 1m 20s\n",
      "532:\tlearn: 0.9534921\ttotal: 1m 31s\tremaining: 1m 19s\n",
      "533:\tlearn: 0.9534921\ttotal: 1m 31s\tremaining: 1m 19s\n",
      "534:\tlearn: 0.9534921\ttotal: 1m 31s\tremaining: 1m 19s\n",
      "535:\tlearn: 0.9534921\ttotal: 1m 31s\tremaining: 1m 19s\n",
      "536:\tlearn: 0.9537140\ttotal: 1m 31s\tremaining: 1m 19s\n",
      "537:\tlearn: 0.9536635\ttotal: 1m 32s\tremaining: 1m 19s\n",
      "538:\tlearn: 0.9537744\ttotal: 1m 32s\tremaining: 1m 18s\n",
      "539:\tlearn: 0.9537744\ttotal: 1m 32s\tremaining: 1m 18s\n",
      "540:\tlearn: 0.9538804\ttotal: 1m 32s\tremaining: 1m 18s\n",
      "541:\tlearn: 0.9539913\ttotal: 1m 32s\tremaining: 1m 18s\n",
      "542:\tlearn: 0.9541528\ttotal: 1m 32s\tremaining: 1m 18s\n",
      "543:\tlearn: 0.9541528\ttotal: 1m 33s\tremaining: 1m 17s\n",
      "544:\tlearn: 0.9543239\ttotal: 1m 33s\tremaining: 1m 17s\n",
      "545:\tlearn: 0.9543239\ttotal: 1m 33s\tremaining: 1m 17s\n",
      "546:\tlearn: 0.9543190\ttotal: 1m 33s\tremaining: 1m 17s\n",
      "547:\tlearn: 0.9545358\ttotal: 1m 33s\tremaining: 1m 17s\n",
      "548:\tlearn: 0.9545358\ttotal: 1m 33s\tremaining: 1m 17s\n",
      "549:\tlearn: 0.9547574\ttotal: 1m 34s\tremaining: 1m 16s\n",
      "550:\tlearn: 0.9548633\ttotal: 1m 34s\tremaining: 1m 16s\n",
      "551:\tlearn: 0.9548633\ttotal: 1m 34s\tremaining: 1m 16s\n",
      "552:\tlearn: 0.9548633\ttotal: 1m 34s\tremaining: 1m 16s\n",
      "553:\tlearn: 0.9548633\ttotal: 1m 34s\tremaining: 1m 16s\n",
      "554:\tlearn: 0.9548079\ttotal: 1m 34s\tremaining: 1m 16s\n",
      "555:\tlearn: 0.9548079\ttotal: 1m 35s\tremaining: 1m 15s\n",
      "556:\tlearn: 0.9549187\ttotal: 1m 35s\tremaining: 1m 15s\n",
      "557:\tlearn: 0.9549187\ttotal: 1m 35s\tremaining: 1m 15s\n",
      "558:\tlearn: 0.9549740\ttotal: 1m 35s\tremaining: 1m 15s\n",
      "559:\tlearn: 0.9550847\ttotal: 1m 35s\tremaining: 1m 15s\n",
      "560:\tlearn: 0.9552460\ttotal: 1m 35s\tremaining: 1m 14s\n",
      "561:\tlearn: 0.9553013\ttotal: 1m 36s\tremaining: 1m 14s\n",
      "562:\tlearn: 0.9554626\ttotal: 1m 36s\tremaining: 1m 14s\n",
      "563:\tlearn: 0.9555732\ttotal: 1m 36s\tremaining: 1m 14s\n",
      "564:\tlearn: 0.9555732\ttotal: 1m 36s\tremaining: 1m 14s\n",
      "565:\tlearn: 0.9556838\ttotal: 1m 36s\tremaining: 1m 14s\n",
      "566:\tlearn: 0.9556285\ttotal: 1m 36s\tremaining: 1m 13s\n",
      "567:\tlearn: 0.9556791\ttotal: 1m 37s\tremaining: 1m 13s\n",
      "568:\tlearn: 0.9557897\ttotal: 1m 37s\tremaining: 1m 13s\n",
      "569:\tlearn: 0.9556744\ttotal: 1m 37s\tremaining: 1m 13s\n",
      "570:\tlearn: 0.9558403\ttotal: 1m 37s\tremaining: 1m 13s\n",
      "571:\tlearn: 0.9558356\ttotal: 1m 37s\tremaining: 1m 13s\n",
      "572:\tlearn: 0.9559968\ttotal: 1m 37s\tremaining: 1m 12s\n",
      "573:\tlearn: 0.9559415\ttotal: 1m 38s\tremaining: 1m 12s\n",
      "574:\tlearn: 0.9560521\ttotal: 1m 38s\tremaining: 1m 12s\n",
      "575:\tlearn: 0.9563238\ttotal: 1m 38s\tremaining: 1m 12s\n",
      "576:\tlearn: 0.9562685\ttotal: 1m 38s\tremaining: 1m 12s\n",
      "577:\tlearn: 0.9562685\ttotal: 1m 38s\tremaining: 1m 12s\n",
      "578:\tlearn: 0.9563238\ttotal: 1m 38s\tremaining: 1m 11s\n",
      "579:\tlearn: 0.9564343\ttotal: 1m 38s\tremaining: 1m 11s\n",
      "580:\tlearn: 0.9565355\ttotal: 1m 39s\tremaining: 1m 11s\n",
      "581:\tlearn: 0.9565309\ttotal: 1m 39s\tremaining: 1m 11s\n",
      "582:\tlearn: 0.9568071\ttotal: 1m 39s\tremaining: 1m 11s\n",
      "583:\tlearn: 0.9569130\ttotal: 1m 39s\tremaining: 1m 10s\n",
      "584:\tlearn: 0.9569130\ttotal: 1m 39s\tremaining: 1m 10s\n",
      "585:\tlearn: 0.9569130\ttotal: 1m 39s\tremaining: 1m 10s\n",
      "586:\tlearn: 0.9569130\ttotal: 1m 40s\tremaining: 1m 10s\n",
      "587:\tlearn: 0.9569682\ttotal: 1m 40s\tremaining: 1m 10s\n",
      "588:\tlearn: 0.9571292\ttotal: 1m 40s\tremaining: 1m 10s\n",
      "589:\tlearn: 0.9570740\ttotal: 1m 40s\tremaining: 1m 9s\n",
      "590:\tlearn: 0.9570740\ttotal: 1m 40s\tremaining: 1m 9s\n",
      "591:\tlearn: 0.9571844\ttotal: 1m 40s\tremaining: 1m 9s\n",
      "592:\tlearn: 0.9572396\ttotal: 1m 41s\tremaining: 1m 9s\n",
      "593:\tlearn: 0.9572396\ttotal: 1m 41s\tremaining: 1m 9s\n",
      "594:\tlearn: 0.9575155\ttotal: 1m 41s\tremaining: 1m 9s\n",
      "595:\tlearn: 0.9575661\ttotal: 1m 41s\tremaining: 1m 8s\n",
      "596:\tlearn: 0.9575661\ttotal: 1m 41s\tremaining: 1m 8s\n",
      "597:\tlearn: 0.9575661\ttotal: 1m 41s\tremaining: 1m 8s\n",
      "598:\tlearn: 0.9574603\ttotal: 1m 42s\tremaining: 1m 8s\n",
      "599:\tlearn: 0.9574603\ttotal: 1m 42s\tremaining: 1m 8s\n",
      "600:\tlearn: 0.9573038\ttotal: 1m 42s\tremaining: 1m 8s\n",
      "601:\tlearn: 0.9573038\ttotal: 1m 42s\tremaining: 1m 7s\n",
      "602:\tlearn: 0.9573038\ttotal: 1m 42s\tremaining: 1m 7s\n",
      "603:\tlearn: 0.9574142\ttotal: 1m 43s\tremaining: 1m 7s\n",
      "604:\tlearn: 0.9575796\ttotal: 1m 43s\tremaining: 1m 7s\n",
      "605:\tlearn: 0.9577450\ttotal: 1m 43s\tremaining: 1m 7s\n",
      "606:\tlearn: 0.9579103\ttotal: 1m 43s\tremaining: 1m 7s\n",
      "607:\tlearn: 0.9579103\ttotal: 1m 43s\tremaining: 1m 6s\n",
      "608:\tlearn: 0.9579610\ttotal: 1m 43s\tremaining: 1m 6s\n",
      "609:\tlearn: 0.9580116\ttotal: 1m 44s\tremaining: 1m 6s\n",
      "610:\tlearn: 0.9582276\ttotal: 1m 44s\tremaining: 1m 6s\n",
      "611:\tlearn: 0.9582276\ttotal: 1m 44s\tremaining: 1m 6s\n",
      "612:\tlearn: 0.9582276\ttotal: 1m 44s\tremaining: 1m 6s\n",
      "613:\tlearn: 0.9583377\ttotal: 1m 44s\tremaining: 1m 5s\n",
      "614:\tlearn: 0.9584479\ttotal: 1m 44s\tremaining: 1m 5s\n",
      "615:\tlearn: 0.9584479\ttotal: 1m 45s\tremaining: 1m 5s\n",
      "616:\tlearn: 0.9586087\ttotal: 1m 45s\tremaining: 1m 5s\n",
      "617:\tlearn: 0.9584985\ttotal: 1m 45s\tremaining: 1m 5s\n",
      "618:\tlearn: 0.9584985\ttotal: 1m 45s\tremaining: 1m 5s\n",
      "619:\tlearn: 0.9584985\ttotal: 1m 45s\tremaining: 1m 4s\n",
      "620:\tlearn: 0.9585536\ttotal: 1m 45s\tremaining: 1m 4s\n",
      "621:\tlearn: 0.9588245\ttotal: 1m 46s\tremaining: 1m 4s\n",
      "622:\tlearn: 0.9586087\ttotal: 1m 46s\tremaining: 1m 4s\n",
      "623:\tlearn: 0.9585536\ttotal: 1m 46s\tremaining: 1m 4s\n",
      "624:\tlearn: 0.9585492\ttotal: 1m 46s\tremaining: 1m 3s\n"
     ]
    },
    {
     "name": "stdout",
     "output_type": "stream",
     "text": [
      "625:\tlearn: 0.9586593\ttotal: 1m 46s\tremaining: 1m 3s\n",
      "626:\tlearn: 0.9588201\ttotal: 1m 46s\tremaining: 1m 3s\n",
      "627:\tlearn: 0.9588201\ttotal: 1m 47s\tremaining: 1m 3s\n",
      "628:\tlearn: 0.9587694\ttotal: 1m 47s\tremaining: 1m 3s\n",
      "629:\tlearn: 0.9587694\ttotal: 1m 47s\tremaining: 1m 3s\n",
      "630:\tlearn: 0.9588245\ttotal: 1m 47s\tremaining: 1m 2s\n",
      "631:\tlearn: 0.9588795\ttotal: 1m 47s\tremaining: 1m 2s\n",
      "632:\tlearn: 0.9589852\ttotal: 1m 48s\tremaining: 1m 2s\n",
      "633:\tlearn: 0.9588751\ttotal: 1m 48s\tremaining: 1m 2s\n",
      "634:\tlearn: 0.9591837\ttotal: 1m 48s\tremaining: 1m 2s\n",
      "635:\tlearn: 0.9591837\ttotal: 1m 48s\tremaining: 1m 2s\n",
      "636:\tlearn: 0.9591286\ttotal: 1m 48s\tremaining: 1m 1s\n",
      "637:\tlearn: 0.9591286\ttotal: 1m 48s\tremaining: 1m 1s\n",
      "638:\tlearn: 0.9590186\ttotal: 1m 49s\tremaining: 1m 1s\n",
      "639:\tlearn: 0.9590186\ttotal: 1m 49s\tremaining: 1m 1s\n",
      "640:\tlearn: 0.9590186\ttotal: 1m 49s\tremaining: 1m 1s\n",
      "641:\tlearn: 0.9590142\ttotal: 1m 49s\tremaining: 1m 1s\n",
      "642:\tlearn: 0.9590142\ttotal: 1m 49s\tremaining: 1m\n",
      "643:\tlearn: 0.9590099\ttotal: 1m 49s\tremaining: 1m\n",
      "644:\tlearn: 0.9590099\ttotal: 1m 50s\tremaining: 1m\n",
      "645:\tlearn: 0.9590099\ttotal: 1m 50s\tremaining: 1m\n",
      "646:\tlearn: 0.9591200\ttotal: 1m 50s\tremaining: 1m\n",
      "647:\tlearn: 0.9593866\ttotal: 1m 50s\tremaining: 1m\n",
      "648:\tlearn: 0.9594880\ttotal: 1m 50s\tremaining: 59.9s\n",
      "649:\tlearn: 0.9594880\ttotal: 1m 50s\tremaining: 59.7s\n",
      "650:\tlearn: 0.9594880\ttotal: 1m 51s\tremaining: 59.5s\n",
      "651:\tlearn: 0.9595981\ttotal: 1m 51s\tremaining: 59.4s\n",
      "652:\tlearn: 0.9595981\ttotal: 1m 51s\tremaining: 59.2s\n",
      "653:\tlearn: 0.9595981\ttotal: 1m 51s\tremaining: 59s\n",
      "654:\tlearn: 0.9595981\ttotal: 1m 51s\tremaining: 58.9s\n",
      "655:\tlearn: 0.9595981\ttotal: 1m 51s\tremaining: 58.7s\n",
      "656:\tlearn: 0.9597039\ttotal: 1m 52s\tremaining: 58.5s\n",
      "657:\tlearn: 0.9597039\ttotal: 1m 52s\tremaining: 58.4s\n",
      "658:\tlearn: 0.9597039\ttotal: 1m 52s\tremaining: 58.2s\n",
      "659:\tlearn: 0.9597589\ttotal: 1m 52s\tremaining: 58s\n",
      "660:\tlearn: 0.9598096\ttotal: 1m 52s\tremaining: 57.8s\n",
      "661:\tlearn: 0.9597546\ttotal: 1m 52s\tremaining: 57.7s\n",
      "662:\tlearn: 0.9597546\ttotal: 1m 53s\tremaining: 57.5s\n",
      "663:\tlearn: 0.9598604\ttotal: 1m 53s\tremaining: 57.3s\n",
      "664:\tlearn: 0.9598604\ttotal: 1m 53s\tremaining: 57.2s\n",
      "665:\tlearn: 0.9600338\ttotal: 1m 53s\tremaining: 57s\n",
      "666:\tlearn: 0.9601945\ttotal: 1m 53s\tremaining: 56.8s\n",
      "667:\tlearn: 0.9601945\ttotal: 1m 53s\tremaining: 56.6s\n",
      "668:\tlearn: 0.9603594\ttotal: 1m 54s\tremaining: 56.5s\n",
      "669:\tlearn: 0.9603045\ttotal: 1m 54s\tremaining: 56.3s\n",
      "670:\tlearn: 0.9603045\ttotal: 1m 54s\tremaining: 56.1s\n",
      "671:\tlearn: 0.9603045\ttotal: 1m 54s\tremaining: 56s\n",
      "672:\tlearn: 0.9603003\ttotal: 1m 54s\tremaining: 55.8s\n",
      "673:\tlearn: 0.9603003\ttotal: 1m 54s\tremaining: 55.6s\n",
      "674:\tlearn: 0.9603003\ttotal: 1m 55s\tremaining: 55.4s\n",
      "675:\tlearn: 0.9603003\ttotal: 1m 55s\tremaining: 55.3s\n",
      "676:\tlearn: 0.9602453\ttotal: 1m 55s\tremaining: 55.1s\n",
      "677:\tlearn: 0.9602411\ttotal: 1m 55s\tremaining: 54.9s\n",
      "678:\tlearn: 0.9603976\ttotal: 1m 55s\tremaining: 54.7s\n",
      "679:\tlearn: 0.9604651\ttotal: 1m 55s\tremaining: 54.6s\n",
      "680:\tlearn: 0.9605201\ttotal: 1m 56s\tremaining: 54.4s\n",
      "681:\tlearn: 0.9604609\ttotal: 1m 56s\tremaining: 54.2s\n",
      "682:\tlearn: 0.9605117\ttotal: 1m 56s\tremaining: 54.1s\n",
      "683:\tlearn: 0.9604568\ttotal: 1m 56s\tremaining: 53.9s\n",
      "684:\tlearn: 0.9605625\ttotal: 1m 56s\tremaining: 53.7s\n",
      "685:\tlearn: 0.9606174\ttotal: 1m 56s\tremaining: 53.5s\n",
      "686:\tlearn: 0.9606174\ttotal: 1m 57s\tremaining: 53.4s\n",
      "687:\tlearn: 0.9607273\ttotal: 1m 57s\tremaining: 53.2s\n",
      "688:\tlearn: 0.9608330\ttotal: 1m 57s\tremaining: 53s\n",
      "689:\tlearn: 0.9609429\ttotal: 1m 57s\tremaining: 52.9s\n",
      "690:\tlearn: 0.9609429\ttotal: 1m 57s\tremaining: 52.7s\n",
      "691:\tlearn: 0.9609429\ttotal: 1m 57s\tremaining: 52.5s\n",
      "692:\tlearn: 0.9610527\ttotal: 1m 58s\tremaining: 52.3s\n",
      "693:\tlearn: 0.9610527\ttotal: 1m 58s\tremaining: 52.2s\n",
      "694:\tlearn: 0.9610527\ttotal: 1m 58s\tremaining: 52s\n",
      "695:\tlearn: 0.9610060\ttotal: 1m 58s\tremaining: 51.8s\n",
      "696:\tlearn: 0.9611117\ttotal: 1m 58s\tremaining: 51.7s\n",
      "697:\tlearn: 0.9610568\ttotal: 1m 59s\tremaining: 51.5s\n",
      "698:\tlearn: 0.9610568\ttotal: 1m 59s\tremaining: 51.3s\n",
      "699:\tlearn: 0.9611117\ttotal: 1m 59s\tremaining: 51.2s\n",
      "700:\tlearn: 0.9611076\ttotal: 1m 59s\tremaining: 51s\n",
      "701:\tlearn: 0.9611584\ttotal: 1m 59s\tremaining: 50.8s\n",
      "702:\tlearn: 0.9613230\ttotal: 1m 59s\tremaining: 50.6s\n",
      "703:\tlearn: 0.9612682\ttotal: 2m\tremaining: 50.5s\n",
      "704:\tlearn: 0.9614287\ttotal: 2m\tremaining: 50.3s\n",
      "705:\tlearn: 0.9614795\ttotal: 2m\tremaining: 50.1s\n",
      "706:\tlearn: 0.9615344\ttotal: 2m\tremaining: 50s\n",
      "707:\tlearn: 0.9615852\ttotal: 2m\tremaining: 49.8s\n",
      "708:\tlearn: 0.9614755\ttotal: 2m\tremaining: 49.6s\n",
      "709:\tlearn: 0.9615222\ttotal: 2m 1s\tremaining: 49.4s\n",
      "710:\tlearn: 0.9615730\ttotal: 2m 1s\tremaining: 49.3s\n",
      "711:\tlearn: 0.9614632\ttotal: 2m 1s\tremaining: 49.1s\n",
      "712:\tlearn: 0.9615141\ttotal: 2m 1s\tremaining: 48.9s\n",
      "713:\tlearn: 0.9615141\ttotal: 2m 1s\tremaining: 48.7s\n",
      "714:\tlearn: 0.9614043\ttotal: 2m 1s\tremaining: 48.6s\n",
      "715:\tlearn: 0.9614551\ttotal: 2m 2s\tremaining: 48.4s\n",
      "716:\tlearn: 0.9615649\ttotal: 2m 2s\tremaining: 48.2s\n",
      "717:\tlearn: 0.9618393\ttotal: 2m 2s\tremaining: 48.1s\n",
      "718:\tlearn: 0.9618902\ttotal: 2m 2s\tremaining: 47.9s\n",
      "719:\tlearn: 0.9618902\ttotal: 2m 2s\tremaining: 47.7s\n",
      "720:\tlearn: 0.9618353\ttotal: 2m 2s\tremaining: 47.6s\n",
      "721:\tlearn: 0.9619450\ttotal: 2m 3s\tremaining: 47.4s\n",
      "722:\tlearn: 0.9619450\ttotal: 2m 3s\tremaining: 47.2s\n",
      "723:\tlearn: 0.9619959\ttotal: 2m 3s\tremaining: 47.1s\n",
      "724:\tlearn: 0.9620467\ttotal: 2m 3s\tremaining: 46.9s\n",
      "725:\tlearn: 0.9621016\ttotal: 2m 3s\tremaining: 46.7s\n",
      "726:\tlearn: 0.9621564\ttotal: 2m 3s\tremaining: 46.5s\n",
      "727:\tlearn: 0.9621016\ttotal: 2m 4s\tremaining: 46.4s\n",
      "728:\tlearn: 0.9622113\ttotal: 2m 4s\tremaining: 46.2s\n",
      "729:\tlearn: 0.9622113\ttotal: 2m 4s\tremaining: 46s\n",
      "730:\tlearn: 0.9622113\ttotal: 2m 4s\tremaining: 45.9s\n",
      "731:\tlearn: 0.9621564\ttotal: 2m 4s\tremaining: 45.7s\n",
      "732:\tlearn: 0.9621564\ttotal: 2m 5s\tremaining: 45.5s\n",
      "733:\tlearn: 0.9621016\ttotal: 2m 5s\tremaining: 45.4s\n",
      "734:\tlearn: 0.9621524\ttotal: 2m 5s\tremaining: 45.2s\n",
      "735:\tlearn: 0.9622033\ttotal: 2m 5s\tremaining: 45s\n",
      "736:\tlearn: 0.9622033\ttotal: 2m 5s\tremaining: 44.9s\n",
      "737:\tlearn: 0.9623170\ttotal: 2m 5s\tremaining: 44.7s\n",
      "738:\tlearn: 0.9622622\ttotal: 2m 6s\tremaining: 44.5s\n",
      "739:\tlearn: 0.9626460\ttotal: 2m 6s\tremaining: 44.4s\n",
      "740:\tlearn: 0.9627516\ttotal: 2m 6s\tremaining: 44.2s\n",
      "741:\tlearn: 0.9627516\ttotal: 2m 6s\tremaining: 44s\n",
      "742:\tlearn: 0.9627516\ttotal: 2m 6s\tremaining: 43.9s\n",
      "743:\tlearn: 0.9630256\ttotal: 2m 6s\tremaining: 43.7s\n",
      "744:\tlearn: 0.9630256\ttotal: 2m 7s\tremaining: 43.5s\n",
      "745:\tlearn: 0.9631351\ttotal: 2m 7s\tremaining: 43.3s\n",
      "746:\tlearn: 0.9631351\ttotal: 2m 7s\tremaining: 43.2s\n",
      "747:\tlearn: 0.9632955\ttotal: 2m 7s\tremaining: 43s\n",
      "748:\tlearn: 0.9633502\ttotal: 2m 7s\tremaining: 42.8s\n",
      "749:\tlearn: 0.9634050\ttotal: 2m 7s\tremaining: 42.7s\n",
      "750:\tlearn: 0.9634597\ttotal: 2m 8s\tremaining: 42.5s\n",
      "751:\tlearn: 0.9634597\ttotal: 2m 8s\tremaining: 42.3s\n",
      "752:\tlearn: 0.9635692\ttotal: 2m 8s\tremaining: 42.1s\n",
      "753:\tlearn: 0.9635692\ttotal: 2m 8s\tremaining: 42s\n",
      "754:\tlearn: 0.9635653\ttotal: 2m 8s\tremaining: 41.8s\n",
      "755:\tlearn: 0.9637765\ttotal: 2m 8s\tremaining: 41.6s\n",
      "756:\tlearn: 0.9637218\ttotal: 2m 9s\tremaining: 41.5s\n",
      "757:\tlearn: 0.9637218\ttotal: 2m 9s\tremaining: 41.3s\n",
      "758:\tlearn: 0.9636671\ttotal: 2m 9s\tremaining: 41.1s\n",
      "759:\tlearn: 0.9637218\ttotal: 2m 9s\tremaining: 40.9s\n",
      "760:\tlearn: 0.9637218\ttotal: 2m 9s\tremaining: 40.8s\n",
      "761:\tlearn: 0.9638312\ttotal: 2m 10s\tremaining: 40.6s\n",
      "762:\tlearn: 0.9640462\ttotal: 2m 10s\tremaining: 40.4s\n",
      "763:\tlearn: 0.9642065\ttotal: 2m 10s\tremaining: 40.3s\n",
      "764:\tlearn: 0.9642574\ttotal: 2m 10s\tremaining: 40.1s\n",
      "765:\tlearn: 0.9643668\ttotal: 2m 10s\tremaining: 39.9s\n",
      "766:\tlearn: 0.9644252\ttotal: 2m 10s\tremaining: 39.7s\n",
      "767:\tlearn: 0.9646363\ttotal: 2m 11s\tremaining: 39.6s\n",
      "768:\tlearn: 0.9646363\ttotal: 2m 11s\tremaining: 39.4s\n",
      "769:\tlearn: 0.9646363\ttotal: 2m 11s\tremaining: 39.2s\n",
      "770:\tlearn: 0.9647965\ttotal: 2m 11s\tremaining: 39.1s\n",
      "771:\tlearn: 0.9650660\ttotal: 2m 11s\tremaining: 38.9s\n",
      "772:\tlearn: 0.9651169\ttotal: 2m 11s\tremaining: 38.7s\n",
      "773:\tlearn: 0.9651678\ttotal: 2m 12s\tremaining: 38.5s\n",
      "774:\tlearn: 0.9652807\ttotal: 2m 12s\tremaining: 38.4s\n",
      "775:\tlearn: 0.9652807\ttotal: 2m 12s\tremaining: 38.2s\n",
      "776:\tlearn: 0.9652807\ttotal: 2m 12s\tremaining: 38s\n",
      "777:\tlearn: 0.9653353\ttotal: 2m 12s\tremaining: 37.9s\n",
      "778:\tlearn: 0.9653353\ttotal: 2m 12s\tremaining: 37.7s\n",
      "779:\tlearn: 0.9655536\ttotal: 2m 13s\tremaining: 37.5s\n",
      "780:\tlearn: 0.9655536\ttotal: 2m 13s\tremaining: 37.3s\n",
      "781:\tlearn: 0.9654991\ttotal: 2m 13s\tremaining: 37.2s\n",
      "782:\tlearn: 0.9655500\ttotal: 2m 13s\tremaining: 37s\n"
     ]
    },
    {
     "name": "stdout",
     "output_type": "stream",
     "text": [
      "783:\tlearn: 0.9654954\ttotal: 2m 13s\tremaining: 36.8s\n",
      "784:\tlearn: 0.9654954\ttotal: 2m 13s\tremaining: 36.7s\n",
      "785:\tlearn: 0.9654954\ttotal: 2m 14s\tremaining: 36.5s\n",
      "786:\tlearn: 0.9655500\ttotal: 2m 14s\tremaining: 36.3s\n",
      "787:\tlearn: 0.9655500\ttotal: 2m 14s\tremaining: 36.1s\n",
      "788:\tlearn: 0.9657646\ttotal: 2m 14s\tremaining: 36s\n",
      "789:\tlearn: 0.9657646\ttotal: 2m 14s\tremaining: 35.8s\n",
      "790:\tlearn: 0.9659247\ttotal: 2m 14s\tremaining: 35.6s\n",
      "791:\tlearn: 0.9658701\ttotal: 2m 15s\tremaining: 35.5s\n",
      "792:\tlearn: 0.9659756\ttotal: 2m 15s\tremaining: 35.3s\n",
      "793:\tlearn: 0.9664083\ttotal: 2m 15s\tremaining: 35.1s\n",
      "794:\tlearn: 0.9664628\ttotal: 2m 15s\tremaining: 35s\n",
      "795:\tlearn: 0.9664628\ttotal: 2m 15s\tremaining: 34.8s\n",
      "796:\tlearn: 0.9665173\ttotal: 2m 15s\tremaining: 34.6s\n",
      "797:\tlearn: 0.9665173\ttotal: 2m 16s\tremaining: 34.4s\n",
      "798:\tlearn: 0.9665173\ttotal: 2m 16s\tremaining: 34.3s\n",
      "799:\tlearn: 0.9664628\ttotal: 2m 16s\tremaining: 34.1s\n",
      "800:\tlearn: 0.9665682\ttotal: 2m 16s\tremaining: 33.9s\n",
      "801:\tlearn: 0.9665682\ttotal: 2m 16s\tremaining: 33.8s\n",
      "802:\tlearn: 0.9665682\ttotal: 2m 16s\tremaining: 33.6s\n",
      "803:\tlearn: 0.9665682\ttotal: 2m 17s\tremaining: 33.4s\n",
      "804:\tlearn: 0.9665718\ttotal: 2m 17s\tremaining: 33.3s\n",
      "805:\tlearn: 0.9666262\ttotal: 2m 17s\tremaining: 33.1s\n",
      "806:\tlearn: 0.9667352\ttotal: 2m 17s\tremaining: 32.9s\n",
      "807:\tlearn: 0.9666807\ttotal: 2m 17s\tremaining: 32.7s\n",
      "808:\tlearn: 0.9666807\ttotal: 2m 17s\tremaining: 32.6s\n",
      "809:\tlearn: 0.9666333\ttotal: 2m 18s\tremaining: 32.4s\n",
      "810:\tlearn: 0.9667897\ttotal: 2m 18s\tremaining: 32.2s\n",
      "811:\tlearn: 0.9669496\ttotal: 2m 18s\tremaining: 32.1s\n",
      "812:\tlearn: 0.9669496\ttotal: 2m 18s\tremaining: 31.9s\n",
      "813:\tlearn: 0.9671094\ttotal: 2m 18s\tremaining: 31.7s\n",
      "814:\tlearn: 0.9672183\ttotal: 2m 19s\tremaining: 31.6s\n",
      "815:\tlearn: 0.9673272\ttotal: 2m 19s\tremaining: 31.4s\n",
      "816:\tlearn: 0.9673919\ttotal: 2m 19s\tremaining: 31.2s\n",
      "817:\tlearn: 0.9674428\ttotal: 2m 19s\tremaining: 31.1s\n",
      "818:\tlearn: 0.9674428\ttotal: 2m 19s\tremaining: 30.9s\n",
      "819:\tlearn: 0.9675550\ttotal: 2m 19s\tremaining: 30.7s\n",
      "820:\tlearn: 0.9676638\ttotal: 2m 20s\tremaining: 30.5s\n",
      "821:\tlearn: 0.9677148\ttotal: 2m 20s\tremaining: 30.4s\n",
      "822:\tlearn: 0.9677148\ttotal: 2m 20s\tremaining: 30.2s\n",
      "823:\tlearn: 0.9676570\ttotal: 2m 20s\tremaining: 30s\n",
      "824:\tlearn: 0.9677114\ttotal: 2m 20s\tremaining: 29.9s\n",
      "825:\tlearn: 0.9679356\ttotal: 2m 20s\tremaining: 29.7s\n",
      "826:\tlearn: 0.9679899\ttotal: 2m 21s\tremaining: 29.5s\n",
      "827:\tlearn: 0.9680409\ttotal: 2m 21s\tremaining: 29.3s\n",
      "828:\tlearn: 0.9680409\ttotal: 2m 21s\tremaining: 29.2s\n",
      "829:\tlearn: 0.9680409\ttotal: 2m 21s\tremaining: 29s\n",
      "830:\tlearn: 0.9679865\ttotal: 2m 21s\tremaining: 28.8s\n",
      "831:\tlearn: 0.9680409\ttotal: 2m 21s\tremaining: 28.7s\n",
      "832:\tlearn: 0.9680409\ttotal: 2m 22s\tremaining: 28.5s\n",
      "833:\tlearn: 0.9680409\ttotal: 2m 22s\tremaining: 28.3s\n",
      "834:\tlearn: 0.9680409\ttotal: 2m 22s\tremaining: 28.1s\n",
      "835:\tlearn: 0.9680409\ttotal: 2m 22s\tremaining: 28s\n",
      "836:\tlearn: 0.9680409\ttotal: 2m 22s\tremaining: 27.8s\n",
      "837:\tlearn: 0.9680409\ttotal: 2m 22s\tremaining: 27.6s\n",
      "838:\tlearn: 0.9680409\ttotal: 2m 23s\tremaining: 27.5s\n",
      "839:\tlearn: 0.9680952\ttotal: 2m 23s\tremaining: 27.3s\n",
      "840:\tlearn: 0.9681971\ttotal: 2m 23s\tremaining: 27.1s\n",
      "841:\tlearn: 0.9681971\ttotal: 2m 23s\tremaining: 26.9s\n",
      "842:\tlearn: 0.9681971\ttotal: 2m 23s\tremaining: 26.8s\n",
      "843:\tlearn: 0.9681971\ttotal: 2m 23s\tremaining: 26.6s\n",
      "844:\tlearn: 0.9681971\ttotal: 2m 24s\tremaining: 26.4s\n",
      "845:\tlearn: 0.9681971\ttotal: 2m 24s\tremaining: 26.3s\n",
      "846:\tlearn: 0.9683058\ttotal: 2m 24s\tremaining: 26.1s\n",
      "847:\tlearn: 0.9683601\ttotal: 2m 24s\tremaining: 25.9s\n",
      "848:\tlearn: 0.9683601\ttotal: 2m 24s\tremaining: 25.7s\n",
      "849:\tlearn: 0.9683601\ttotal: 2m 24s\tremaining: 25.6s\n",
      "850:\tlearn: 0.9683601\ttotal: 2m 25s\tremaining: 25.4s\n",
      "851:\tlearn: 0.9686316\ttotal: 2m 25s\tremaining: 25.2s\n",
      "852:\tlearn: 0.9686859\ttotal: 2m 25s\tremaining: 25.1s\n",
      "853:\tlearn: 0.9687944\ttotal: 2m 25s\tremaining: 24.9s\n",
      "854:\tlearn: 0.9687944\ttotal: 2m 25s\tremaining: 24.7s\n",
      "855:\tlearn: 0.9687401\ttotal: 2m 25s\tremaining: 24.5s\n",
      "856:\tlearn: 0.9688487\ttotal: 2m 26s\tremaining: 24.4s\n",
      "857:\tlearn: 0.9688487\ttotal: 2m 26s\tremaining: 24.2s\n",
      "858:\tlearn: 0.9688487\ttotal: 2m 26s\tremaining: 24s\n",
      "859:\tlearn: 0.9688487\ttotal: 2m 26s\tremaining: 23.9s\n",
      "860:\tlearn: 0.9690624\ttotal: 2m 26s\tremaining: 23.7s\n",
      "861:\tlearn: 0.9691134\ttotal: 2m 26s\tremaining: 23.5s\n",
      "862:\tlearn: 0.9692761\ttotal: 2m 27s\tremaining: 23.4s\n",
      "863:\tlearn: 0.9692761\ttotal: 2m 27s\tremaining: 23.2s\n",
      "864:\tlearn: 0.9694355\ttotal: 2m 27s\tremaining: 23s\n",
      "865:\tlearn: 0.9691644\ttotal: 2m 27s\tremaining: 22.8s\n",
      "866:\tlearn: 0.9691644\ttotal: 2m 27s\tremaining: 22.7s\n",
      "867:\tlearn: 0.9693239\ttotal: 2m 27s\tremaining: 22.5s\n",
      "868:\tlearn: 0.9693239\ttotal: 2m 28s\tremaining: 22.3s\n",
      "869:\tlearn: 0.9691611\ttotal: 2m 28s\tremaining: 22.2s\n",
      "870:\tlearn: 0.9691611\ttotal: 2m 28s\tremaining: 22s\n",
      "871:\tlearn: 0.9692186\ttotal: 2m 28s\tremaining: 21.8s\n",
      "872:\tlearn: 0.9691611\ttotal: 2m 28s\tremaining: 21.6s\n",
      "873:\tlearn: 0.9692664\ttotal: 2m 28s\tremaining: 21.5s\n",
      "874:\tlearn: 0.9693174\ttotal: 2m 29s\tremaining: 21.3s\n",
      "875:\tlearn: 0.9693174\ttotal: 2m 29s\tremaining: 21.1s\n",
      "876:\tlearn: 0.9693174\ttotal: 2m 29s\tremaining: 21s\n",
      "877:\tlearn: 0.9693174\ttotal: 2m 29s\tremaining: 20.8s\n",
      "878:\tlearn: 0.9695311\ttotal: 2m 29s\tremaining: 20.6s\n",
      "879:\tlearn: 0.9696906\ttotal: 2m 29s\tremaining: 20.4s\n",
      "880:\tlearn: 0.9696906\ttotal: 2m 30s\tremaining: 20.3s\n",
      "881:\tlearn: 0.9697480\ttotal: 2m 30s\tremaining: 20.1s\n",
      "882:\tlearn: 0.9698022\ttotal: 2m 30s\tremaining: 19.9s\n",
      "883:\tlearn: 0.9699074\ttotal: 2m 30s\tremaining: 19.8s\n",
      "884:\tlearn: 0.9699616\ttotal: 2m 30s\tremaining: 19.6s\n",
      "885:\tlearn: 0.9699616\ttotal: 2m 30s\tremaining: 19.4s\n",
      "886:\tlearn: 0.9699616\ttotal: 2m 31s\tremaining: 19.2s\n",
      "887:\tlearn: 0.9701241\ttotal: 2m 31s\tremaining: 19.1s\n",
      "888:\tlearn: 0.9702293\ttotal: 2m 31s\tremaining: 18.9s\n",
      "889:\tlearn: 0.9703918\ttotal: 2m 31s\tremaining: 18.7s\n",
      "890:\tlearn: 0.9703376\ttotal: 2m 31s\tremaining: 18.6s\n",
      "891:\tlearn: 0.9703887\ttotal: 2m 31s\tremaining: 18.4s\n",
      "892:\tlearn: 0.9703887\ttotal: 2m 32s\tremaining: 18.2s\n",
      "893:\tlearn: 0.9703887\ttotal: 2m 32s\tremaining: 18.1s\n",
      "894:\tlearn: 0.9704939\ttotal: 2m 32s\tremaining: 17.9s\n",
      "895:\tlearn: 0.9704939\ttotal: 2m 32s\tremaining: 17.7s\n",
      "896:\tlearn: 0.9704397\ttotal: 2m 32s\tremaining: 17.5s\n",
      "897:\tlearn: 0.9703856\ttotal: 2m 32s\tremaining: 17.4s\n",
      "898:\tlearn: 0.9707615\ttotal: 2m 33s\tremaining: 17.2s\n",
      "899:\tlearn: 0.9709749\ttotal: 2m 33s\tremaining: 17s\n",
      "900:\tlearn: 0.9710831\ttotal: 2m 33s\tremaining: 16.9s\n",
      "901:\tlearn: 0.9712964\ttotal: 2m 33s\tremaining: 16.7s\n",
      "902:\tlearn: 0.9714586\ttotal: 2m 33s\tremaining: 16.5s\n",
      "903:\tlearn: 0.9713505\ttotal: 2m 33s\tremaining: 16.4s\n",
      "904:\tlearn: 0.9716208\ttotal: 2m 34s\tremaining: 16.2s\n",
      "905:\tlearn: 0.9715667\ttotal: 2m 34s\tremaining: 16s\n",
      "906:\tlearn: 0.9716178\ttotal: 2m 34s\tremaining: 15.8s\n",
      "907:\tlearn: 0.9717259\ttotal: 2m 34s\tremaining: 15.7s\n",
      "908:\tlearn: 0.9719361\ttotal: 2m 34s\tremaining: 15.5s\n",
      "909:\tlearn: 0.9719361\ttotal: 2m 34s\tremaining: 15.3s\n",
      "910:\tlearn: 0.9720412\ttotal: 2m 35s\tremaining: 15.2s\n",
      "911:\tlearn: 0.9720412\ttotal: 2m 35s\tremaining: 15s\n",
      "912:\tlearn: 0.9721463\ttotal: 2m 35s\tremaining: 14.8s\n",
      "913:\tlearn: 0.9722003\ttotal: 2m 35s\tremaining: 14.6s\n",
      "914:\tlearn: 0.9722543\ttotal: 2m 35s\tremaining: 14.5s\n",
      "915:\tlearn: 0.9722543\ttotal: 2m 36s\tremaining: 14.3s\n",
      "916:\tlearn: 0.9721974\ttotal: 2m 36s\tremaining: 14.1s\n",
      "917:\tlearn: 0.9723594\ttotal: 2m 36s\tremaining: 14s\n",
      "918:\tlearn: 0.9724616\ttotal: 2m 36s\tremaining: 13.8s\n",
      "919:\tlearn: 0.9724076\ttotal: 2m 36s\tremaining: 13.6s\n",
      "920:\tlearn: 0.9722485\ttotal: 2m 36s\tremaining: 13.5s\n",
      "921:\tlearn: 0.9721405\ttotal: 2m 37s\tremaining: 13.3s\n",
      "922:\tlearn: 0.9721405\ttotal: 2m 37s\tremaining: 13.1s\n",
      "923:\tlearn: 0.9721974\ttotal: 2m 37s\tremaining: 12.9s\n",
      "924:\tlearn: 0.9723565\ttotal: 2m 37s\tremaining: 12.8s\n",
      "925:\tlearn: 0.9724105\ttotal: 2m 37s\tremaining: 12.6s\n",
      "926:\tlearn: 0.9725156\ttotal: 2m 37s\tremaining: 12.4s\n",
      "927:\tlearn: 0.9725156\ttotal: 2m 38s\tremaining: 12.3s\n",
      "928:\tlearn: 0.9724616\ttotal: 2m 38s\tremaining: 12.1s\n",
      "929:\tlearn: 0.9724616\ttotal: 2m 38s\tremaining: 11.9s\n",
      "930:\tlearn: 0.9726150\ttotal: 2m 38s\tremaining: 11.8s\n",
      "931:\tlearn: 0.9726150\ttotal: 2m 38s\tremaining: 11.6s\n",
      "932:\tlearn: 0.9729332\ttotal: 2m 38s\tremaining: 11.4s\n",
      "933:\tlearn: 0.9730411\ttotal: 2m 39s\tremaining: 11.2s\n",
      "934:\tlearn: 0.9730411\ttotal: 2m 39s\tremaining: 11.1s\n",
      "935:\tlearn: 0.9729872\ttotal: 2m 39s\tremaining: 10.9s\n",
      "936:\tlearn: 0.9729872\ttotal: 2m 39s\tremaining: 10.7s\n",
      "937:\tlearn: 0.9729872\ttotal: 2m 39s\tremaining: 10.6s\n",
      "938:\tlearn: 0.9732030\ttotal: 2m 39s\tremaining: 10.4s\n"
     ]
    },
    {
     "name": "stdout",
     "output_type": "stream",
     "text": [
      "939:\tlearn: 0.9732030\ttotal: 2m 40s\tremaining: 10.2s\n",
      "940:\tlearn: 0.9733109\ttotal: 2m 40s\tremaining: 10s\n",
      "941:\tlearn: 0.9734727\ttotal: 2m 40s\tremaining: 9.88s\n",
      "942:\tlearn: 0.9734727\ttotal: 2m 40s\tremaining: 9.71s\n",
      "943:\tlearn: 0.9734188\ttotal: 2m 40s\tremaining: 9.54s\n",
      "944:\tlearn: 0.9733109\ttotal: 2m 40s\tremaining: 9.37s\n",
      "945:\tlearn: 0.9734188\ttotal: 2m 41s\tremaining: 9.2s\n",
      "946:\tlearn: 0.9733649\ttotal: 2m 41s\tremaining: 9.03s\n",
      "947:\tlearn: 0.9736884\ttotal: 2m 41s\tremaining: 8.86s\n",
      "948:\tlearn: 0.9736345\ttotal: 2m 41s\tremaining: 8.69s\n",
      "949:\tlearn: 0.9737395\ttotal: 2m 41s\tremaining: 8.52s\n",
      "950:\tlearn: 0.9737395\ttotal: 2m 41s\tremaining: 8.35s\n",
      "951:\tlearn: 0.9737934\ttotal: 2m 42s\tremaining: 8.18s\n",
      "952:\tlearn: 0.9737934\ttotal: 2m 42s\tremaining: 8s\n",
      "953:\tlearn: 0.9738445\ttotal: 2m 42s\tremaining: 7.83s\n",
      "954:\tlearn: 0.9738445\ttotal: 2m 42s\tremaining: 7.66s\n",
      "955:\tlearn: 0.9738957\ttotal: 2m 42s\tremaining: 7.49s\n",
      "956:\tlearn: 0.9738957\ttotal: 2m 42s\tremaining: 7.32s\n",
      "957:\tlearn: 0.9738957\ttotal: 2m 43s\tremaining: 7.15s\n",
      "958:\tlearn: 0.9738418\ttotal: 2m 43s\tremaining: 6.98s\n",
      "959:\tlearn: 0.9738418\ttotal: 2m 43s\tremaining: 6.81s\n",
      "960:\tlearn: 0.9738957\ttotal: 2m 43s\tremaining: 6.64s\n",
      "961:\tlearn: 0.9736884\ttotal: 2m 43s\tremaining: 6.47s\n",
      "962:\tlearn: 0.9737934\ttotal: 2m 44s\tremaining: 6.3s\n",
      "963:\tlearn: 0.9736884\ttotal: 2m 44s\tremaining: 6.13s\n",
      "964:\tlearn: 0.9736884\ttotal: 2m 44s\tremaining: 5.96s\n",
      "965:\tlearn: 0.9736884\ttotal: 2m 44s\tremaining: 5.79s\n",
      "966:\tlearn: 0.9737961\ttotal: 2m 44s\tremaining: 5.62s\n",
      "967:\tlearn: 0.9738473\ttotal: 2m 44s\tremaining: 5.45s\n",
      "968:\tlearn: 0.9740089\ttotal: 2m 45s\tremaining: 5.28s\n",
      "969:\tlearn: 0.9741139\ttotal: 2m 45s\tremaining: 5.11s\n",
      "970:\tlearn: 0.9743294\ttotal: 2m 45s\tremaining: 4.94s\n",
      "971:\tlearn: 0.9745367\ttotal: 2m 45s\tremaining: 4.77s\n",
      "972:\tlearn: 0.9745367\ttotal: 2m 45s\tremaining: 4.6s\n",
      "973:\tlearn: 0.9745340\ttotal: 2m 45s\tremaining: 4.43s\n",
      "974:\tlearn: 0.9745340\ttotal: 2m 46s\tremaining: 4.26s\n",
      "975:\tlearn: 0.9745340\ttotal: 2m 46s\tremaining: 4.09s\n",
      "976:\tlearn: 0.9745340\ttotal: 2m 46s\tremaining: 3.92s\n",
      "977:\tlearn: 0.9745878\ttotal: 2m 46s\tremaining: 3.75s\n",
      "978:\tlearn: 0.9746390\ttotal: 2m 46s\tremaining: 3.58s\n",
      "979:\tlearn: 0.9748005\ttotal: 2m 46s\tremaining: 3.4s\n",
      "980:\tlearn: 0.9748517\ttotal: 2m 47s\tremaining: 3.23s\n",
      "981:\tlearn: 0.9748517\ttotal: 2m 47s\tremaining: 3.06s\n",
      "982:\tlearn: 0.9748517\ttotal: 2m 47s\tremaining: 2.89s\n",
      "983:\tlearn: 0.9749029\ttotal: 2m 47s\tremaining: 2.72s\n",
      "984:\tlearn: 0.9749029\ttotal: 2m 47s\tremaining: 2.55s\n",
      "985:\tlearn: 0.9748490\ttotal: 2m 47s\tremaining: 2.38s\n",
      "986:\tlearn: 0.9748490\ttotal: 2m 48s\tremaining: 2.21s\n",
      "987:\tlearn: 0.9749541\ttotal: 2m 48s\tremaining: 2.04s\n",
      "988:\tlearn: 0.9750079\ttotal: 2m 48s\tremaining: 1.87s\n",
      "989:\tlearn: 0.9751155\ttotal: 2m 48s\tremaining: 1.7s\n",
      "990:\tlearn: 0.9752205\ttotal: 2m 48s\tremaining: 1.53s\n",
      "991:\tlearn: 0.9752205\ttotal: 2m 48s\tremaining: 1.36s\n",
      "992:\tlearn: 0.9752743\ttotal: 2m 49s\tremaining: 1.19s\n",
      "993:\tlearn: 0.9754356\ttotal: 2m 49s\tremaining: 1.02s\n",
      "994:\tlearn: 0.9755406\ttotal: 2m 49s\tremaining: 852ms\n",
      "995:\tlearn: 0.9755406\ttotal: 2m 49s\tremaining: 681ms\n",
      "996:\tlearn: 0.9756456\ttotal: 2m 49s\tremaining: 511ms\n",
      "997:\tlearn: 0.9758043\ttotal: 2m 49s\tremaining: 341ms\n",
      "998:\tlearn: 0.9758043\ttotal: 2m 50s\tremaining: 170ms\n",
      "999:\tlearn: 0.9758043\ttotal: 2m 50s\tremaining: 0us\n"
     ]
    },
    {
     "data": {
      "text/plain": [
       "<catboost.core.CatBoostClassifier at 0x1c54ea8b6d0>"
      ]
     },
     "execution_count": 69,
     "metadata": {},
     "output_type": "execute_result"
    }
   ],
   "source": [
    "model_cb.fit(train_features_rus, train_target_rus)"
   ]
  },
  {
   "cell_type": "code",
   "execution_count": 70,
   "metadata": {
    "scrolled": false
   },
   "outputs": [
    {
     "data": {
      "image/png": "[encoded data removed]",
      "text/plain": [
       "<Figure size 800x600 with 1 Axes>"
      ]
     },
     "metadata": {},
     "output_type": "display_data"
    },
    {
     "name": "stdout",
     "output_type": "stream",
     "text": [
      "Значение F1-меры для модели составляет 0.7595697564062006 при значении порога 0.74\n"
     ]
    }
   ],
   "source": [
    "f1_valid, threshold = threshold_selection(model_cb, valid_features, valid_target)"
   ]
  },
  {
   "cell_type": "markdown",
   "metadata": {},
   "source": [
    "Оптимальное значение порога составляет 0,74, а значение F1-меры 0,759. Внесём полученные данные в сводную таблицу."
   ]
  },
  {
   "cell_type": "code",
   "execution_count": 71,
   "metadata": {},
   "outputs": [],
   "source": [
    "model_pivot.loc[i] = 'model_cb', 'RandomUnderSampler', threshold, f1_valid\n",
    "i += 1"
   ]
  },
  {
   "cell_type": "markdown",
   "metadata": {},
   "source": [
    "### Выбор наилучшей модели"
   ]
  },
  {
   "cell_type": "markdown",
   "metadata": {},
   "source": [
    "Для оценки работы моделей и выбора наилучшей выведем на экран сформированную сводную таблицу."
   ]
  },
  {
   "cell_type": "code",
   "execution_count": 72,
   "metadata": {},
   "outputs": [
    {
     "data": {
      "text/html": [
       "<div>\n",
       "<style scoped>\n",
       "    .dataframe tbody tr th:only-of-type {\n",
       "        vertical-align: middle;\n",
       "    }\n",
       "\n",
       "    .dataframe tbody tr th {\n",
       "        vertical-align: top;\n",
       "    }\n",
       "\n",
       "    .dataframe thead th {\n",
       "        text-align: right;\n",
       "    }\n",
       "</style>\n",
       "<table border=\"1\" class=\"dataframe\">\n",
       "  <thead>\n",
       "    <tr style=\"text-align: right;\">\n",
       "      <th></th>\n",
       "      <th>model</th>\n",
       "      <th>data_processing_method</th>\n",
       "      <th>threshold</th>\n",
       "      <th>f1_score_valid</th>\n",
       "    </tr>\n",
       "  </thead>\n",
       "  <tbody>\n",
       "    <tr>\n",
       "      <th>0</th>\n",
       "      <td>model_lr_base</td>\n",
       "      <td>no_metod</td>\n",
       "      <td>0.21</td>\n",
       "      <td>0.777047</td>\n",
       "    </tr>\n",
       "    <tr>\n",
       "      <th>5</th>\n",
       "      <td>model_sgd_rus</td>\n",
       "      <td>RandomUnderSampler</td>\n",
       "      <td>0.69</td>\n",
       "      <td>0.763050</td>\n",
       "    </tr>\n",
       "    <tr>\n",
       "      <th>4</th>\n",
       "      <td>model_sgd_base</td>\n",
       "      <td>no_metod</td>\n",
       "      <td>0.29</td>\n",
       "      <td>0.760394</td>\n",
       "    </tr>\n",
       "    <tr>\n",
       "      <th>6</th>\n",
       "      <td>model_cb</td>\n",
       "      <td>RandomUnderSampler</td>\n",
       "      <td>0.74</td>\n",
       "      <td>0.759570</td>\n",
       "    </tr>\n",
       "    <tr>\n",
       "      <th>1</th>\n",
       "      <td>model_lr_rus</td>\n",
       "      <td>RandomUnderSampler</td>\n",
       "      <td>0.64</td>\n",
       "      <td>0.752783</td>\n",
       "    </tr>\n",
       "    <tr>\n",
       "      <th>3</th>\n",
       "      <td>model_rf_rus</td>\n",
       "      <td>RandomUnderSampler</td>\n",
       "      <td>0.53</td>\n",
       "      <td>0.672261</td>\n",
       "    </tr>\n",
       "    <tr>\n",
       "      <th>2</th>\n",
       "      <td>model_rf_base</td>\n",
       "      <td>no_metod</td>\n",
       "      <td>0.12</td>\n",
       "      <td>0.656848</td>\n",
       "    </tr>\n",
       "  </tbody>\n",
       "</table>\n",
       "</div>"
      ],
      "text/plain": [
       "            model data_processing_method  threshold  f1_score_valid\n",
       "0   model_lr_base               no_metod       0.21        0.777047\n",
       "5   model_sgd_rus     RandomUnderSampler       0.69        0.763050\n",
       "4  model_sgd_base               no_metod       0.29        0.760394\n",
       "6        model_cb     RandomUnderSampler       0.74        0.759570\n",
       "1    model_lr_rus     RandomUnderSampler       0.64        0.752783\n",
       "3    model_rf_rus     RandomUnderSampler       0.53        0.672261\n",
       "2   model_rf_base               no_metod       0.12        0.656848"
      ]
     },
     "execution_count": 72,
     "metadata": {},
     "output_type": "execute_result"
    }
   ],
   "source": [
    "model_pivot.sort_values(by='f1_score_valid', ascending=False)"
   ]
  },
  {
   "cell_type": "markdown",
   "metadata": {},
   "source": [
    "На основе полученной таблицы видно, что наилучшее значение F1-меры для валидационной выборки получено для модели линейной регрессии *model_lr_base*, обученной на полной тренировочной выборке с дисбалансом классов. Выберем её в качестве наилучшей. \n",
    "\n",
    "Дополнительно отметим, что согласно полученным значениям F1-меры для валидационной выборки, требованиям задачи отвечают все модели, кроме моделей случайного леса."
   ]
  },
  {
   "cell_type": "markdown",
   "metadata": {},
   "source": [
    "***Выводы***\n",
    "1. В ходе выполнения работы были созданы следующие модели ML:\n",
    "    1. Модели логистической регрессии:\n",
    "        1. Модель *model_lr_base*, обученной на исходных несбалансированных данных;\n",
    "        2. Модель *model_lr_rus*, обученной на сбалансированных данных;\n",
    "    2. Модели на основе случаного леса, обученной на сбалансированных данных:\n",
    "        1. Модель *model_rf_base*, обученной на исходных несбалансированных данных;\n",
    "        2. Модель *model_rf_rus*, обученной на сбалансированных данных;\n",
    "    3. Модели градиентного бустинга с линейным классификатором:\n",
    "        1. Модель *model_sgd_base*, обученной на исходных несбалансированных данных;\n",
    "        2. Модель *model_sgd_rus*, обученной на сбалансированных данных;\n",
    "    4. Модель *model_cb* градиентного бустинга на основе *CatBoost*, обученную только на сбалансированных данных;\n",
    "    \n",
    "\n",
    "2. Каждая модель была обучена на тренировочных данных и для каждой подбирался порог принятия решения;\n",
    "\n",
    "\n",
    "3. По результатам оценки работы моделей на валидационных данных было установлено, что требованиям задачи отвечают все модели, кроме моделей случайного леса.\n",
    "\n",
    "    \n",
    "4. В качестве наилучшей модели выбрана модель *model_lr_base*. Для данной модели значение F1-меры, полученное на валидационных данных составило 0,774. После выбора данной модели выполнено её обучение на полном наборе данных (на тренировочных и валидационных).\n"
   ]
  },
  {
   "cell_type": "markdown",
   "metadata": {},
   "source": [
    "## Оценка работы модели на тестовой выборке."
   ]
  },
  {
   "cell_type": "markdown",
   "metadata": {},
   "source": [
    "Проверим работу модели на тестовой выборке. Получим предсказания и расчитаем F1-меру."
   ]
  },
  {
   "cell_type": "code",
   "execution_count": 73,
   "metadata": {},
   "outputs": [],
   "source": [
    "predictions = np.where(model_lr_base.predict_proba(test_features)[:, 1] >= 0.21, 1, 0)"
   ]
  },
  {
   "cell_type": "code",
   "execution_count": 74,
   "metadata": {},
   "outputs": [
    {
     "data": {
      "text/plain": [
       "0.7820006080875647"
      ]
     },
     "execution_count": 74,
     "metadata": {},
     "output_type": "execute_result"
    }
   ],
   "source": [
    "f1_score(test_target, predictions)"
   ]
  },
  {
   "cell_type": "markdown",
   "metadata": {},
   "source": [
    "Значение F1-меры для тестовой выборки составило 0,782, что соответствует требованию поставленной задачи (F1-мера должна быть не менее 0,75)."
   ]
  },
  {
   "cell_type": "markdown",
   "metadata": {},
   "source": [
    "## Общие выводы"
   ]
  },
  {
   "cell_type": "markdown",
   "metadata": {},
   "source": [
    "1. Для создания моделей ML была **выполнена обработка датафрейма**, а именно:\n",
    "    1. Текстовые признаки \"почищены\" и лемметизорованы.\n",
    "    2. Выполнено деление датафрейма на тренировочную, валидационную и тестовую выборки;\n",
    "    3. **Выполнена векторизация текстовых признаков путём расчёта показателей TFIDF**.\n",
    "    4. Для тренировочных данных выполнена балансировка классов по целевому показателю (**исходный дисбаланс составлял 1:9**). **Обучение моделей выполнялось как по исходным тренировочным данным, так и по преобразованным (сбалансированным)**.\n",
    "\n",
    "\n",
    "2. В ходе выполнения работы были созданы следующие модели ML:\n",
    "    1. Модели логистической регрессии:\n",
    "        * Модель ***model_lr_base***, обученной на исходных несбалансированных данных;\n",
    "        * Модель ***model_lr_rus***, обученной на сбалансированных данных;\n",
    "    2. Модели на основе случаного леса, обученной на сбалансированных данных:\n",
    "        * Модель ***model_rf_base***, обученной на исходных несбалансированных данных;\n",
    "        * Модель ***model_rf_rus***, обученной на сбалансированных данных;\n",
    "    3. Модели градиентного бустинга с линейным классификатором:\n",
    "        * Модель ***model_sgd_base***, обученной на исходных несбалансированных данных;\n",
    "        * Модель ***model_sgd_rus***, обученной на сбалансированных данных;\n",
    "    4. Модель ***model_cb*** градиентного бустинга на основе *CatBoost*, обученную только на сбалансированных данных;\n",
    "\n",
    "\n",
    "3. Каждая модель была обучена на тренировочных данных и **для каждой подбирался порог принятия решения**;\n",
    "\n",
    "\n",
    "4. По результатам оценки работы моделей на валидационных данных было установлено, что требованиям задачи отвечают все модели, кроме моделей случайного леса.\n",
    "    \n",
    "    \n",
    "5. **В качестве наилучшей модели выбрана модель *model_lr_base***. Для данной модели значение F1-меры, полученное на валидационных данных составило 0,777. \n",
    "\n",
    "\n",
    "6. По результатам оценки работы модели **на тестовой выборке F1-мера для выбранной модели составила 0,782**, что соответствует требованию поставленной задачи (F1-мера должна быть не менее 0,75).\n"
   ]
  }
 ],
 "metadata": {
  "ExecuteTimeLog": [
   {
    "duration": 417,
    "start_time": "2023-12-25T08:50:44.780Z"
   },
   {
    "duration": 2250,
    "start_time": "2023-12-25T08:51:15.754Z"
   },
   {
    "duration": 29,
    "start_time": "2023-12-25T08:52:00.588Z"
   },
   {
    "duration": 15,
    "start_time": "2023-12-25T08:52:53.546Z"
   },
   {
    "duration": 4,
    "start_time": "2023-12-25T08:54:56.033Z"
   },
   {
    "duration": 62,
    "start_time": "2023-12-25T08:55:28.014Z"
   },
   {
    "duration": 8,
    "start_time": "2023-12-25T08:55:34.827Z"
   },
   {
    "duration": 8,
    "start_time": "2023-12-25T08:56:29.379Z"
   },
   {
    "duration": 7,
    "start_time": "2023-12-25T08:56:42.496Z"
   },
   {
    "duration": 64,
    "start_time": "2023-12-25T08:56:59.103Z"
   },
   {
    "duration": 9,
    "start_time": "2023-12-25T09:34:42.987Z"
   },
   {
    "duration": 5,
    "start_time": "2023-12-25T09:34:51.980Z"
   },
   {
    "duration": 75,
    "start_time": "2023-12-25T09:37:05.555Z"
   },
   {
    "duration": 2,
    "start_time": "2023-12-25T09:38:14.470Z"
   },
   {
    "duration": 2,
    "start_time": "2023-12-25T10:18:29.876Z"
   },
   {
    "duration": 32,
    "start_time": "2023-12-25T10:19:29.323Z"
   },
   {
    "duration": 28,
    "start_time": "2023-12-25T10:19:34.913Z"
   },
   {
    "duration": 2,
    "start_time": "2023-12-25T10:21:32.977Z"
   },
   {
    "duration": 3,
    "start_time": "2023-12-25T10:22:28.577Z"
   },
   {
    "duration": 2,
    "start_time": "2023-12-25T10:22:47.479Z"
   },
   {
    "duration": 79,
    "start_time": "2023-12-25T10:24:16.661Z"
   },
   {
    "duration": 373,
    "start_time": "2023-12-25T10:26:37.805Z"
   },
   {
    "duration": 891,
    "start_time": "2023-12-25T10:26:38.182Z"
   },
   {
    "duration": 32,
    "start_time": "2023-12-25T10:26:39.074Z"
   },
   {
    "duration": 10,
    "start_time": "2023-12-25T10:26:39.108Z"
   },
   {
    "duration": 80,
    "start_time": "2023-12-25T10:26:39.120Z"
   },
   {
    "duration": 15,
    "start_time": "2023-12-25T10:26:39.202Z"
   },
   {
    "duration": 16,
    "start_time": "2023-12-25T10:26:39.219Z"
   },
   {
    "duration": 534,
    "start_time": "2023-12-25T10:26:39.236Z"
   },
   {
    "duration": 10,
    "start_time": "2023-12-25T10:26:39.771Z"
   },
   {
    "duration": 67045,
    "start_time": "2023-12-25T10:26:56.589Z"
   },
   {
    "duration": 13,
    "start_time": "2023-12-25T10:32:12.437Z"
   },
   {
    "duration": 402,
    "start_time": "2023-12-25T10:32:57.676Z"
   },
   {
    "duration": 885,
    "start_time": "2023-12-25T10:32:58.081Z"
   },
   {
    "duration": 33,
    "start_time": "2023-12-25T10:32:58.967Z"
   },
   {
    "duration": 6,
    "start_time": "2023-12-25T10:32:59.001Z"
   },
   {
    "duration": 78,
    "start_time": "2023-12-25T10:32:59.009Z"
   },
   {
    "duration": 19,
    "start_time": "2023-12-25T10:32:59.088Z"
   },
   {
    "duration": 12,
    "start_time": "2023-12-25T10:32:59.109Z"
   },
   {
    "duration": 28,
    "start_time": "2023-12-25T10:32:59.122Z"
   },
   {
    "duration": 68638,
    "start_time": "2023-12-25T10:32:59.152Z"
   },
   {
    "duration": 15,
    "start_time": "2023-12-25T10:34:07.793Z"
   },
   {
    "duration": 410,
    "start_time": "2023-12-25T10:34:33.151Z"
   },
   {
    "duration": 916,
    "start_time": "2023-12-25T10:34:33.562Z"
   },
   {
    "duration": 27,
    "start_time": "2023-12-25T10:34:34.482Z"
   },
   {
    "duration": 6,
    "start_time": "2023-12-25T10:34:34.510Z"
   },
   {
    "duration": 84,
    "start_time": "2023-12-25T10:34:34.518Z"
   },
   {
    "duration": 5,
    "start_time": "2023-12-25T10:34:34.604Z"
   },
   {
    "duration": 9,
    "start_time": "2023-12-25T10:34:34.610Z"
   },
   {
    "duration": 38,
    "start_time": "2023-12-25T10:34:34.621Z"
   },
   {
    "duration": 73,
    "start_time": "2023-12-25T10:34:34.662Z"
   },
   {
    "duration": 0,
    "start_time": "2023-12-25T10:34:34.736Z"
   },
   {
    "duration": 3,
    "start_time": "2023-12-25T10:34:46.440Z"
   },
   {
    "duration": 660,
    "start_time": "2023-12-25T10:34:50.708Z"
   },
   {
    "duration": 55,
    "start_time": "2023-12-25T10:35:21.691Z"
   },
   {
    "duration": 4,
    "start_time": "2023-12-25T10:35:55.348Z"
   },
   {
    "duration": 72,
    "start_time": "2023-12-25T10:39:55.971Z"
   },
   {
    "duration": 104,
    "start_time": "2023-12-25T10:40:02.654Z"
   },
   {
    "duration": 75,
    "start_time": "2023-12-25T10:40:56.437Z"
   },
   {
    "duration": 98,
    "start_time": "2023-12-25T10:42:57.558Z"
   },
   {
    "duration": 3,
    "start_time": "2023-12-25T10:46:34.177Z"
   },
   {
    "duration": 25,
    "start_time": "2023-12-25T10:46:37.122Z"
   },
   {
    "duration": 29,
    "start_time": "2023-12-25T10:46:38.795Z"
   },
   {
    "duration": 643,
    "start_time": "2023-12-25T10:46:40.785Z"
   },
   {
    "duration": 11,
    "start_time": "2023-12-25T10:48:00.285Z"
   },
   {
    "duration": 45,
    "start_time": "2023-12-25T10:48:38.925Z"
   },
   {
    "duration": 13,
    "start_time": "2023-12-25T10:48:44.097Z"
   },
   {
    "duration": 250,
    "start_time": "2023-12-25T10:49:47.279Z"
   },
   {
    "duration": 11,
    "start_time": "2023-12-25T10:49:51.016Z"
   },
   {
    "duration": 924,
    "start_time": "2023-12-25T11:03:52.014Z"
   },
   {
    "duration": 169,
    "start_time": "2023-12-25T11:05:03.300Z"
   },
   {
    "duration": 376,
    "start_time": "2023-12-25T11:05:29.695Z"
   },
   {
    "duration": 909,
    "start_time": "2023-12-25T11:05:30.072Z"
   },
   {
    "duration": 29,
    "start_time": "2023-12-25T11:05:30.983Z"
   },
   {
    "duration": 78,
    "start_time": "2023-12-25T11:05:31.013Z"
   },
   {
    "duration": 94,
    "start_time": "2023-12-25T11:05:31.093Z"
   },
   {
    "duration": 46,
    "start_time": "2023-12-25T11:05:31.189Z"
   },
   {
    "duration": 46,
    "start_time": "2023-12-25T11:05:31.236Z"
   },
   {
    "duration": 905,
    "start_time": "2023-12-25T11:05:31.284Z"
   },
   {
    "duration": 211,
    "start_time": "2023-12-25T11:05:32.190Z"
   },
   {
    "duration": 2,
    "start_time": "2023-12-25T11:11:15.904Z"
   },
   {
    "duration": 366,
    "start_time": "2023-12-25T11:12:29.811Z"
   },
   {
    "duration": 885,
    "start_time": "2023-12-25T11:12:30.182Z"
   },
   {
    "duration": 28,
    "start_time": "2023-12-25T11:12:31.069Z"
   },
   {
    "duration": 35,
    "start_time": "2023-12-25T11:12:31.098Z"
   },
   {
    "duration": 96,
    "start_time": "2023-12-25T11:12:31.135Z"
   },
   {
    "duration": 274,
    "start_time": "2023-12-25T11:12:31.232Z"
   },
   {
    "duration": 22,
    "start_time": "2023-12-25T11:12:31.507Z"
   },
   {
    "duration": 201,
    "start_time": "2023-12-25T11:12:31.530Z"
   },
   {
    "duration": 3,
    "start_time": "2023-12-25T11:12:31.732Z"
   },
   {
    "duration": 29,
    "start_time": "2023-12-25T11:12:31.736Z"
   },
   {
    "duration": 749,
    "start_time": "2023-12-25T11:12:31.766Z"
   },
   {
    "duration": 52,
    "start_time": "2023-12-25T11:12:32.517Z"
   },
   {
    "duration": 19,
    "start_time": "2023-12-25T11:12:32.581Z"
   },
   {
    "duration": 4,
    "start_time": "2023-12-25T11:14:17.817Z"
   },
   {
    "duration": 642,
    "start_time": "2023-12-25T11:14:19.128Z"
   },
   {
    "duration": 57,
    "start_time": "2023-12-25T11:14:19.772Z"
   },
   {
    "duration": 13,
    "start_time": "2023-12-25T11:14:20.301Z"
   },
   {
    "duration": 3,
    "start_time": "2023-12-25T11:20:04.621Z"
   },
   {
    "duration": 767,
    "start_time": "2023-12-25T11:20:05.296Z"
   },
   {
    "duration": 55,
    "start_time": "2023-12-25T11:20:07.277Z"
   },
   {
    "duration": 17,
    "start_time": "2023-12-25T11:20:07.838Z"
   },
   {
    "duration": 3,
    "start_time": "2023-12-25T11:20:50.370Z"
   },
   {
    "duration": 643,
    "start_time": "2023-12-25T11:20:50.636Z"
   },
   {
    "duration": 49,
    "start_time": "2023-12-25T11:20:51.283Z"
   },
   {
    "duration": 13,
    "start_time": "2023-12-25T11:20:51.734Z"
   },
   {
    "duration": 4,
    "start_time": "2023-12-25T11:22:06.259Z"
   },
   {
    "duration": 711,
    "start_time": "2023-12-25T11:22:07.133Z"
   },
   {
    "duration": 51,
    "start_time": "2023-12-25T11:22:07.951Z"
   },
   {
    "duration": 12,
    "start_time": "2023-12-25T11:22:08.974Z"
   },
   {
    "duration": 394,
    "start_time": "2023-12-25T11:26:22.804Z"
   },
   {
    "duration": 943,
    "start_time": "2023-12-25T11:26:23.200Z"
   },
   {
    "duration": 38,
    "start_time": "2023-12-25T11:26:24.145Z"
   },
   {
    "duration": 7,
    "start_time": "2023-12-25T11:26:24.185Z"
   },
   {
    "duration": 91,
    "start_time": "2023-12-25T11:26:24.194Z"
   },
   {
    "duration": 30,
    "start_time": "2023-12-25T11:26:24.287Z"
   },
   {
    "duration": 32,
    "start_time": "2023-12-25T11:26:24.319Z"
   },
   {
    "duration": 15,
    "start_time": "2023-12-25T11:26:24.352Z"
   },
   {
    "duration": 6765,
    "start_time": "2023-12-25T11:26:49.361Z"
   },
   {
    "duration": 12,
    "start_time": "2023-12-25T11:27:05.596Z"
   },
   {
    "duration": 385,
    "start_time": "2023-12-25T11:28:51.097Z"
   },
   {
    "duration": 931,
    "start_time": "2023-12-25T11:28:51.483Z"
   },
   {
    "duration": 28,
    "start_time": "2023-12-25T11:28:52.415Z"
   },
   {
    "duration": 5,
    "start_time": "2023-12-25T11:28:52.445Z"
   },
   {
    "duration": 115,
    "start_time": "2023-12-25T11:28:52.452Z"
   },
   {
    "duration": 42,
    "start_time": "2023-12-25T11:28:52.569Z"
   },
   {
    "duration": 24,
    "start_time": "2023-12-25T11:28:52.613Z"
   },
   {
    "duration": 5,
    "start_time": "2023-12-25T11:28:52.639Z"
   },
   {
    "duration": 20,
    "start_time": "2023-12-25T11:28:52.646Z"
   },
   {
    "duration": 22,
    "start_time": "2023-12-25T11:28:52.667Z"
   },
   {
    "duration": 706,
    "start_time": "2023-12-25T11:28:52.691Z"
   },
   {
    "duration": 47,
    "start_time": "2023-12-25T11:28:53.399Z"
   },
   {
    "duration": 36,
    "start_time": "2023-12-25T11:28:53.447Z"
   },
   {
    "duration": 442,
    "start_time": "2023-12-25T11:31:57.593Z"
   },
   {
    "duration": 379,
    "start_time": "2023-12-25T11:32:15.614Z"
   },
   {
    "duration": 869,
    "start_time": "2023-12-25T11:32:15.994Z"
   },
   {
    "duration": 32,
    "start_time": "2023-12-25T11:32:16.864Z"
   },
   {
    "duration": 6,
    "start_time": "2023-12-25T11:32:16.897Z"
   },
   {
    "duration": 84,
    "start_time": "2023-12-25T11:32:16.905Z"
   },
   {
    "duration": 439,
    "start_time": "2023-12-25T11:32:16.991Z"
   },
   {
    "duration": 27,
    "start_time": "2023-12-25T11:32:17.433Z"
   },
   {
    "duration": 8,
    "start_time": "2023-12-25T11:32:17.461Z"
   },
   {
    "duration": 13,
    "start_time": "2023-12-25T11:32:17.470Z"
   },
   {
    "duration": 4,
    "start_time": "2023-12-25T11:32:17.485Z"
   },
   {
    "duration": 693,
    "start_time": "2023-12-25T11:32:17.490Z"
   },
   {
    "duration": 58,
    "start_time": "2023-12-25T11:32:18.185Z"
   },
   {
    "duration": 38,
    "start_time": "2023-12-25T11:32:18.244Z"
   },
   {
    "duration": 347,
    "start_time": "2023-12-25T11:37:21.127Z"
   },
   {
    "duration": 883,
    "start_time": "2023-12-25T11:37:21.476Z"
   },
   {
    "duration": 34,
    "start_time": "2023-12-25T11:37:22.360Z"
   },
   {
    "duration": 21,
    "start_time": "2023-12-25T11:37:22.395Z"
   },
   {
    "duration": 96,
    "start_time": "2023-12-25T11:37:22.419Z"
   },
   {
    "duration": 457,
    "start_time": "2023-12-25T11:37:22.517Z"
   },
   {
    "duration": 27,
    "start_time": "2023-12-25T11:37:22.977Z"
   },
   {
    "duration": 22,
    "start_time": "2023-12-25T11:37:23.006Z"
   },
   {
    "duration": 32,
    "start_time": "2023-12-25T11:37:23.029Z"
   },
   {
    "duration": 28,
    "start_time": "2023-12-25T11:37:23.063Z"
   },
   {
    "duration": 736,
    "start_time": "2023-12-25T11:37:23.092Z"
   },
   {
    "duration": 69,
    "start_time": "2023-12-25T11:37:23.830Z"
   },
   {
    "duration": 21,
    "start_time": "2023-12-25T11:37:23.901Z"
   },
   {
    "duration": 11,
    "start_time": "2023-12-25T11:55:36.628Z"
   },
   {
    "duration": 5,
    "start_time": "2023-12-25T11:56:10.981Z"
   },
   {
    "duration": 5,
    "start_time": "2023-12-25T11:56:43.211Z"
   },
   {
    "duration": 7,
    "start_time": "2023-12-25T11:59:37.095Z"
   },
   {
    "duration": 390,
    "start_time": "2023-12-25T12:02:08.578Z"
   },
   {
    "duration": 894,
    "start_time": "2023-12-25T12:02:08.970Z"
   },
   {
    "duration": 30,
    "start_time": "2023-12-25T12:02:09.865Z"
   },
   {
    "duration": 12,
    "start_time": "2023-12-25T12:02:09.897Z"
   },
   {
    "duration": 75,
    "start_time": "2023-12-25T12:02:09.911Z"
   },
   {
    "duration": 18,
    "start_time": "2023-12-25T12:02:09.987Z"
   },
   {
    "duration": 476,
    "start_time": "2023-12-25T12:02:10.007Z"
   },
   {
    "duration": 27,
    "start_time": "2023-12-25T12:02:10.486Z"
   },
   {
    "duration": 16,
    "start_time": "2023-12-25T12:02:10.514Z"
   },
   {
    "duration": 8,
    "start_time": "2023-12-25T12:02:10.531Z"
   },
   {
    "duration": 45,
    "start_time": "2023-12-25T12:02:10.541Z"
   },
   {
    "duration": 679,
    "start_time": "2023-12-25T12:02:10.587Z"
   },
   {
    "duration": 63,
    "start_time": "2023-12-25T12:02:11.268Z"
   },
   {
    "duration": 21,
    "start_time": "2023-12-25T12:02:11.333Z"
   },
   {
    "duration": 363,
    "start_time": "2023-12-25T12:04:09.205Z"
   },
   {
    "duration": 895,
    "start_time": "2023-12-25T12:04:09.570Z"
   },
   {
    "duration": 29,
    "start_time": "2023-12-25T12:04:10.466Z"
   },
   {
    "duration": 7,
    "start_time": "2023-12-25T12:04:10.496Z"
   },
   {
    "duration": 80,
    "start_time": "2023-12-25T12:04:10.504Z"
   },
   {
    "duration": 8,
    "start_time": "2023-12-25T12:04:10.585Z"
   },
   {
    "duration": 451,
    "start_time": "2023-12-25T12:04:10.594Z"
   },
   {
    "duration": 23,
    "start_time": "2023-12-25T12:04:11.048Z"
   },
   {
    "duration": 17,
    "start_time": "2023-12-25T12:04:11.072Z"
   },
   {
    "duration": 24,
    "start_time": "2023-12-25T12:04:11.090Z"
   },
   {
    "duration": 8,
    "start_time": "2023-12-25T12:04:11.115Z"
   },
   {
    "duration": 714,
    "start_time": "2023-12-25T12:04:11.124Z"
   },
   {
    "duration": 70,
    "start_time": "2023-12-25T12:04:11.839Z"
   },
   {
    "duration": 31,
    "start_time": "2023-12-25T12:04:11.911Z"
   },
   {
    "duration": 8,
    "start_time": "2023-12-25T12:05:07.177Z"
   },
   {
    "duration": 8,
    "start_time": "2023-12-25T12:05:11.333Z"
   },
   {
    "duration": 8,
    "start_time": "2023-12-25T12:05:14.488Z"
   },
   {
    "duration": 445,
    "start_time": "2023-12-25T12:06:50.774Z"
   },
   {
    "duration": 878,
    "start_time": "2023-12-25T12:06:51.221Z"
   },
   {
    "duration": 24,
    "start_time": "2023-12-25T12:06:52.100Z"
   },
   {
    "duration": 10,
    "start_time": "2023-12-25T12:06:52.126Z"
   },
   {
    "duration": 83,
    "start_time": "2023-12-25T12:06:52.137Z"
   },
   {
    "duration": 8,
    "start_time": "2023-12-25T12:06:52.222Z"
   },
   {
    "duration": 482,
    "start_time": "2023-12-25T12:06:52.232Z"
   },
   {
    "duration": 21,
    "start_time": "2023-12-25T12:06:52.717Z"
   },
   {
    "duration": 10,
    "start_time": "2023-12-25T12:06:52.739Z"
   },
   {
    "duration": 3,
    "start_time": "2023-12-25T12:06:52.751Z"
   },
   {
    "duration": 82,
    "start_time": "2023-12-25T12:06:52.756Z"
   },
   {
    "duration": 0,
    "start_time": "2023-12-25T12:06:52.840Z"
   },
   {
    "duration": 0,
    "start_time": "2023-12-25T12:06:52.841Z"
   },
   {
    "duration": 55,
    "start_time": "2023-12-25T12:07:03.833Z"
   },
   {
    "duration": 5,
    "start_time": "2023-12-25T12:07:26.783Z"
   },
   {
    "duration": 21,
    "start_time": "2023-12-25T12:11:21.926Z"
   },
   {
    "duration": 387,
    "start_time": "2023-12-25T12:12:13.687Z"
   },
   {
    "duration": 891,
    "start_time": "2023-12-25T12:12:14.076Z"
   },
   {
    "duration": 26,
    "start_time": "2023-12-25T12:12:14.969Z"
   },
   {
    "duration": 6,
    "start_time": "2023-12-25T12:12:14.997Z"
   },
   {
    "duration": 110,
    "start_time": "2023-12-25T12:12:15.005Z"
   },
   {
    "duration": 23,
    "start_time": "2023-12-25T12:12:15.117Z"
   },
   {
    "duration": 472,
    "start_time": "2023-12-25T12:12:15.142Z"
   },
   {
    "duration": 20,
    "start_time": "2023-12-25T12:12:15.618Z"
   },
   {
    "duration": 30,
    "start_time": "2023-12-25T12:12:15.640Z"
   },
   {
    "duration": 33,
    "start_time": "2023-12-25T12:12:15.672Z"
   },
   {
    "duration": 6858,
    "start_time": "2023-12-25T12:12:15.707Z"
   },
   {
    "duration": 20,
    "start_time": "2023-12-25T12:12:22.567Z"
   },
   {
    "duration": 288,
    "start_time": "2023-12-25T14:15:43.000Z"
   },
   {
    "duration": 7015,
    "start_time": "2023-12-25T14:16:17.972Z"
   },
   {
    "duration": 8,
    "start_time": "2023-12-25T14:35:30.634Z"
   },
   {
    "duration": 646,
    "start_time": "2023-12-25T14:36:51.808Z"
   },
   {
    "duration": 919,
    "start_time": "2023-12-25T14:36:52.456Z"
   },
   {
    "duration": 27,
    "start_time": "2023-12-25T14:36:53.376Z"
   },
   {
    "duration": 5,
    "start_time": "2023-12-25T14:36:53.405Z"
   },
   {
    "duration": 75,
    "start_time": "2023-12-25T14:36:53.412Z"
   },
   {
    "duration": 11,
    "start_time": "2023-12-25T14:36:53.488Z"
   },
   {
    "duration": 16,
    "start_time": "2023-12-25T14:36:53.500Z"
   },
   {
    "duration": 291,
    "start_time": "2023-12-25T14:36:53.518Z"
   },
   {
    "duration": 23,
    "start_time": "2023-12-25T14:36:53.811Z"
   },
   {
    "duration": 6,
    "start_time": "2023-12-25T14:36:53.836Z"
   },
   {
    "duration": 4,
    "start_time": "2023-12-25T14:36:53.843Z"
   },
   {
    "duration": 5923,
    "start_time": "2023-12-25T14:36:53.849Z"
   },
   {
    "duration": 15,
    "start_time": "2023-12-25T14:36:59.774Z"
   },
   {
    "duration": 696,
    "start_time": "2023-12-25T14:37:33.768Z"
   },
   {
    "duration": 886,
    "start_time": "2023-12-25T14:37:34.465Z"
   },
   {
    "duration": 35,
    "start_time": "2023-12-25T14:37:35.352Z"
   },
   {
    "duration": 5,
    "start_time": "2023-12-25T14:37:35.388Z"
   },
   {
    "duration": 77,
    "start_time": "2023-12-25T14:37:35.395Z"
   },
   {
    "duration": 8,
    "start_time": "2023-12-25T14:37:35.474Z"
   },
   {
    "duration": 7,
    "start_time": "2023-12-25T14:37:35.483Z"
   },
   {
    "duration": 467,
    "start_time": "2023-12-25T14:37:35.491Z"
   },
   {
    "duration": 26,
    "start_time": "2023-12-25T14:37:35.960Z"
   },
   {
    "duration": 4,
    "start_time": "2023-12-25T14:37:35.987Z"
   },
   {
    "duration": 16,
    "start_time": "2023-12-25T14:37:35.992Z"
   },
   {
    "duration": 5987,
    "start_time": "2023-12-25T14:37:36.010Z"
   },
   {
    "duration": 11,
    "start_time": "2023-12-25T14:37:41.998Z"
   },
   {
    "duration": 653,
    "start_time": "2023-12-25T14:38:37.709Z"
   },
   {
    "duration": 898,
    "start_time": "2023-12-25T14:38:38.364Z"
   },
   {
    "duration": 29,
    "start_time": "2023-12-25T14:38:39.263Z"
   },
   {
    "duration": 10,
    "start_time": "2023-12-25T14:38:39.293Z"
   },
   {
    "duration": 81,
    "start_time": "2023-12-25T14:38:39.304Z"
   },
   {
    "duration": 8,
    "start_time": "2023-12-25T14:38:39.387Z"
   },
   {
    "duration": 9,
    "start_time": "2023-12-25T14:38:39.397Z"
   },
   {
    "duration": 320,
    "start_time": "2023-12-25T14:38:39.407Z"
   },
   {
    "duration": 26,
    "start_time": "2023-12-25T14:38:39.729Z"
   },
   {
    "duration": 4,
    "start_time": "2023-12-25T14:38:39.757Z"
   },
   {
    "duration": 12,
    "start_time": "2023-12-25T14:38:39.762Z"
   },
   {
    "duration": 6755,
    "start_time": "2023-12-25T14:38:39.775Z"
   },
   {
    "duration": 12,
    "start_time": "2023-12-25T14:38:46.531Z"
   },
   {
    "duration": 667,
    "start_time": "2023-12-25T14:40:23.605Z"
   },
   {
    "duration": 990,
    "start_time": "2023-12-25T14:40:24.282Z"
   },
   {
    "duration": 34,
    "start_time": "2023-12-25T14:40:25.274Z"
   },
   {
    "duration": 16,
    "start_time": "2023-12-25T14:40:25.310Z"
   },
   {
    "duration": 89,
    "start_time": "2023-12-25T14:40:25.329Z"
   },
   {
    "duration": 28,
    "start_time": "2023-12-25T14:40:25.419Z"
   },
   {
    "duration": 7,
    "start_time": "2023-12-25T14:40:25.449Z"
   },
   {
    "duration": 306,
    "start_time": "2023-12-25T14:40:25.458Z"
   },
   {
    "duration": 32,
    "start_time": "2023-12-25T14:40:25.766Z"
   },
   {
    "duration": 6,
    "start_time": "2023-12-25T14:40:25.800Z"
   },
   {
    "duration": 4,
    "start_time": "2023-12-25T14:40:25.807Z"
   },
   {
    "duration": 4040,
    "start_time": "2023-12-25T14:40:25.812Z"
   },
   {
    "duration": 15,
    "start_time": "2023-12-25T14:40:29.853Z"
   },
   {
    "duration": 654,
    "start_time": "2023-12-25T14:45:40.740Z"
   },
   {
    "duration": 2,
    "start_time": "2023-12-25T14:47:50.105Z"
   },
   {
    "duration": 113,
    "start_time": "2023-12-25T14:51:21.341Z"
   },
   {
    "duration": 2,
    "start_time": "2023-12-25T14:51:30.438Z"
   },
   {
    "duration": 9,
    "start_time": "2023-12-25T14:51:31.026Z"
   },
   {
    "duration": 52,
    "start_time": "2023-12-25T14:52:09.730Z"
   },
   {
    "duration": 1276,
    "start_time": "2023-12-25T15:46:21.600Z"
   },
   {
    "duration": 897,
    "start_time": "2023-12-25T15:46:22.878Z"
   },
   {
    "duration": 30,
    "start_time": "2023-12-25T15:46:23.776Z"
   },
   {
    "duration": 5,
    "start_time": "2023-12-25T15:46:23.808Z"
   },
   {
    "duration": 87,
    "start_time": "2023-12-25T15:46:23.814Z"
   },
   {
    "duration": 7,
    "start_time": "2023-12-25T15:46:23.902Z"
   },
   {
    "duration": 6,
    "start_time": "2023-12-25T15:46:23.911Z"
   },
   {
    "duration": 287,
    "start_time": "2023-12-25T15:46:23.919Z"
   },
   {
    "duration": 28,
    "start_time": "2023-12-25T15:46:24.208Z"
   },
   {
    "duration": 3,
    "start_time": "2023-12-25T15:46:24.239Z"
   },
   {
    "duration": 5,
    "start_time": "2023-12-25T15:46:24.244Z"
   },
   {
    "duration": 3489,
    "start_time": "2023-12-25T15:46:24.251Z"
   },
   {
    "duration": 18,
    "start_time": "2023-12-25T15:46:27.741Z"
   },
   {
    "duration": 4,
    "start_time": "2023-12-25T15:46:27.761Z"
   },
   {
    "duration": 50,
    "start_time": "2023-12-25T15:46:27.766Z"
   },
   {
    "duration": 209,
    "start_time": "2023-12-25T15:46:27.817Z"
   },
   {
    "duration": 2,
    "start_time": "2023-12-25T15:46:28.028Z"
   },
   {
    "duration": 124,
    "start_time": "2023-12-25T15:46:28.031Z"
   },
   {
    "duration": 871,
    "start_time": "2023-12-25T15:50:53.408Z"
   },
   {
    "duration": 5109,
    "start_time": "2023-12-25T15:51:25.950Z"
   },
   {
    "duration": 4,
    "start_time": "2023-12-25T15:51:37.194Z"
   },
   {
    "duration": 4,
    "start_time": "2023-12-25T15:52:20.260Z"
   },
   {
    "duration": 1278,
    "start_time": "2023-12-25T15:52:56.271Z"
   },
   {
    "duration": 894,
    "start_time": "2023-12-25T15:52:57.551Z"
   },
   {
    "duration": 25,
    "start_time": "2023-12-25T15:52:58.446Z"
   },
   {
    "duration": 14,
    "start_time": "2023-12-25T15:52:58.472Z"
   },
   {
    "duration": 65,
    "start_time": "2023-12-25T15:52:58.487Z"
   },
   {
    "duration": 21,
    "start_time": "2023-12-25T15:52:58.554Z"
   },
   {
    "duration": 12,
    "start_time": "2023-12-25T15:52:58.577Z"
   },
   {
    "duration": 292,
    "start_time": "2023-12-25T15:52:58.590Z"
   },
   {
    "duration": 20,
    "start_time": "2023-12-25T15:52:58.883Z"
   },
   {
    "duration": 5,
    "start_time": "2023-12-25T15:52:58.905Z"
   },
   {
    "duration": 3,
    "start_time": "2023-12-25T15:52:58.912Z"
   },
   {
    "duration": 3210,
    "start_time": "2023-12-25T15:52:58.916Z"
   },
   {
    "duration": 18,
    "start_time": "2023-12-25T15:53:02.128Z"
   },
   {
    "duration": 38,
    "start_time": "2023-12-25T15:53:02.147Z"
   },
   {
    "duration": 71,
    "start_time": "2023-12-25T15:53:02.187Z"
   },
   {
    "duration": 223,
    "start_time": "2023-12-25T15:53:02.260Z"
   },
   {
    "duration": 3,
    "start_time": "2023-12-25T15:53:02.484Z"
   },
   {
    "duration": 6815,
    "start_time": "2023-12-25T15:53:02.489Z"
   },
   {
    "duration": 3,
    "start_time": "2023-12-25T15:53:09.306Z"
   },
   {
    "duration": 5,
    "start_time": "2023-12-25T15:53:09.310Z"
   },
   {
    "duration": 3,
    "start_time": "2023-12-25T15:59:28.507Z"
   },
   {
    "duration": 75,
    "start_time": "2023-12-25T16:00:05.650Z"
   },
   {
    "duration": 2,
    "start_time": "2023-12-25T16:00:10.740Z"
   },
   {
    "duration": 4,
    "start_time": "2023-12-25T16:00:27.959Z"
   },
   {
    "duration": 214,
    "start_time": "2023-12-25T16:13:07.593Z"
   },
   {
    "duration": 177806,
    "start_time": "2023-12-25T16:13:25.984Z"
   },
   {
    "duration": 177522,
    "start_time": "2023-12-25T16:23:05.075Z"
   },
   {
    "duration": 120837,
    "start_time": "2023-12-25T16:56:46.663Z"
   },
   {
    "duration": 3,
    "start_time": "2023-12-25T16:59:06.924Z"
   },
   {
    "duration": 175261,
    "start_time": "2023-12-25T16:59:59.222Z"
   },
   {
    "duration": 4,
    "start_time": "2023-12-25T17:02:54.484Z"
   },
   {
    "duration": 71,
    "start_time": "2023-12-25T17:02:54.489Z"
   },
   {
    "duration": 9,
    "start_time": "2023-12-25T17:03:17.835Z"
   },
   {
    "duration": 11,
    "start_time": "2023-12-25T17:04:50.318Z"
   },
   {
    "duration": 9,
    "start_time": "2023-12-25T17:04:56.273Z"
   },
   {
    "duration": 2,
    "start_time": "2023-12-25T17:05:01.708Z"
   },
   {
    "duration": 2,
    "start_time": "2023-12-25T17:45:50.940Z"
   },
   {
    "duration": 3,
    "start_time": "2023-12-25T17:45:51.409Z"
   },
   {
    "duration": 1590434,
    "start_time": "2023-12-25T17:45:52.936Z"
   },
   {
    "duration": 4,
    "start_time": "2023-12-25T18:12:23.372Z"
   },
   {
    "duration": 13,
    "start_time": "2023-12-25T18:12:23.382Z"
   },
   {
    "duration": 0,
    "start_time": "2023-12-25T18:12:23.397Z"
   },
   {
    "duration": 0,
    "start_time": "2023-12-25T18:12:23.398Z"
   },
   {
    "duration": 0,
    "start_time": "2023-12-25T18:12:23.399Z"
   },
   {
    "duration": 7,
    "start_time": "2023-12-25T18:15:31.521Z"
   },
   {
    "duration": 3,
    "start_time": "2023-12-25T18:15:47.793Z"
   },
   {
    "duration": 9,
    "start_time": "2023-12-25T18:16:19.326Z"
   },
   {
    "duration": 4,
    "start_time": "2023-12-25T18:16:47.813Z"
   },
   {
    "duration": 570,
    "start_time": "2023-12-25T18:16:56.879Z"
   },
   {
    "duration": 190,
    "start_time": "2023-12-25T18:16:58.324Z"
   },
   {
    "duration": 9,
    "start_time": "2023-12-25T18:17:01.056Z"
   },
   {
    "duration": 2,
    "start_time": "2023-12-25T18:17:12.873Z"
   },
   {
    "duration": 1364,
    "start_time": "2023-12-25T19:53:25.664Z"
   },
   {
    "duration": 3,
    "start_time": "2023-12-25T19:53:51.767Z"
   },
   {
    "duration": 115,
    "start_time": "2023-12-25T19:54:13.983Z"
   },
   {
    "duration": 6,
    "start_time": "2023-12-25T19:54:22.025Z"
   },
   {
    "duration": 4,
    "start_time": "2023-12-25T19:54:31.899Z"
   },
   {
    "duration": 15,
    "start_time": "2023-12-25T19:54:47.356Z"
   },
   {
    "duration": 10,
    "start_time": "2023-12-25T19:55:44.282Z"
   },
   {
    "duration": 6627,
    "start_time": "2023-12-25T19:56:24.854Z"
   },
   {
    "duration": 20,
    "start_time": "2023-12-25T19:56:31.483Z"
   },
   {
    "duration": 11,
    "start_time": "2023-12-25T19:57:18.625Z"
   },
   {
    "duration": 13,
    "start_time": "2023-12-25T19:57:45.378Z"
   },
   {
    "duration": 1104,
    "start_time": "2023-12-25T19:59:09.068Z"
   },
   {
    "duration": 1181,
    "start_time": "2023-12-25T19:59:13.020Z"
   },
   {
    "duration": 212,
    "start_time": "2023-12-25T20:01:34.304Z"
   },
   {
    "duration": 1128,
    "start_time": "2023-12-25T20:01:46.615Z"
   },
   {
    "duration": 1111,
    "start_time": "2023-12-25T20:01:47.746Z"
   },
   {
    "duration": 858,
    "start_time": "2023-12-25T20:01:48.858Z"
   },
   {
    "duration": 26,
    "start_time": "2023-12-25T20:01:49.718Z"
   },
   {
    "duration": 5,
    "start_time": "2023-12-25T20:01:49.745Z"
   },
   {
    "duration": 80,
    "start_time": "2023-12-25T20:01:49.751Z"
   },
   {
    "duration": 7,
    "start_time": "2023-12-25T20:01:49.833Z"
   },
   {
    "duration": 8,
    "start_time": "2023-12-25T20:01:49.842Z"
   },
   {
    "duration": 282,
    "start_time": "2023-12-25T20:01:49.852Z"
   },
   {
    "duration": 20,
    "start_time": "2023-12-25T20:01:50.136Z"
   },
   {
    "duration": 11,
    "start_time": "2023-12-25T20:01:50.157Z"
   },
   {
    "duration": 23,
    "start_time": "2023-12-25T20:01:50.170Z"
   },
   {
    "duration": 3250,
    "start_time": "2023-12-25T20:01:50.194Z"
   },
   {
    "duration": 12,
    "start_time": "2023-12-25T20:01:53.445Z"
   },
   {
    "duration": 4,
    "start_time": "2023-12-25T20:01:53.458Z"
   },
   {
    "duration": 35,
    "start_time": "2023-12-25T20:01:53.463Z"
   },
   {
    "duration": 213,
    "start_time": "2023-12-25T20:01:53.499Z"
   },
   {
    "duration": 2,
    "start_time": "2023-12-25T20:01:53.715Z"
   },
   {
    "duration": 128,
    "start_time": "2023-12-25T20:01:53.719Z"
   },
   {
    "duration": 0,
    "start_time": "2023-12-25T20:01:53.849Z"
   },
   {
    "duration": 1,
    "start_time": "2023-12-25T20:01:53.850Z"
   },
   {
    "duration": 0,
    "start_time": "2023-12-25T20:01:53.852Z"
   },
   {
    "duration": 9,
    "start_time": "2023-12-25T20:03:33.129Z"
   },
   {
    "duration": 3,
    "start_time": "2023-12-25T20:05:18.522Z"
   },
   {
    "duration": 3,
    "start_time": "2023-12-25T20:05:20.167Z"
   },
   {
    "duration": 11,
    "start_time": "2023-12-25T20:05:21.074Z"
   },
   {
    "duration": 3,
    "start_time": "2023-12-25T20:06:14.166Z"
   },
   {
    "duration": 1163,
    "start_time": "2023-12-25T20:06:14.171Z"
   },
   {
    "duration": 852,
    "start_time": "2023-12-25T20:06:15.335Z"
   },
   {
    "duration": 23,
    "start_time": "2023-12-25T20:06:16.189Z"
   },
   {
    "duration": 6,
    "start_time": "2023-12-25T20:06:16.214Z"
   },
   {
    "duration": 83,
    "start_time": "2023-12-25T20:06:16.222Z"
   },
   {
    "duration": 8,
    "start_time": "2023-12-25T20:06:16.307Z"
   },
   {
    "duration": 8,
    "start_time": "2023-12-25T20:06:16.317Z"
   },
   {
    "duration": 303,
    "start_time": "2023-12-25T20:06:16.326Z"
   },
   {
    "duration": 19,
    "start_time": "2023-12-25T20:06:16.631Z"
   },
   {
    "duration": 4,
    "start_time": "2023-12-25T20:06:16.653Z"
   },
   {
    "duration": 7,
    "start_time": "2023-12-25T20:06:16.658Z"
   },
   {
    "duration": 3247,
    "start_time": "2023-12-25T20:06:16.666Z"
   },
   {
    "duration": 11,
    "start_time": "2023-12-25T20:06:19.915Z"
   },
   {
    "duration": 22,
    "start_time": "2023-12-25T20:06:19.927Z"
   },
   {
    "duration": 37,
    "start_time": "2023-12-25T20:06:19.950Z"
   },
   {
    "duration": 210,
    "start_time": "2023-12-25T20:06:19.989Z"
   },
   {
    "duration": 2,
    "start_time": "2023-12-25T20:06:20.200Z"
   },
   {
    "duration": 113,
    "start_time": "2023-12-25T20:06:20.204Z"
   },
   {
    "duration": 0,
    "start_time": "2023-12-25T20:06:20.318Z"
   },
   {
    "duration": 0,
    "start_time": "2023-12-25T20:06:20.319Z"
   },
   {
    "duration": 3,
    "start_time": "2023-12-26T06:32:22.493Z"
   },
   {
    "duration": 1575,
    "start_time": "2023-12-26T06:32:22.498Z"
   },
   {
    "duration": 3392,
    "start_time": "2023-12-26T06:32:24.075Z"
   },
   {
    "duration": 32,
    "start_time": "2023-12-26T06:32:27.469Z"
   },
   {
    "duration": 11,
    "start_time": "2023-12-26T06:32:27.504Z"
   },
   {
    "duration": 81,
    "start_time": "2023-12-26T06:32:27.516Z"
   },
   {
    "duration": 93,
    "start_time": "2023-12-26T06:32:27.599Z"
   },
   {
    "duration": 81,
    "start_time": "2023-12-26T06:32:27.694Z"
   },
   {
    "duration": 327,
    "start_time": "2023-12-26T06:32:27.777Z"
   },
   {
    "duration": 34,
    "start_time": "2023-12-26T06:32:28.106Z"
   },
   {
    "duration": 23,
    "start_time": "2023-12-26T06:32:28.142Z"
   },
   {
    "duration": 12,
    "start_time": "2023-12-26T06:32:28.167Z"
   },
   {
    "duration": 3583,
    "start_time": "2023-12-26T06:32:28.181Z"
   },
   {
    "duration": 12,
    "start_time": "2023-12-26T06:32:31.767Z"
   },
   {
    "duration": 63,
    "start_time": "2023-12-26T06:32:31.781Z"
   },
   {
    "duration": 63,
    "start_time": "2023-12-26T06:32:31.846Z"
   },
   {
    "duration": 149,
    "start_time": "2023-12-26T06:32:31.911Z"
   },
   {
    "duration": 3,
    "start_time": "2023-12-26T06:32:32.062Z"
   },
   {
    "duration": 7266,
    "start_time": "2023-12-26T06:32:32.067Z"
   },
   {
    "duration": 4,
    "start_time": "2023-12-26T06:32:39.335Z"
   },
   {
    "duration": 6,
    "start_time": "2023-12-26T06:32:39.340Z"
   },
   {
    "duration": 99,
    "start_time": "2023-12-26T06:33:52.888Z"
   },
   {
    "duration": 1305,
    "start_time": "2023-12-26T06:35:04.412Z"
   },
   {
    "duration": 1541,
    "start_time": "2023-12-26T06:35:05.720Z"
   },
   {
    "duration": 0,
    "start_time": "2023-12-26T06:35:07.264Z"
   },
   {
    "duration": 0,
    "start_time": "2023-12-26T06:35:07.265Z"
   },
   {
    "duration": 0,
    "start_time": "2023-12-26T06:35:07.269Z"
   },
   {
    "duration": 1,
    "start_time": "2023-12-26T06:35:07.270Z"
   },
   {
    "duration": 0,
    "start_time": "2023-12-26T06:35:07.272Z"
   },
   {
    "duration": 0,
    "start_time": "2023-12-26T06:35:07.274Z"
   },
   {
    "duration": 0,
    "start_time": "2023-12-26T06:35:07.280Z"
   },
   {
    "duration": 0,
    "start_time": "2023-12-26T06:35:07.281Z"
   },
   {
    "duration": 0,
    "start_time": "2023-12-26T06:35:07.282Z"
   },
   {
    "duration": 0,
    "start_time": "2023-12-26T06:35:07.284Z"
   },
   {
    "duration": 0,
    "start_time": "2023-12-26T06:35:07.285Z"
   },
   {
    "duration": 0,
    "start_time": "2023-12-26T06:35:07.286Z"
   },
   {
    "duration": 0,
    "start_time": "2023-12-26T06:35:07.287Z"
   },
   {
    "duration": 0,
    "start_time": "2023-12-26T06:35:07.288Z"
   },
   {
    "duration": 0,
    "start_time": "2023-12-26T06:35:07.289Z"
   },
   {
    "duration": 0,
    "start_time": "2023-12-26T06:35:07.291Z"
   },
   {
    "duration": 0,
    "start_time": "2023-12-26T06:35:07.292Z"
   },
   {
    "duration": 0,
    "start_time": "2023-12-26T06:35:07.330Z"
   },
   {
    "duration": 0,
    "start_time": "2023-12-26T06:35:07.332Z"
   },
   {
    "duration": 0,
    "start_time": "2023-12-26T06:35:07.333Z"
   },
   {
    "duration": 8083,
    "start_time": "2023-12-26T06:38:37.317Z"
   },
   {
    "duration": 1383,
    "start_time": "2023-12-26T06:38:45.403Z"
   },
   {
    "duration": 1059,
    "start_time": "2023-12-26T06:38:46.788Z"
   },
   {
    "duration": 34,
    "start_time": "2023-12-26T06:38:47.849Z"
   },
   {
    "duration": 7,
    "start_time": "2023-12-26T06:38:47.885Z"
   },
   {
    "duration": 110,
    "start_time": "2023-12-26T06:38:47.894Z"
   },
   {
    "duration": 25,
    "start_time": "2023-12-26T06:38:48.006Z"
   },
   {
    "duration": 27,
    "start_time": "2023-12-26T06:38:48.033Z"
   },
   {
    "duration": 333,
    "start_time": "2023-12-26T06:38:48.061Z"
   },
   {
    "duration": 36,
    "start_time": "2023-12-26T06:38:48.395Z"
   },
   {
    "duration": 20,
    "start_time": "2023-12-26T06:38:48.433Z"
   },
   {
    "duration": 14,
    "start_time": "2023-12-26T06:38:48.455Z"
   },
   {
    "duration": 3573,
    "start_time": "2023-12-26T06:38:48.471Z"
   },
   {
    "duration": 13,
    "start_time": "2023-12-26T06:38:52.047Z"
   },
   {
    "duration": 20,
    "start_time": "2023-12-26T06:38:52.062Z"
   },
   {
    "duration": 84,
    "start_time": "2023-12-26T06:38:52.084Z"
   },
   {
    "duration": 223,
    "start_time": "2023-12-26T06:38:52.170Z"
   },
   {
    "duration": 3,
    "start_time": "2023-12-26T06:38:52.395Z"
   },
   {
    "duration": 137,
    "start_time": "2023-12-26T06:38:52.400Z"
   },
   {
    "duration": 0,
    "start_time": "2023-12-26T06:38:52.540Z"
   },
   {
    "duration": 1,
    "start_time": "2023-12-26T06:38:52.541Z"
   },
   {
    "duration": 0,
    "start_time": "2023-12-26T06:38:52.543Z"
   },
   {
    "duration": 10,
    "start_time": "2023-12-26T06:46:57.038Z"
   },
   {
    "duration": 3,
    "start_time": "2023-12-26T06:47:39.409Z"
   },
   {
    "duration": 7277,
    "start_time": "2023-12-26T06:47:40.590Z"
   },
   {
    "duration": 4,
    "start_time": "2023-12-26T06:47:48.868Z"
   },
   {
    "duration": 4,
    "start_time": "2023-12-26T06:47:49.652Z"
   },
   {
    "duration": 4098,
    "start_time": "2023-12-26T06:49:03.380Z"
   },
   {
    "duration": 1306,
    "start_time": "2023-12-26T06:49:07.481Z"
   },
   {
    "duration": 1003,
    "start_time": "2023-12-26T06:49:08.789Z"
   },
   {
    "duration": 41,
    "start_time": "2023-12-26T06:49:09.793Z"
   },
   {
    "duration": 7,
    "start_time": "2023-12-26T06:49:09.837Z"
   },
   {
    "duration": 90,
    "start_time": "2023-12-26T06:49:09.845Z"
   },
   {
    "duration": 17,
    "start_time": "2023-12-26T06:49:09.937Z"
   },
   {
    "duration": 17,
    "start_time": "2023-12-26T06:49:09.956Z"
   },
   {
    "duration": 350,
    "start_time": "2023-12-26T06:49:09.976Z"
   },
   {
    "duration": 30,
    "start_time": "2023-12-26T06:49:10.328Z"
   },
   {
    "duration": 36,
    "start_time": "2023-12-26T06:49:10.360Z"
   },
   {
    "duration": 30,
    "start_time": "2023-12-26T06:49:10.398Z"
   },
   {
    "duration": 3614,
    "start_time": "2023-12-26T06:49:10.430Z"
   },
   {
    "duration": 19,
    "start_time": "2023-12-26T06:49:14.048Z"
   },
   {
    "duration": 37,
    "start_time": "2023-12-26T06:49:14.069Z"
   },
   {
    "duration": 72,
    "start_time": "2023-12-26T06:49:14.108Z"
   },
   {
    "duration": 137,
    "start_time": "2023-12-26T06:49:14.182Z"
   },
   {
    "duration": 2,
    "start_time": "2023-12-26T06:49:14.321Z"
   },
   {
    "duration": 7432,
    "start_time": "2023-12-26T06:49:14.325Z"
   },
   {
    "duration": 4,
    "start_time": "2023-12-26T06:49:21.758Z"
   },
   {
    "duration": 19,
    "start_time": "2023-12-26T06:49:21.764Z"
   },
   {
    "duration": 3866,
    "start_time": "2023-12-26T12:27:48.057Z"
   },
   {
    "duration": 1312,
    "start_time": "2023-12-26T12:27:51.926Z"
   },
   {
    "duration": 1022,
    "start_time": "2023-12-26T12:27:53.240Z"
   },
   {
    "duration": 32,
    "start_time": "2023-12-26T12:27:54.264Z"
   },
   {
    "duration": 7,
    "start_time": "2023-12-26T12:27:54.297Z"
   },
   {
    "duration": 100,
    "start_time": "2023-12-26T12:27:54.306Z"
   },
   {
    "duration": 41,
    "start_time": "2023-12-26T12:27:54.407Z"
   },
   {
    "duration": 18,
    "start_time": "2023-12-26T12:27:54.450Z"
   },
   {
    "duration": 370,
    "start_time": "2023-12-26T12:27:54.470Z"
   },
   {
    "duration": 31,
    "start_time": "2023-12-26T12:27:54.843Z"
   },
   {
    "duration": 42,
    "start_time": "2023-12-26T12:27:54.876Z"
   },
   {
    "duration": 13,
    "start_time": "2023-12-26T12:27:54.920Z"
   },
   {
    "duration": 3589,
    "start_time": "2023-12-26T12:27:54.935Z"
   },
   {
    "duration": 15,
    "start_time": "2023-12-26T12:27:58.525Z"
   },
   {
    "duration": 52,
    "start_time": "2023-12-26T12:27:58.541Z"
   },
   {
    "duration": 94,
    "start_time": "2023-12-26T12:27:58.595Z"
   },
   {
    "duration": 263,
    "start_time": "2023-12-26T12:27:58.691Z"
   },
   {
    "duration": 3,
    "start_time": "2023-12-26T12:27:58.955Z"
   },
   {
    "duration": 7121,
    "start_time": "2023-12-26T12:27:58.959Z"
   },
   {
    "duration": 4,
    "start_time": "2023-12-26T12:28:06.082Z"
   },
   {
    "duration": 25,
    "start_time": "2023-12-26T12:28:06.088Z"
   },
   {
    "duration": 4,
    "start_time": "2023-12-26T12:28:06.114Z"
   },
   {
    "duration": 7,
    "start_time": "2023-12-26T12:28:06.120Z"
   },
   {
    "duration": 4027,
    "start_time": "2023-12-26T12:46:23.544Z"
   },
   {
    "duration": 2095,
    "start_time": "2023-12-26T12:46:27.573Z"
   },
   {
    "duration": 3451,
    "start_time": "2023-12-26T12:46:29.669Z"
   },
   {
    "duration": 35,
    "start_time": "2023-12-26T12:46:33.123Z"
   },
   {
    "duration": 7,
    "start_time": "2023-12-26T12:46:33.160Z"
   },
   {
    "duration": 100,
    "start_time": "2023-12-26T12:46:33.169Z"
   },
   {
    "duration": 13,
    "start_time": "2023-12-26T12:46:33.272Z"
   },
   {
    "duration": 10,
    "start_time": "2023-12-26T12:46:33.287Z"
   },
   {
    "duration": 375,
    "start_time": "2023-12-26T12:46:33.299Z"
   },
   {
    "duration": 32,
    "start_time": "2023-12-26T12:46:33.678Z"
   },
   {
    "duration": 6,
    "start_time": "2023-12-26T12:46:33.712Z"
   },
   {
    "duration": 24,
    "start_time": "2023-12-26T12:46:33.720Z"
   },
   {
    "duration": 3574,
    "start_time": "2023-12-26T12:46:33.746Z"
   },
   {
    "duration": 20,
    "start_time": "2023-12-26T12:46:37.322Z"
   },
   {
    "duration": 38,
    "start_time": "2023-12-26T12:46:37.344Z"
   },
   {
    "duration": 84,
    "start_time": "2023-12-26T12:46:37.384Z"
   },
   {
    "duration": 3,
    "start_time": "2023-12-26T12:46:37.469Z"
   },
   {
    "duration": 15,
    "start_time": "2023-12-26T12:46:37.473Z"
   },
   {
    "duration": 7129,
    "start_time": "2023-12-26T12:46:37.490Z"
   },
   {
    "duration": 4,
    "start_time": "2023-12-26T12:46:44.621Z"
   },
   {
    "duration": 10,
    "start_time": "2023-12-26T12:46:44.630Z"
   },
   {
    "duration": 14,
    "start_time": "2023-12-26T12:46:44.642Z"
   },
   {
    "duration": 8,
    "start_time": "2023-12-26T12:46:44.658Z"
   },
   {
    "duration": 6,
    "start_time": "2023-12-26T12:46:44.668Z"
   },
   {
    "duration": 49,
    "start_time": "2023-12-26T12:46:44.675Z"
   },
   {
    "duration": 4,
    "start_time": "2023-12-26T12:46:44.730Z"
   },
   {
    "duration": 7,
    "start_time": "2023-12-26T12:47:32.749Z"
   },
   {
    "duration": 4,
    "start_time": "2023-12-26T12:47:37.598Z"
   },
   {
    "duration": 2,
    "start_time": "2023-12-26T12:47:47.960Z"
   },
   {
    "duration": 190490,
    "start_time": "2023-12-26T12:47:48.443Z"
   },
   {
    "duration": 6,
    "start_time": "2023-12-26T12:50:58.935Z"
   },
   {
    "duration": 19,
    "start_time": "2023-12-26T12:50:58.943Z"
   },
   {
    "duration": 79767,
    "start_time": "2023-12-26T12:50:58.965Z"
   },
   {
    "duration": 4,
    "start_time": "2023-12-26T13:00:54.749Z"
   },
   {
    "duration": 38,
    "start_time": "2023-12-26T13:04:32.968Z"
   },
   {
    "duration": 4,
    "start_time": "2023-12-26T13:04:34.048Z"
   },
   {
    "duration": 126,
    "start_time": "2023-12-26T13:04:35.112Z"
   },
   {
    "duration": 5,
    "start_time": "2023-12-26T13:04:45.397Z"
   },
   {
    "duration": 41,
    "start_time": "2023-12-26T13:04:59.968Z"
   },
   {
    "duration": 5,
    "start_time": "2023-12-26T13:05:01.944Z"
   },
   {
    "duration": 11,
    "start_time": "2023-12-26T13:05:03.341Z"
   },
   {
    "duration": 40,
    "start_time": "2023-12-26T13:05:15.621Z"
   },
   {
    "duration": 5,
    "start_time": "2023-12-26T13:05:16.048Z"
   },
   {
    "duration": 6,
    "start_time": "2023-12-26T13:05:16.741Z"
   },
   {
    "duration": 12,
    "start_time": "2023-12-26T13:06:37.281Z"
   },
   {
    "duration": 4,
    "start_time": "2023-12-26T13:06:56.324Z"
   },
   {
    "duration": 4074,
    "start_time": "2023-12-26T13:10:02.944Z"
   },
   {
    "duration": 1386,
    "start_time": "2023-12-26T13:10:07.020Z"
   },
   {
    "duration": 1024,
    "start_time": "2023-12-26T13:10:08.408Z"
   },
   {
    "duration": 33,
    "start_time": "2023-12-26T13:10:09.434Z"
   },
   {
    "duration": 16,
    "start_time": "2023-12-26T13:10:09.469Z"
   },
   {
    "duration": 96,
    "start_time": "2023-12-26T13:10:09.486Z"
   },
   {
    "duration": 10,
    "start_time": "2023-12-26T13:10:09.583Z"
   },
   {
    "duration": 11,
    "start_time": "2023-12-26T13:10:09.594Z"
   },
   {
    "duration": 356,
    "start_time": "2023-12-26T13:10:09.607Z"
   },
   {
    "duration": 32,
    "start_time": "2023-12-26T13:10:09.966Z"
   },
   {
    "duration": 31,
    "start_time": "2023-12-26T13:10:10.001Z"
   },
   {
    "duration": 23,
    "start_time": "2023-12-26T13:10:10.034Z"
   },
   {
    "duration": 3551,
    "start_time": "2023-12-26T13:10:10.059Z"
   },
   {
    "duration": 25,
    "start_time": "2023-12-26T13:10:13.613Z"
   },
   {
    "duration": 19,
    "start_time": "2023-12-26T13:10:13.640Z"
   },
   {
    "duration": 77,
    "start_time": "2023-12-26T13:10:13.661Z"
   },
   {
    "duration": 3,
    "start_time": "2023-12-26T13:10:13.740Z"
   },
   {
    "duration": 4,
    "start_time": "2023-12-26T13:10:13.745Z"
   },
   {
    "duration": 7057,
    "start_time": "2023-12-26T13:10:13.751Z"
   },
   {
    "duration": 4,
    "start_time": "2023-12-26T13:10:20.810Z"
   },
   {
    "duration": 16,
    "start_time": "2023-12-26T13:10:20.815Z"
   },
   {
    "duration": 9,
    "start_time": "2023-12-26T13:10:20.833Z"
   },
   {
    "duration": 13,
    "start_time": "2023-12-26T13:10:20.844Z"
   },
   {
    "duration": 16,
    "start_time": "2023-12-26T13:10:20.859Z"
   },
   {
    "duration": 45,
    "start_time": "2023-12-26T13:10:20.877Z"
   },
   {
    "duration": 4,
    "start_time": "2023-12-26T13:10:20.923Z"
   },
   {
    "duration": 35,
    "start_time": "2023-12-26T13:10:20.929Z"
   },
   {
    "duration": 39,
    "start_time": "2023-12-26T13:10:20.967Z"
   },
   {
    "duration": 4,
    "start_time": "2023-12-26T13:10:21.008Z"
   },
   {
    "duration": 12,
    "start_time": "2023-12-26T13:10:21.014Z"
   },
   {
    "duration": 3,
    "start_time": "2023-12-26T13:10:43.775Z"
   },
   {
    "duration": 190841,
    "start_time": "2023-12-26T13:10:44.400Z"
   },
   {
    "duration": 150,
    "start_time": "2023-12-26T13:13:55.243Z"
   },
   {
    "duration": 0,
    "start_time": "2023-12-26T13:13:55.395Z"
   },
   {
    "duration": 0,
    "start_time": "2023-12-26T13:13:55.396Z"
   },
   {
    "duration": 4,
    "start_time": "2023-12-26T13:14:39.880Z"
   },
   {
    "duration": 75948,
    "start_time": "2023-12-26T13:14:42.490Z"
   },
   {
    "duration": 74893,
    "start_time": "2023-12-26T13:15:58.440Z"
   },
   {
    "duration": 7,
    "start_time": "2023-12-26T13:17:13.336Z"
   },
   {
    "duration": 4,
    "start_time": "2023-12-26T13:22:06.594Z"
   },
   {
    "duration": 53,
    "start_time": "2023-12-26T13:23:00.391Z"
   },
   {
    "duration": 195804,
    "start_time": "2023-12-26T13:23:06.467Z"
   },
   {
    "duration": 4,
    "start_time": "2023-12-26T13:26:22.272Z"
   },
   {
    "duration": 7,
    "start_time": "2023-12-26T13:26:22.288Z"
   },
   {
    "duration": 50,
    "start_time": "2023-12-26T13:26:22.297Z"
   },
   {
    "duration": 83025,
    "start_time": "2023-12-26T13:27:05.907Z"
   },
   {
    "duration": 19891,
    "start_time": "2023-12-26T13:29:32.151Z"
   },
   {
    "duration": 7,
    "start_time": "2023-12-26T13:30:06.944Z"
   },
   {
    "duration": 4,
    "start_time": "2023-12-26T13:30:48.368Z"
   },
   {
    "duration": 17,
    "start_time": "2023-12-26T13:31:38.808Z"
   },
   {
    "duration": 11410,
    "start_time": "2023-12-26T13:31:54.824Z"
   },
   {
    "duration": 94,
    "start_time": "2023-12-26T13:32:06.237Z"
   },
   {
    "duration": 34,
    "start_time": "2023-12-26T13:32:06.333Z"
   },
   {
    "duration": 12455,
    "start_time": "2023-12-26T13:32:58.785Z"
   },
   {
    "duration": 91,
    "start_time": "2023-12-26T13:33:11.242Z"
   },
   {
    "duration": 20,
    "start_time": "2023-12-26T13:33:11.334Z"
   },
   {
    "duration": 44209,
    "start_time": "2023-12-26T13:33:28.924Z"
   },
   {
    "duration": 98,
    "start_time": "2023-12-26T13:34:13.135Z"
   },
   {
    "duration": 16,
    "start_time": "2023-12-26T13:34:13.235Z"
   },
   {
    "duration": 4,
    "start_time": "2023-12-26T13:40:19.156Z"
   },
   {
    "duration": 4116,
    "start_time": "2023-12-26T13:40:43.298Z"
   },
   {
    "duration": 1405,
    "start_time": "2023-12-26T13:40:47.416Z"
   },
   {
    "duration": 999,
    "start_time": "2023-12-26T13:40:48.823Z"
   },
   {
    "duration": 37,
    "start_time": "2023-12-26T13:40:49.824Z"
   },
   {
    "duration": 7,
    "start_time": "2023-12-26T13:40:49.862Z"
   },
   {
    "duration": 90,
    "start_time": "2023-12-26T13:40:49.871Z"
   },
   {
    "duration": 10,
    "start_time": "2023-12-26T13:40:49.963Z"
   },
   {
    "duration": 8,
    "start_time": "2023-12-26T13:40:49.975Z"
   },
   {
    "duration": 368,
    "start_time": "2023-12-26T13:40:49.984Z"
   },
   {
    "duration": 31,
    "start_time": "2023-12-26T13:40:50.355Z"
   },
   {
    "duration": 12,
    "start_time": "2023-12-26T13:40:50.388Z"
   },
   {
    "duration": 6,
    "start_time": "2023-12-26T13:40:50.401Z"
   },
   {
    "duration": 3633,
    "start_time": "2023-12-26T13:40:50.409Z"
   },
   {
    "duration": 23,
    "start_time": "2023-12-26T13:40:54.043Z"
   },
   {
    "duration": 31,
    "start_time": "2023-12-26T13:40:54.067Z"
   },
   {
    "duration": 109,
    "start_time": "2023-12-26T13:40:54.100Z"
   },
   {
    "duration": 3,
    "start_time": "2023-12-26T13:40:54.211Z"
   },
   {
    "duration": 21,
    "start_time": "2023-12-26T13:40:54.215Z"
   },
   {
    "duration": 5910,
    "start_time": "2023-12-26T13:40:54.238Z"
   },
   {
    "duration": 4,
    "start_time": "2023-12-26T13:41:00.150Z"
   },
   {
    "duration": 30,
    "start_time": "2023-12-26T13:41:00.156Z"
   },
   {
    "duration": 63,
    "start_time": "2023-12-26T13:41:00.188Z"
   },
   {
    "duration": 5,
    "start_time": "2023-12-26T13:41:00.254Z"
   },
   {
    "duration": 24,
    "start_time": "2023-12-26T13:41:00.261Z"
   },
   {
    "duration": 58,
    "start_time": "2023-12-26T13:41:00.287Z"
   },
   {
    "duration": 4,
    "start_time": "2023-12-26T13:41:00.347Z"
   },
   {
    "duration": 26,
    "start_time": "2023-12-26T13:41:00.353Z"
   },
   {
    "duration": 32,
    "start_time": "2023-12-26T13:41:00.382Z"
   },
   {
    "duration": 43,
    "start_time": "2023-12-26T13:41:00.416Z"
   },
   {
    "duration": 207,
    "start_time": "2023-12-26T13:41:00.462Z"
   },
   {
    "duration": 6,
    "start_time": "2023-12-26T13:43:07.881Z"
   },
   {
    "duration": 4021,
    "start_time": "2023-12-26T14:12:01.803Z"
   },
   {
    "duration": 1287,
    "start_time": "2023-12-26T14:12:05.827Z"
   },
   {
    "duration": 1043,
    "start_time": "2023-12-26T14:12:07.117Z"
   },
   {
    "duration": 36,
    "start_time": "2023-12-26T14:12:08.162Z"
   },
   {
    "duration": 9,
    "start_time": "2023-12-26T14:12:08.202Z"
   },
   {
    "duration": 77,
    "start_time": "2023-12-26T14:12:08.230Z"
   },
   {
    "duration": 22,
    "start_time": "2023-12-26T14:12:08.310Z"
   },
   {
    "duration": 9,
    "start_time": "2023-12-26T14:12:08.334Z"
   },
   {
    "duration": 353,
    "start_time": "2023-12-26T14:12:08.345Z"
   },
   {
    "duration": 36,
    "start_time": "2023-12-26T14:12:08.700Z"
   },
   {
    "duration": 6,
    "start_time": "2023-12-26T14:12:08.739Z"
   },
   {
    "duration": 6,
    "start_time": "2023-12-26T14:12:08.747Z"
   },
   {
    "duration": 3508,
    "start_time": "2023-12-26T14:12:08.755Z"
   },
   {
    "duration": 21,
    "start_time": "2023-12-26T14:12:12.266Z"
   },
   {
    "duration": 19,
    "start_time": "2023-12-26T14:12:12.290Z"
   },
   {
    "duration": 112,
    "start_time": "2023-12-26T14:12:12.311Z"
   },
   {
    "duration": 2,
    "start_time": "2023-12-26T14:12:12.431Z"
   },
   {
    "duration": 25,
    "start_time": "2023-12-26T14:12:12.435Z"
   },
   {
    "duration": 7136,
    "start_time": "2023-12-26T14:12:12.462Z"
   },
   {
    "duration": 4,
    "start_time": "2023-12-26T14:12:19.600Z"
   },
   {
    "duration": 6,
    "start_time": "2023-12-26T14:12:19.606Z"
   },
   {
    "duration": 44,
    "start_time": "2023-12-26T14:12:19.614Z"
   },
   {
    "duration": 4,
    "start_time": "2023-12-26T14:12:19.660Z"
   },
   {
    "duration": 11,
    "start_time": "2023-12-26T14:12:19.666Z"
   },
   {
    "duration": 52,
    "start_time": "2023-12-26T14:12:19.679Z"
   },
   {
    "duration": 4,
    "start_time": "2023-12-26T14:12:19.733Z"
   },
   {
    "duration": 16,
    "start_time": "2023-12-26T14:12:19.738Z"
   },
   {
    "duration": 13,
    "start_time": "2023-12-26T14:12:19.757Z"
   },
   {
    "duration": 10,
    "start_time": "2023-12-26T14:12:19.772Z"
   },
   {
    "duration": 9,
    "start_time": "2023-12-26T14:12:19.784Z"
   },
   {
    "duration": 8,
    "start_time": "2023-12-26T14:12:19.795Z"
   },
   {
    "duration": 148,
    "start_time": "2023-12-26T14:12:19.805Z"
   },
   {
    "duration": 0,
    "start_time": "2023-12-26T14:12:19.955Z"
   },
   {
    "duration": 0,
    "start_time": "2023-12-26T14:12:19.956Z"
   },
   {
    "duration": 0,
    "start_time": "2023-12-26T14:12:19.957Z"
   },
   {
    "duration": 0,
    "start_time": "2023-12-26T14:12:19.959Z"
   },
   {
    "duration": 184103,
    "start_time": "2023-12-26T14:13:24.834Z"
   },
   {
    "duration": 41508,
    "start_time": "2023-12-26T14:16:28.939Z"
   },
   {
    "duration": 6,
    "start_time": "2023-12-26T14:17:10.532Z"
   },
   {
    "duration": 99,
    "start_time": "2023-12-26T14:17:10.541Z"
   },
   {
    "duration": 0,
    "start_time": "2023-12-26T14:17:10.641Z"
   },
   {
    "duration": 38,
    "start_time": "2023-12-26T14:17:40.987Z"
   },
   {
    "duration": 21,
    "start_time": "2023-12-26T14:17:55.151Z"
   },
   {
    "duration": 67,
    "start_time": "2023-12-26T14:18:14.207Z"
   },
   {
    "duration": 5,
    "start_time": "2023-12-26T14:18:20.085Z"
   },
   {
    "duration": 1021,
    "start_time": "2023-12-26T14:18:25.611Z"
   },
   {
    "duration": 13,
    "start_time": "2023-12-26T14:18:26.781Z"
   },
   {
    "duration": 505,
    "start_time": "2023-12-26T14:19:05.016Z"
   },
   {
    "duration": 154,
    "start_time": "2023-12-26T14:19:12.383Z"
   },
   {
    "duration": 1048,
    "start_time": "2023-12-26T14:19:46.654Z"
   },
   {
    "duration": 5,
    "start_time": "2023-12-26T15:07:14.229Z"
   },
   {
    "duration": 1123,
    "start_time": "2023-12-26T15:07:25.992Z"
   },
   {
    "duration": 5,
    "start_time": "2023-12-26T15:11:17.196Z"
   },
   {
    "duration": 1125,
    "start_time": "2023-12-26T15:11:21.952Z"
   },
   {
    "duration": 6,
    "start_time": "2023-12-26T15:14:42.598Z"
   },
   {
    "duration": 3990,
    "start_time": "2023-12-26T15:16:13.421Z"
   },
   {
    "duration": 1680,
    "start_time": "2023-12-26T15:16:17.413Z"
   },
   {
    "duration": 962,
    "start_time": "2023-12-26T15:16:19.095Z"
   },
   {
    "duration": 33,
    "start_time": "2023-12-26T15:16:20.059Z"
   },
   {
    "duration": 53,
    "start_time": "2023-12-26T15:16:20.095Z"
   },
   {
    "duration": 86,
    "start_time": "2023-12-26T15:16:20.150Z"
   },
   {
    "duration": 24,
    "start_time": "2023-12-26T15:16:20.239Z"
   },
   {
    "duration": 12,
    "start_time": "2023-12-26T15:16:20.266Z"
   },
   {
    "duration": 368,
    "start_time": "2023-12-26T15:16:20.280Z"
   },
   {
    "duration": 31,
    "start_time": "2023-12-26T15:16:20.650Z"
   },
   {
    "duration": 6,
    "start_time": "2023-12-26T15:16:20.683Z"
   },
   {
    "duration": 5,
    "start_time": "2023-12-26T15:16:20.690Z"
   },
   {
    "duration": 3598,
    "start_time": "2023-12-26T15:16:20.697Z"
   },
   {
    "duration": 14,
    "start_time": "2023-12-26T15:16:24.298Z"
   },
   {
    "duration": 34,
    "start_time": "2023-12-26T15:16:24.313Z"
   },
   {
    "duration": 108,
    "start_time": "2023-12-26T15:16:24.348Z"
   },
   {
    "duration": 2,
    "start_time": "2023-12-26T15:16:24.458Z"
   },
   {
    "duration": 11,
    "start_time": "2023-12-26T15:16:24.462Z"
   },
   {
    "duration": 8021,
    "start_time": "2023-12-26T15:16:24.474Z"
   },
   {
    "duration": 4,
    "start_time": "2023-12-26T15:16:32.497Z"
   },
   {
    "duration": 28,
    "start_time": "2023-12-26T15:16:32.503Z"
   },
   {
    "duration": 61,
    "start_time": "2023-12-26T15:16:32.533Z"
   },
   {
    "duration": 4,
    "start_time": "2023-12-26T15:16:32.596Z"
   },
   {
    "duration": 27,
    "start_time": "2023-12-26T15:16:32.602Z"
   },
   {
    "duration": 56,
    "start_time": "2023-12-26T15:16:32.630Z"
   },
   {
    "duration": 5,
    "start_time": "2023-12-26T15:16:32.687Z"
   },
   {
    "duration": 35,
    "start_time": "2023-12-26T15:16:32.693Z"
   },
   {
    "duration": 32,
    "start_time": "2023-12-26T15:16:32.729Z"
   },
   {
    "duration": 17,
    "start_time": "2023-12-26T15:16:32.763Z"
   },
   {
    "duration": 20,
    "start_time": "2023-12-26T15:16:32.782Z"
   },
   {
    "duration": 181628,
    "start_time": "2023-12-26T15:16:32.804Z"
   },
   {
    "duration": 41901,
    "start_time": "2023-12-26T15:19:34.433Z"
   },
   {
    "duration": 95,
    "start_time": "2023-12-26T15:20:16.336Z"
   },
   {
    "duration": 1138,
    "start_time": "2023-12-26T15:20:16.432Z"
   },
   {
    "duration": 140,
    "start_time": "2023-12-26T15:20:17.572Z"
   },
   {
    "duration": 7,
    "start_time": "2023-12-26T15:20:39.330Z"
   },
   {
    "duration": 2,
    "start_time": "2023-12-26T15:21:06.184Z"
   },
   {
    "duration": 60784,
    "start_time": "2023-12-26T15:21:08.748Z"
   },
   {
    "duration": 15601,
    "start_time": "2023-12-26T15:22:09.534Z"
   },
   {
    "duration": 94,
    "start_time": "2023-12-26T15:22:25.140Z"
   },
   {
    "duration": 1166,
    "start_time": "2023-12-26T15:22:25.236Z"
   },
   {
    "duration": 5,
    "start_time": "2023-12-26T15:22:26.404Z"
   },
   {
    "duration": 2,
    "start_time": "2023-12-26T15:54:32.699Z"
   },
   {
    "duration": 63928,
    "start_time": "2023-12-26T15:54:33.904Z"
   },
   {
    "duration": 15899,
    "start_time": "2023-12-26T15:55:37.834Z"
   },
   {
    "duration": 7,
    "start_time": "2023-12-26T15:55:53.736Z"
   },
   {
    "duration": 1216,
    "start_time": "2023-12-26T15:55:53.830Z"
   },
   {
    "duration": 7,
    "start_time": "2023-12-26T15:55:55.048Z"
   },
   {
    "duration": 4065,
    "start_time": "2023-12-28T11:57:53.438Z"
   },
   {
    "duration": 5,
    "start_time": "2023-12-28T11:57:57.506Z"
   },
   {
    "duration": 178,
    "start_time": "2023-12-28T11:59:11.769Z"
   },
   {
    "duration": 891,
    "start_time": "2023-12-28T11:59:42.760Z"
   },
   {
    "duration": 4169,
    "start_time": "2023-12-28T12:00:02.340Z"
   },
   {
    "duration": 1626,
    "start_time": "2023-12-28T12:00:06.512Z"
   },
   {
    "duration": 889,
    "start_time": "2023-12-28T12:00:08.140Z"
   },
   {
    "duration": 29,
    "start_time": "2023-12-28T12:00:54.050Z"
   },
   {
    "duration": 7,
    "start_time": "2023-12-28T12:05:03.825Z"
   },
   {
    "duration": 77,
    "start_time": "2023-12-28T12:05:05.082Z"
   },
   {
    "duration": 121,
    "start_time": "2023-12-28T12:24:47.166Z"
   },
   {
    "duration": 68,
    "start_time": "2023-12-28T12:24:53.305Z"
   },
   {
    "duration": 3481,
    "start_time": "2023-12-28T12:25:01.459Z"
   },
   {
    "duration": 23,
    "start_time": "2023-12-28T12:26:38.519Z"
   },
   {
    "duration": 556,
    "start_time": "2023-12-28T12:27:07.427Z"
   },
   {
    "duration": 455,
    "start_time": "2023-12-28T12:32:41.110Z"
   },
   {
    "duration": 6462,
    "start_time": "2023-12-28T12:34:21.087Z"
   },
   {
    "duration": 6545,
    "start_time": "2023-12-28T12:47:49.524Z"
   },
   {
    "duration": 1805,
    "start_time": "2023-12-28T12:47:56.071Z"
   },
   {
    "duration": 902,
    "start_time": "2023-12-28T12:47:57.878Z"
   },
   {
    "duration": 31,
    "start_time": "2023-12-28T12:47:58.782Z"
   },
   {
    "duration": 7,
    "start_time": "2023-12-28T12:47:58.814Z"
   },
   {
    "duration": 87,
    "start_time": "2023-12-28T12:47:58.822Z"
   },
   {
    "duration": 17,
    "start_time": "2023-12-28T12:47:58.910Z"
   },
   {
    "duration": 416,
    "start_time": "2023-12-28T12:47:58.929Z"
   },
   {
    "duration": 7,
    "start_time": "2023-12-28T12:47:59.346Z"
   },
   {
    "duration": 305,
    "start_time": "2023-12-28T12:59:16.811Z"
   },
   {
    "duration": 3,
    "start_time": "2023-12-28T12:59:47.248Z"
   },
   {
    "duration": 3,
    "start_time": "2023-12-28T12:59:47.855Z"
   },
   {
    "duration": 3556,
    "start_time": "2023-12-28T12:59:48.573Z"
   },
   {
    "duration": 21,
    "start_time": "2023-12-28T12:59:52.132Z"
   },
   {
    "duration": 21,
    "start_time": "2023-12-28T12:59:52.155Z"
   },
   {
    "duration": 87,
    "start_time": "2023-12-28T12:59:58.623Z"
   },
   {
    "duration": 3,
    "start_time": "2023-12-28T13:00:00.391Z"
   },
   {
    "duration": 3,
    "start_time": "2023-12-28T13:00:01.162Z"
   },
   {
    "duration": 7337,
    "start_time": "2023-12-28T13:00:01.948Z"
   },
   {
    "duration": 4,
    "start_time": "2023-12-28T13:00:09.286Z"
   },
   {
    "duration": 14,
    "start_time": "2023-12-28T13:00:09.293Z"
   },
   {
    "duration": 18,
    "start_time": "2023-12-28T13:00:09.310Z"
   },
   {
    "duration": 3,
    "start_time": "2023-12-28T13:00:18.251Z"
   },
   {
    "duration": 175245,
    "start_time": "2023-12-28T13:00:20.310Z"
   },
   {
    "duration": 41987,
    "start_time": "2023-12-28T13:03:15.557Z"
   },
   {
    "duration": 6,
    "start_time": "2023-12-28T13:03:57.545Z"
   },
   {
    "duration": 173,
    "start_time": "2023-12-28T13:03:57.553Z"
   },
   {
    "duration": 0,
    "start_time": "2023-12-28T13:03:57.728Z"
   },
   {
    "duration": 6,
    "start_time": "2023-12-28T13:04:18.909Z"
   },
   {
    "duration": 1106,
    "start_time": "2023-12-28T13:04:24.621Z"
   },
   {
    "duration": 3,
    "start_time": "2023-12-28T13:05:42.303Z"
   },
   {
    "duration": 3533,
    "start_time": "2023-12-28T13:05:42.853Z"
   },
   {
    "duration": 12,
    "start_time": "2023-12-28T13:05:46.387Z"
   },
   {
    "duration": 50,
    "start_time": "2023-12-28T13:05:46.400Z"
   },
   {
    "duration": 129,
    "start_time": "2023-12-28T13:05:46.452Z"
   },
   {
    "duration": 2,
    "start_time": "2023-12-28T13:05:46.583Z"
   },
   {
    "duration": 33,
    "start_time": "2023-12-28T13:05:46.587Z"
   },
   {
    "duration": 6409,
    "start_time": "2023-12-28T13:05:46.622Z"
   },
   {
    "duration": 3,
    "start_time": "2023-12-28T13:05:53.033Z"
   },
   {
    "duration": 5,
    "start_time": "2023-12-28T13:05:53.043Z"
   },
   {
    "duration": 5,
    "start_time": "2023-12-28T13:05:53.051Z"
   },
   {
    "duration": 2,
    "start_time": "2023-12-28T13:05:59.478Z"
   },
   {
    "duration": 180974,
    "start_time": "2023-12-28T13:06:17.277Z"
   },
   {
    "duration": 39778,
    "start_time": "2023-12-28T13:09:18.265Z"
   },
   {
    "duration": 8,
    "start_time": "2023-12-28T13:09:58.046Z"
   },
   {
    "duration": 1191,
    "start_time": "2023-12-28T13:09:58.056Z"
   },
   {
    "duration": 12,
    "start_time": "2023-12-28T13:15:37.095Z"
   },
   {
    "duration": 12,
    "start_time": "2023-12-28T13:27:07.973Z"
   },
   {
    "duration": 2641,
    "start_time": "2023-12-28T13:29:19.625Z"
   },
   {
    "duration": 48,
    "start_time": "2023-12-28T13:41:37.368Z"
   },
   {
    "duration": 6559,
    "start_time": "2023-12-28T13:41:55.762Z"
   },
   {
    "duration": 1744,
    "start_time": "2023-12-28T13:42:02.324Z"
   },
   {
    "duration": 893,
    "start_time": "2023-12-28T13:42:04.070Z"
   },
   {
    "duration": 29,
    "start_time": "2023-12-28T13:42:04.965Z"
   },
   {
    "duration": 25,
    "start_time": "2023-12-28T13:42:04.997Z"
   },
   {
    "duration": 107,
    "start_time": "2023-12-28T13:42:05.024Z"
   },
   {
    "duration": 18,
    "start_time": "2023-12-28T13:42:05.133Z"
   },
   {
    "duration": 410,
    "start_time": "2023-12-28T13:42:05.152Z"
   },
   {
    "duration": 7,
    "start_time": "2023-12-28T13:42:05.564Z"
   },
   {
    "duration": 370,
    "start_time": "2023-12-28T13:42:05.572Z"
   },
   {
    "duration": 3,
    "start_time": "2023-12-28T13:42:05.944Z"
   },
   {
    "duration": 50,
    "start_time": "2023-12-28T13:42:05.948Z"
   },
   {
    "duration": 3532,
    "start_time": "2023-12-28T13:42:06.000Z"
   },
   {
    "duration": 9,
    "start_time": "2023-12-28T13:42:09.535Z"
   },
   {
    "duration": 17,
    "start_time": "2023-12-28T13:46:40.852Z"
   },
   {
    "duration": 87,
    "start_time": "2023-12-28T13:47:44.322Z"
   },
   {
    "duration": 5,
    "start_time": "2023-12-28T13:50:29.163Z"
   },
   {
    "duration": 4,
    "start_time": "2023-12-28T13:51:12.266Z"
   },
   {
    "duration": 6388,
    "start_time": "2023-12-28T14:34:36.035Z"
   },
   {
    "duration": 1870,
    "start_time": "2023-12-28T14:34:42.425Z"
   },
   {
    "duration": 2570,
    "start_time": "2023-12-28T14:34:44.299Z"
   },
   {
    "duration": 0,
    "start_time": "2023-12-28T14:34:46.871Z"
   },
   {
    "duration": 0,
    "start_time": "2023-12-28T14:34:46.873Z"
   },
   {
    "duration": 0,
    "start_time": "2023-12-28T14:34:46.874Z"
   },
   {
    "duration": 0,
    "start_time": "2023-12-28T14:34:46.876Z"
   },
   {
    "duration": 0,
    "start_time": "2023-12-28T14:34:46.877Z"
   },
   {
    "duration": 0,
    "start_time": "2023-12-28T14:34:46.878Z"
   },
   {
    "duration": 0,
    "start_time": "2023-12-28T14:34:46.880Z"
   },
   {
    "duration": 0,
    "start_time": "2023-12-28T14:34:46.882Z"
   },
   {
    "duration": 0,
    "start_time": "2023-12-28T14:34:46.883Z"
   },
   {
    "duration": 0,
    "start_time": "2023-12-28T14:34:46.885Z"
   },
   {
    "duration": 0,
    "start_time": "2023-12-28T14:34:46.886Z"
   },
   {
    "duration": 0,
    "start_time": "2023-12-28T14:34:46.888Z"
   },
   {
    "duration": 0,
    "start_time": "2023-12-28T14:34:46.889Z"
   },
   {
    "duration": 0,
    "start_time": "2023-12-28T14:34:46.890Z"
   },
   {
    "duration": 0,
    "start_time": "2023-12-28T14:34:46.891Z"
   },
   {
    "duration": 0,
    "start_time": "2023-12-28T14:34:46.892Z"
   },
   {
    "duration": 0,
    "start_time": "2023-12-28T14:34:46.893Z"
   },
   {
    "duration": 0,
    "start_time": "2023-12-28T14:34:46.894Z"
   },
   {
    "duration": 0,
    "start_time": "2023-12-28T14:34:46.895Z"
   },
   {
    "duration": 0,
    "start_time": "2023-12-28T14:34:46.896Z"
   },
   {
    "duration": 0,
    "start_time": "2023-12-28T14:34:46.897Z"
   },
   {
    "duration": 0,
    "start_time": "2023-12-28T14:34:46.898Z"
   },
   {
    "duration": 0,
    "start_time": "2023-12-28T14:34:46.899Z"
   },
   {
    "duration": 0,
    "start_time": "2023-12-28T14:34:46.942Z"
   },
   {
    "duration": 0,
    "start_time": "2023-12-28T14:34:46.944Z"
   },
   {
    "duration": 0,
    "start_time": "2023-12-28T14:34:46.946Z"
   },
   {
    "duration": 0,
    "start_time": "2023-12-28T14:34:46.947Z"
   },
   {
    "duration": 0,
    "start_time": "2023-12-28T14:34:46.948Z"
   },
   {
    "duration": 0,
    "start_time": "2023-12-28T14:34:46.950Z"
   },
   {
    "duration": 6432,
    "start_time": "2023-12-28T14:35:08.722Z"
   },
   {
    "duration": 1700,
    "start_time": "2023-12-28T14:35:15.156Z"
   },
   {
    "duration": 917,
    "start_time": "2023-12-28T14:35:16.858Z"
   },
   {
    "duration": 32,
    "start_time": "2023-12-28T14:35:17.776Z"
   },
   {
    "duration": 6,
    "start_time": "2023-12-28T14:35:17.811Z"
   },
   {
    "duration": 87,
    "start_time": "2023-12-28T14:35:17.819Z"
   },
   {
    "duration": 8,
    "start_time": "2023-12-28T14:35:17.907Z"
   },
   {
    "duration": 398,
    "start_time": "2023-12-28T14:35:17.916Z"
   },
   {
    "duration": 7,
    "start_time": "2023-12-28T14:35:18.316Z"
   },
   {
    "duration": 332,
    "start_time": "2023-12-28T14:35:18.325Z"
   },
   {
    "duration": 3,
    "start_time": "2023-12-28T14:35:18.659Z"
   },
   {
    "duration": 4,
    "start_time": "2023-12-28T14:35:18.663Z"
   },
   {
    "duration": 3561,
    "start_time": "2023-12-28T14:35:18.668Z"
   },
   {
    "duration": 11,
    "start_time": "2023-12-28T14:35:22.231Z"
   },
   {
    "duration": 18,
    "start_time": "2023-12-28T14:35:22.243Z"
   },
   {
    "duration": 98,
    "start_time": "2023-12-28T14:35:22.263Z"
   },
   {
    "duration": 4,
    "start_time": "2023-12-28T14:35:22.362Z"
   },
   {
    "duration": 5,
    "start_time": "2023-12-28T14:35:22.367Z"
   },
   {
    "duration": 6733,
    "start_time": "2023-12-28T14:35:22.373Z"
   },
   {
    "duration": 4,
    "start_time": "2023-12-28T14:35:29.108Z"
   },
   {
    "duration": 6,
    "start_time": "2023-12-28T14:35:29.113Z"
   },
   {
    "duration": 12,
    "start_time": "2023-12-28T14:35:29.121Z"
   },
   {
    "duration": 38,
    "start_time": "2023-12-28T14:35:29.135Z"
   },
   {
    "duration": 4,
    "start_time": "2023-12-28T14:35:29.175Z"
   },
   {
    "duration": 13,
    "start_time": "2023-12-28T14:35:29.180Z"
   },
   {
    "duration": 6394,
    "start_time": "2023-12-28T15:48:12.222Z"
   },
   {
    "duration": 1906,
    "start_time": "2023-12-28T15:48:18.619Z"
   },
   {
    "duration": 949,
    "start_time": "2023-12-28T15:48:20.527Z"
   },
   {
    "duration": 31,
    "start_time": "2023-12-28T15:48:21.477Z"
   },
   {
    "duration": 6,
    "start_time": "2023-12-28T15:48:21.510Z"
   },
   {
    "duration": 86,
    "start_time": "2023-12-28T15:48:21.517Z"
   },
   {
    "duration": 10,
    "start_time": "2023-12-28T15:48:21.605Z"
   },
   {
    "duration": 427,
    "start_time": "2023-12-28T15:48:21.616Z"
   },
   {
    "duration": 6,
    "start_time": "2023-12-28T15:48:22.045Z"
   },
   {
    "duration": 299,
    "start_time": "2023-12-28T15:48:22.053Z"
   },
   {
    "duration": 3,
    "start_time": "2023-12-28T15:48:22.354Z"
   },
   {
    "duration": 9,
    "start_time": "2023-12-28T15:48:22.359Z"
   },
   {
    "duration": 3479,
    "start_time": "2023-12-28T15:48:22.370Z"
   },
   {
    "duration": 7,
    "start_time": "2023-12-28T15:48:25.852Z"
   },
   {
    "duration": 46,
    "start_time": "2023-12-28T15:48:25.861Z"
   },
   {
    "duration": 94,
    "start_time": "2023-12-28T15:48:25.909Z"
   },
   {
    "duration": 3,
    "start_time": "2023-12-28T15:48:26.005Z"
   },
   {
    "duration": 10,
    "start_time": "2023-12-28T15:48:26.010Z"
   },
   {
    "duration": 6564,
    "start_time": "2023-12-28T15:48:26.021Z"
   },
   {
    "duration": 4,
    "start_time": "2023-12-28T15:48:32.587Z"
   },
   {
    "duration": 7,
    "start_time": "2023-12-28T15:48:32.592Z"
   },
   {
    "duration": 4,
    "start_time": "2023-12-28T15:48:32.601Z"
   },
   {
    "duration": 47,
    "start_time": "2023-12-28T15:48:32.607Z"
   },
   {
    "duration": 3,
    "start_time": "2023-12-28T15:48:32.656Z"
   },
   {
    "duration": 13,
    "start_time": "2023-12-28T15:48:32.661Z"
   },
   {
    "duration": 7,
    "start_time": "2023-12-28T17:00:11.101Z"
   },
   {
    "duration": 6,
    "start_time": "2023-12-28T17:00:11.826Z"
   },
   {
    "duration": 3,
    "start_time": "2023-12-28T17:00:13.968Z"
   },
   {
    "duration": 179930,
    "start_time": "2023-12-28T17:00:17.720Z"
   },
   {
    "duration": 41193,
    "start_time": "2023-12-28T17:03:17.651Z"
   },
   {
    "duration": 98,
    "start_time": "2023-12-28T17:03:58.846Z"
   },
   {
    "duration": 1166,
    "start_time": "2023-12-28T17:03:58.946Z"
   },
   {
    "duration": 7,
    "start_time": "2023-12-28T17:04:00.114Z"
   },
   {
    "duration": 7144,
    "start_time": "2023-12-28T17:35:34.887Z"
   },
   {
    "duration": 1863,
    "start_time": "2023-12-28T17:35:42.033Z"
   },
   {
    "duration": 923,
    "start_time": "2023-12-28T17:35:43.898Z"
   },
   {
    "duration": 33,
    "start_time": "2023-12-28T17:35:44.824Z"
   },
   {
    "duration": 6,
    "start_time": "2023-12-28T17:35:44.859Z"
   },
   {
    "duration": 85,
    "start_time": "2023-12-28T17:35:44.867Z"
   },
   {
    "duration": 8,
    "start_time": "2023-12-28T17:35:44.954Z"
   },
   {
    "duration": 445,
    "start_time": "2023-12-28T17:35:44.964Z"
   },
   {
    "duration": 7,
    "start_time": "2023-12-28T17:35:45.410Z"
   },
   {
    "duration": 381,
    "start_time": "2023-12-28T17:35:45.419Z"
   },
   {
    "duration": 3,
    "start_time": "2023-12-28T17:35:45.802Z"
   },
   {
    "duration": 6,
    "start_time": "2023-12-28T17:35:45.806Z"
   },
   {
    "duration": 3608,
    "start_time": "2023-12-28T17:35:45.814Z"
   },
   {
    "duration": 9,
    "start_time": "2023-12-28T17:35:49.424Z"
   },
   {
    "duration": 33,
    "start_time": "2023-12-28T17:35:49.434Z"
   },
   {
    "duration": 121,
    "start_time": "2023-12-28T17:35:49.469Z"
   },
   {
    "duration": 4,
    "start_time": "2023-12-28T17:35:49.592Z"
   },
   {
    "duration": 12,
    "start_time": "2023-12-28T17:35:49.598Z"
   },
   {
    "duration": 6821,
    "start_time": "2023-12-28T17:35:49.611Z"
   },
   {
    "duration": 3,
    "start_time": "2023-12-28T17:35:56.434Z"
   },
   {
    "duration": 5,
    "start_time": "2023-12-28T17:35:56.441Z"
   },
   {
    "duration": 4,
    "start_time": "2023-12-28T17:35:56.447Z"
   },
   {
    "duration": 28,
    "start_time": "2023-12-28T17:35:56.453Z"
   },
   {
    "duration": 3,
    "start_time": "2023-12-28T17:35:56.483Z"
   },
   {
    "duration": 7,
    "start_time": "2023-12-28T17:35:56.488Z"
   },
   {
    "duration": 5,
    "start_time": "2023-12-28T17:35:56.496Z"
   },
   {
    "duration": 43,
    "start_time": "2023-12-28T17:35:56.503Z"
   },
   {
    "duration": 7,
    "start_time": "2023-12-28T17:35:56.551Z"
   },
   {
    "duration": 180901,
    "start_time": "2023-12-28T17:35:56.559Z"
   },
   {
    "duration": 40083,
    "start_time": "2023-12-28T17:38:57.461Z"
   },
   {
    "duration": 5,
    "start_time": "2023-12-28T17:39:37.546Z"
   },
   {
    "duration": 1209,
    "start_time": "2023-12-28T17:39:37.553Z"
   },
   {
    "duration": 7,
    "start_time": "2023-12-28T17:39:38.764Z"
   },
   {
    "duration": 17,
    "start_time": "2023-12-28T17:39:38.772Z"
   },
   {
    "duration": 57861,
    "start_time": "2023-12-28T17:39:38.790Z"
   },
   {
    "duration": 14102,
    "start_time": "2023-12-28T17:40:36.742Z"
   },
   {
    "duration": 8,
    "start_time": "2023-12-28T17:40:50.846Z"
   },
   {
    "duration": 1237,
    "start_time": "2023-12-28T17:40:50.856Z"
   },
   {
    "duration": 5,
    "start_time": "2023-12-28T17:40:52.095Z"
   },
   {
    "duration": 11,
    "start_time": "2023-12-28T17:40:52.102Z"
   },
   {
    "duration": 4,
    "start_time": "2023-12-28T17:40:52.114Z"
   },
   {
    "duration": 6527,
    "start_time": "2023-12-28T17:50:36.483Z"
   },
   {
    "duration": 1738,
    "start_time": "2023-12-28T17:50:43.013Z"
   },
   {
    "duration": 901,
    "start_time": "2023-12-28T17:50:44.753Z"
   },
   {
    "duration": 31,
    "start_time": "2023-12-28T17:50:45.656Z"
   },
   {
    "duration": 6,
    "start_time": "2023-12-28T17:50:45.689Z"
   },
   {
    "duration": 92,
    "start_time": "2023-12-28T17:50:45.697Z"
   },
   {
    "duration": 20,
    "start_time": "2023-12-28T17:50:45.791Z"
   },
   {
    "duration": 398,
    "start_time": "2023-12-28T17:50:45.813Z"
   },
   {
    "duration": 8,
    "start_time": "2023-12-28T17:50:46.213Z"
   },
   {
    "duration": 343,
    "start_time": "2023-12-28T17:50:46.223Z"
   },
   {
    "duration": 3,
    "start_time": "2023-12-28T17:50:46.568Z"
   },
   {
    "duration": 8,
    "start_time": "2023-12-28T17:50:46.572Z"
   },
   {
    "duration": 3539,
    "start_time": "2023-12-28T17:50:46.582Z"
   },
   {
    "duration": 7,
    "start_time": "2023-12-28T17:50:50.125Z"
   },
   {
    "duration": 28,
    "start_time": "2023-12-28T17:50:50.134Z"
   },
   {
    "duration": 104,
    "start_time": "2023-12-28T17:50:50.165Z"
   },
   {
    "duration": 4,
    "start_time": "2023-12-28T17:50:50.271Z"
   },
   {
    "duration": 8,
    "start_time": "2023-12-28T17:50:50.276Z"
   },
   {
    "duration": 6713,
    "start_time": "2023-12-28T17:50:50.286Z"
   },
   {
    "duration": 3,
    "start_time": "2023-12-28T17:50:57.000Z"
   },
   {
    "duration": 19,
    "start_time": "2023-12-28T17:50:57.005Z"
   },
   {
    "duration": 13,
    "start_time": "2023-12-28T17:50:57.025Z"
   },
   {
    "duration": 42,
    "start_time": "2023-12-28T17:50:57.040Z"
   },
   {
    "duration": 4,
    "start_time": "2023-12-28T17:50:57.083Z"
   },
   {
    "duration": 16,
    "start_time": "2023-12-28T17:50:57.088Z"
   },
   {
    "duration": 5,
    "start_time": "2023-12-28T17:50:57.105Z"
   },
   {
    "duration": 6,
    "start_time": "2023-12-28T17:50:57.111Z"
   },
   {
    "duration": 10,
    "start_time": "2023-12-28T17:50:57.118Z"
   },
   {
    "duration": 188617,
    "start_time": "2023-12-28T17:50:57.130Z"
   },
   {
    "duration": 44906,
    "start_time": "2023-12-28T17:54:05.750Z"
   },
   {
    "duration": 3039,
    "start_time": "2023-12-28T17:55:02.624Z"
   },
   {
    "duration": 88,
    "start_time": "2023-12-28T18:54:30.160Z"
   },
   {
    "duration": 6456,
    "start_time": "2023-12-28T18:59:01.980Z"
   },
   {
    "duration": 1770,
    "start_time": "2023-12-28T18:59:08.438Z"
   },
   {
    "duration": 921,
    "start_time": "2023-12-28T18:59:10.209Z"
   },
   {
    "duration": 42,
    "start_time": "2023-12-28T18:59:11.132Z"
   },
   {
    "duration": 9,
    "start_time": "2023-12-28T18:59:11.177Z"
   },
   {
    "duration": 92,
    "start_time": "2023-12-28T18:59:11.188Z"
   },
   {
    "duration": 11,
    "start_time": "2023-12-28T18:59:11.281Z"
   },
   {
    "duration": 420,
    "start_time": "2023-12-28T18:59:11.294Z"
   },
   {
    "duration": 7,
    "start_time": "2023-12-28T18:59:11.716Z"
   },
   {
    "duration": 341,
    "start_time": "2023-12-28T18:59:11.725Z"
   },
   {
    "duration": 2,
    "start_time": "2023-12-28T18:59:12.068Z"
   },
   {
    "duration": 4,
    "start_time": "2023-12-28T18:59:12.072Z"
   },
   {
    "duration": 3809,
    "start_time": "2023-12-28T18:59:12.078Z"
   },
   {
    "duration": 8,
    "start_time": "2023-12-28T18:59:15.890Z"
   },
   {
    "duration": 19,
    "start_time": "2023-12-28T18:59:15.899Z"
   },
   {
    "duration": 104,
    "start_time": "2023-12-28T18:59:15.920Z"
   },
   {
    "duration": 4,
    "start_time": "2023-12-28T18:59:16.025Z"
   },
   {
    "duration": 3,
    "start_time": "2023-12-28T18:59:16.043Z"
   },
   {
    "duration": 6688,
    "start_time": "2023-12-28T18:59:16.047Z"
   },
   {
    "duration": 5,
    "start_time": "2023-12-28T18:59:22.737Z"
   },
   {
    "duration": 4,
    "start_time": "2023-12-28T18:59:22.744Z"
   },
   {
    "duration": 7,
    "start_time": "2023-12-28T18:59:22.749Z"
   },
   {
    "duration": 36,
    "start_time": "2023-12-28T18:59:22.758Z"
   },
   {
    "duration": 4,
    "start_time": "2023-12-28T18:59:22.796Z"
   },
   {
    "duration": 11,
    "start_time": "2023-12-28T18:59:22.802Z"
   },
   {
    "duration": 32,
    "start_time": "2023-12-28T18:59:22.814Z"
   },
   {
    "duration": 8,
    "start_time": "2023-12-28T18:59:22.848Z"
   },
   {
    "duration": 5,
    "start_time": "2023-12-28T18:59:22.858Z"
   },
   {
    "duration": 181785,
    "start_time": "2023-12-28T18:59:22.865Z"
   },
   {
    "duration": 39693,
    "start_time": "2023-12-28T19:02:24.652Z"
   },
   {
    "duration": 3107,
    "start_time": "2023-12-28T19:03:04.347Z"
   },
   {
    "duration": 6,
    "start_time": "2023-12-28T19:03:07.456Z"
   },
   {
    "duration": 30,
    "start_time": "2023-12-28T19:03:07.463Z"
   },
   {
    "duration": 13,
    "start_time": "2023-12-28T19:03:34.392Z"
   },
   {
    "duration": 7,
    "start_time": "2023-12-28T19:04:41.094Z"
   },
   {
    "duration": 2,
    "start_time": "2023-12-28T19:04:46.216Z"
   },
   {
    "duration": 59995,
    "start_time": "2023-12-28T19:04:48.448Z"
   },
   {
    "duration": 15404,
    "start_time": "2023-12-28T19:05:48.445Z"
   },
   {
    "duration": 899,
    "start_time": "2023-12-28T19:06:03.851Z"
   },
   {
    "duration": 7,
    "start_time": "2023-12-28T19:06:04.752Z"
   },
   {
    "duration": 27,
    "start_time": "2023-12-28T19:06:04.760Z"
   },
   {
    "duration": 6,
    "start_time": "2023-12-28T19:09:38.540Z"
   },
   {
    "duration": 6342,
    "start_time": "2023-12-28T19:10:31.060Z"
   },
   {
    "duration": 1754,
    "start_time": "2023-12-28T19:10:37.404Z"
   },
   {
    "duration": 880,
    "start_time": "2023-12-28T19:10:39.160Z"
   },
   {
    "duration": 31,
    "start_time": "2023-12-28T19:10:40.041Z"
   },
   {
    "duration": 30,
    "start_time": "2023-12-28T19:10:40.075Z"
   },
   {
    "duration": 80,
    "start_time": "2023-12-28T19:10:40.107Z"
   },
   {
    "duration": 12,
    "start_time": "2023-12-28T19:10:40.189Z"
   },
   {
    "duration": 397,
    "start_time": "2023-12-28T19:10:40.203Z"
   },
   {
    "duration": 7,
    "start_time": "2023-12-28T19:10:40.602Z"
   },
   {
    "duration": 313,
    "start_time": "2023-12-28T19:10:40.610Z"
   },
   {
    "duration": 5,
    "start_time": "2023-12-28T19:10:40.925Z"
   },
   {
    "duration": 9,
    "start_time": "2023-12-28T19:10:40.931Z"
   },
   {
    "duration": 3472,
    "start_time": "2023-12-28T19:10:40.942Z"
   },
   {
    "duration": 8,
    "start_time": "2023-12-28T19:10:44.418Z"
   },
   {
    "duration": 29,
    "start_time": "2023-12-28T19:10:44.427Z"
   },
   {
    "duration": 105,
    "start_time": "2023-12-28T19:10:44.458Z"
   },
   {
    "duration": 5,
    "start_time": "2023-12-28T19:10:44.565Z"
   },
   {
    "duration": 3,
    "start_time": "2023-12-28T19:10:44.571Z"
   },
   {
    "duration": 6477,
    "start_time": "2023-12-28T19:10:44.576Z"
   },
   {
    "duration": 4,
    "start_time": "2023-12-28T19:10:51.054Z"
   },
   {
    "duration": 5,
    "start_time": "2023-12-28T19:10:51.059Z"
   },
   {
    "duration": 4,
    "start_time": "2023-12-28T19:10:51.065Z"
   },
   {
    "duration": 40,
    "start_time": "2023-12-28T19:10:51.070Z"
   },
   {
    "duration": 4,
    "start_time": "2023-12-28T19:10:51.112Z"
   },
   {
    "duration": 36,
    "start_time": "2023-12-28T19:10:51.117Z"
   },
   {
    "duration": 16,
    "start_time": "2023-12-28T19:10:51.155Z"
   },
   {
    "duration": 18,
    "start_time": "2023-12-28T19:10:51.173Z"
   },
   {
    "duration": 6,
    "start_time": "2023-12-28T19:10:51.193Z"
   },
   {
    "duration": 185956,
    "start_time": "2023-12-28T19:10:51.200Z"
   },
   {
    "duration": 42516,
    "start_time": "2023-12-28T19:13:57.242Z"
   },
   {
    "duration": 2989,
    "start_time": "2023-12-28T19:14:39.760Z"
   },
   {
    "duration": 7,
    "start_time": "2023-12-28T19:14:42.750Z"
   },
   {
    "duration": 16,
    "start_time": "2023-12-28T19:14:42.758Z"
   },
   {
    "duration": 7,
    "start_time": "2023-12-28T19:14:42.775Z"
   },
   {
    "duration": 10,
    "start_time": "2023-12-28T19:14:42.784Z"
   },
   {
    "duration": 59547,
    "start_time": "2023-12-28T19:14:42.795Z"
   },
   {
    "duration": 14709,
    "start_time": "2023-12-28T19:15:42.344Z"
   },
   {
    "duration": 842,
    "start_time": "2023-12-28T19:15:57.143Z"
   },
   {
    "duration": 7,
    "start_time": "2023-12-28T19:15:57.987Z"
   },
   {
    "duration": 38,
    "start_time": "2023-12-28T19:15:57.995Z"
   },
   {
    "duration": 17,
    "start_time": "2023-12-28T19:15:58.037Z"
   },
   {
    "duration": 22,
    "start_time": "2023-12-28T19:15:58.055Z"
   },
   {
    "duration": 25,
    "start_time": "2023-12-28T19:15:58.079Z"
   },
   {
    "duration": 7625,
    "start_time": "2023-12-28T20:03:29.349Z"
   },
   {
    "duration": 1814,
    "start_time": "2023-12-28T20:03:36.977Z"
   },
   {
    "duration": 903,
    "start_time": "2023-12-28T20:03:38.792Z"
   },
   {
    "duration": 32,
    "start_time": "2023-12-28T20:03:39.697Z"
   },
   {
    "duration": 17,
    "start_time": "2023-12-28T20:03:39.732Z"
   },
   {
    "duration": 95,
    "start_time": "2023-12-28T20:03:39.751Z"
   },
   {
    "duration": 16,
    "start_time": "2023-12-28T20:03:39.847Z"
   },
   {
    "duration": 450,
    "start_time": "2023-12-28T20:03:39.864Z"
   },
   {
    "duration": 7,
    "start_time": "2023-12-28T20:03:40.316Z"
   },
   {
    "duration": 331,
    "start_time": "2023-12-28T20:03:40.325Z"
   },
   {
    "duration": 3,
    "start_time": "2023-12-28T20:03:40.658Z"
   },
   {
    "duration": 5,
    "start_time": "2023-12-28T20:03:40.663Z"
   },
   {
    "duration": 3551,
    "start_time": "2023-12-28T20:03:40.670Z"
   },
   {
    "duration": 8,
    "start_time": "2023-12-28T20:03:44.224Z"
   },
   {
    "duration": 35,
    "start_time": "2023-12-28T20:03:44.233Z"
   },
   {
    "duration": 114,
    "start_time": "2023-12-28T20:03:44.270Z"
   },
   {
    "duration": 4,
    "start_time": "2023-12-28T20:03:44.386Z"
   },
   {
    "duration": 26,
    "start_time": "2023-12-28T20:03:44.391Z"
   },
   {
    "duration": 6903,
    "start_time": "2023-12-28T20:03:44.419Z"
   },
   {
    "duration": 4,
    "start_time": "2023-12-28T20:03:51.325Z"
   },
   {
    "duration": 40,
    "start_time": "2023-12-28T20:03:51.330Z"
   },
   {
    "duration": 40,
    "start_time": "2023-12-28T20:03:51.372Z"
   },
   {
    "duration": 33,
    "start_time": "2023-12-28T20:03:51.414Z"
   },
   {
    "duration": 5,
    "start_time": "2023-12-28T20:03:51.449Z"
   },
   {
    "duration": 8,
    "start_time": "2023-12-28T20:03:51.456Z"
   },
   {
    "duration": 9,
    "start_time": "2023-12-28T20:03:51.466Z"
   },
   {
    "duration": 8,
    "start_time": "2023-12-28T20:03:51.477Z"
   },
   {
    "duration": 12,
    "start_time": "2023-12-28T20:03:51.486Z"
   },
   {
    "duration": 179149,
    "start_time": "2023-12-28T20:03:51.500Z"
   },
   {
    "duration": 41494,
    "start_time": "2023-12-28T20:06:50.651Z"
   },
   {
    "duration": 3048,
    "start_time": "2023-12-28T20:07:32.146Z"
   },
   {
    "duration": 6,
    "start_time": "2023-12-28T20:07:35.196Z"
   },
   {
    "duration": 14,
    "start_time": "2023-12-28T20:07:35.204Z"
   },
   {
    "duration": 24,
    "start_time": "2023-12-28T20:07:35.220Z"
   },
   {
    "duration": 5,
    "start_time": "2023-12-28T20:07:35.246Z"
   },
   {
    "duration": 61793,
    "start_time": "2023-12-28T20:07:35.252Z"
   },
   {
    "duration": 16208,
    "start_time": "2023-12-28T20:08:37.047Z"
   },
   {
    "duration": 1688,
    "start_time": "2023-12-28T20:08:53.257Z"
   },
   {
    "duration": 6,
    "start_time": "2023-12-28T20:08:54.947Z"
   },
   {
    "duration": 19,
    "start_time": "2023-12-28T20:08:54.955Z"
   },
   {
    "duration": 7,
    "start_time": "2023-12-28T20:08:54.978Z"
   },
   {
    "duration": 4,
    "start_time": "2023-12-28T20:08:55.042Z"
   },
   {
    "duration": 13,
    "start_time": "2023-12-28T20:08:55.049Z"
   },
   {
    "duration": 426121,
    "start_time": "2023-12-28T20:08:55.065Z"
   },
   {
    "duration": 4,
    "start_time": "2023-12-28T20:16:01.188Z"
   },
   {
    "duration": 58,
    "start_time": "2023-12-28T20:16:01.194Z"
   },
   {
    "duration": 1313,
    "start_time": "2023-12-28T20:16:01.253Z"
   },
   {
    "duration": 893,
    "start_time": "2023-12-28T20:16:02.568Z"
   },
   {
    "duration": 15,
    "start_time": "2023-12-28T20:16:03.463Z"
   },
   {
    "duration": 7,
    "start_time": "2023-12-28T20:16:03.480Z"
   },
   {
    "duration": 11,
    "start_time": "2023-12-28T20:16:03.488Z"
   },
   {
    "duration": 3,
    "start_time": "2023-12-28T20:16:03.501Z"
   },
   {
    "duration": 19903,
    "start_time": "2023-12-28T20:16:03.505Z"
   },
   {
    "duration": 4,
    "start_time": "2023-12-28T20:16:23.410Z"
   },
   {
    "duration": 4,
    "start_time": "2023-12-28T20:16:23.416Z"
   },
   {
    "duration": 3026,
    "start_time": "2023-12-28T20:16:23.421Z"
   },
   {
    "duration": 5,
    "start_time": "2023-12-28T20:16:26.449Z"
   },
   {
    "duration": 23,
    "start_time": "2023-12-28T20:16:26.456Z"
   },
   {
    "duration": 7,
    "start_time": "2023-12-28T20:16:26.481Z"
   },
   {
    "duration": 3,
    "start_time": "2023-12-28T20:16:26.489Z"
   },
   {
    "duration": 3,
    "start_time": "2023-12-28T20:16:26.494Z"
   },
   {
    "duration": 10360,
    "start_time": "2023-12-28T20:16:26.499Z"
   },
   {
    "duration": 4,
    "start_time": "2023-12-28T20:16:36.860Z"
   },
   {
    "duration": 3,
    "start_time": "2023-12-28T20:16:36.866Z"
   },
   {
    "duration": 776,
    "start_time": "2023-12-28T20:16:36.870Z"
   },
   {
    "duration": 6,
    "start_time": "2023-12-28T20:16:37.647Z"
   },
   {
    "duration": 15,
    "start_time": "2023-12-28T20:16:37.654Z"
   },
   {
    "duration": 6,
    "start_time": "2023-12-28T20:16:37.670Z"
   },
   {
    "duration": 12,
    "start_time": "2023-12-28T20:16:37.678Z"
   },
   {
    "duration": 220,
    "start_time": "2023-12-28T20:20:23.501Z"
   },
   {
    "duration": 82,
    "start_time": "2023-12-28T20:20:28.401Z"
   },
   {
    "duration": 6,
    "start_time": "2023-12-28T20:20:34.467Z"
   },
   {
    "duration": 15,
    "start_time": "2023-12-28T20:20:35.825Z"
   },
   {
    "duration": 6,
    "start_time": "2023-12-28T20:21:23.687Z"
   },
   {
    "duration": 16,
    "start_time": "2023-12-28T20:21:24.308Z"
   },
   {
    "duration": 161,
    "start_time": "2023-12-28T20:21:41.416Z"
   },
   {
    "duration": 168,
    "start_time": "2023-12-28T20:21:41.824Z"
   },
   {
    "duration": 195,
    "start_time": "2023-12-28T20:21:42.618Z"
   },
   {
    "duration": 3,
    "start_time": "2023-12-28T20:21:46.023Z"
   },
   {
    "duration": 1772832,
    "start_time": "2023-12-28T20:21:49.270Z"
   },
   {
    "duration": 73,
    "start_time": "2023-12-28T20:51:22.103Z"
   },
   {
    "duration": 10,
    "start_time": "2023-12-28T20:52:53.743Z"
   },
   {
    "duration": 10,
    "start_time": "2023-12-28T20:53:19.201Z"
   },
   {
    "duration": 6,
    "start_time": "2023-12-28T20:53:31.276Z"
   },
   {
    "duration": 13,
    "start_time": "2023-12-28T20:53:33.289Z"
   },
   {
    "duration": 7,
    "start_time": "2023-12-28T20:53:53.595Z"
   },
   {
    "duration": 14,
    "start_time": "2023-12-28T20:53:54.255Z"
   },
   {
    "duration": 11,
    "start_time": "2023-12-28T20:55:38.596Z"
   },
   {
    "duration": 13,
    "start_time": "2023-12-28T20:55:48.545Z"
   },
   {
    "duration": 11,
    "start_time": "2023-12-28T20:56:22.570Z"
   },
   {
    "duration": 4,
    "start_time": "2023-12-28T20:57:19.951Z"
   },
   {
    "duration": 483,
    "start_time": "2023-12-28T20:59:56.528Z"
   },
   {
    "duration": 6442,
    "start_time": "2023-12-28T21:00:22.397Z"
   },
   {
    "duration": 3596,
    "start_time": "2023-12-28T21:00:28.842Z"
   },
   {
    "duration": 2286,
    "start_time": "2023-12-28T21:00:32.440Z"
   },
   {
    "duration": 34,
    "start_time": "2023-12-28T21:00:34.727Z"
   },
   {
    "duration": 7,
    "start_time": "2023-12-28T21:00:34.763Z"
   },
   {
    "duration": 79,
    "start_time": "2023-12-28T21:00:34.771Z"
   },
   {
    "duration": 8,
    "start_time": "2023-12-28T21:00:34.852Z"
   },
   {
    "duration": 491,
    "start_time": "2023-12-28T21:00:34.862Z"
   },
   {
    "duration": 7,
    "start_time": "2023-12-28T21:00:35.355Z"
   },
   {
    "duration": 358,
    "start_time": "2023-12-28T21:00:35.363Z"
   },
   {
    "duration": 3,
    "start_time": "2023-12-28T21:00:35.723Z"
   },
   {
    "duration": 18,
    "start_time": "2023-12-28T21:00:35.728Z"
   },
   {
    "duration": 3537,
    "start_time": "2023-12-28T21:00:35.747Z"
   },
   {
    "duration": 7,
    "start_time": "2023-12-28T21:00:39.286Z"
   },
   {
    "duration": 18,
    "start_time": "2023-12-28T21:00:39.294Z"
   },
   {
    "duration": 102,
    "start_time": "2023-12-28T21:00:39.314Z"
   },
   {
    "duration": 4,
    "start_time": "2023-12-28T21:00:39.418Z"
   },
   {
    "duration": 7,
    "start_time": "2023-12-28T21:00:39.423Z"
   },
   {
    "duration": 6793,
    "start_time": "2023-12-28T21:00:39.431Z"
   },
   {
    "duration": 4,
    "start_time": "2023-12-28T21:00:46.226Z"
   },
   {
    "duration": 12,
    "start_time": "2023-12-28T21:00:46.231Z"
   },
   {
    "duration": 20,
    "start_time": "2023-12-28T21:00:46.245Z"
   },
   {
    "duration": 46,
    "start_time": "2023-12-28T21:00:46.266Z"
   },
   {
    "duration": 4,
    "start_time": "2023-12-28T21:00:46.314Z"
   },
   {
    "duration": 6,
    "start_time": "2023-12-28T21:00:46.319Z"
   },
   {
    "duration": 13,
    "start_time": "2023-12-28T21:00:46.327Z"
   },
   {
    "duration": 22,
    "start_time": "2023-12-28T21:00:46.342Z"
   },
   {
    "duration": 16,
    "start_time": "2023-12-28T21:00:46.366Z"
   },
   {
    "duration": 17,
    "start_time": "2023-12-28T21:00:46.384Z"
   },
   {
    "duration": 28,
    "start_time": "2023-12-28T21:00:46.403Z"
   },
   {
    "duration": 36478,
    "start_time": "2023-12-28T21:01:19.568Z"
   },
   {
    "duration": 10,
    "start_time": "2023-12-28T21:01:56.048Z"
   },
   {
    "duration": 16,
    "start_time": "2023-12-28T21:01:57.806Z"
   },
   {
    "duration": 6425,
    "start_time": "2023-12-28T21:12:41.911Z"
   },
   {
    "duration": 1814,
    "start_time": "2023-12-28T21:12:48.338Z"
   },
   {
    "duration": 875,
    "start_time": "2023-12-28T21:12:50.154Z"
   },
   {
    "duration": 31,
    "start_time": "2023-12-28T21:12:51.031Z"
   },
   {
    "duration": 53,
    "start_time": "2023-12-28T21:12:51.064Z"
   },
   {
    "duration": 105,
    "start_time": "2023-12-28T21:12:51.120Z"
   },
   {
    "duration": 8,
    "start_time": "2023-12-28T21:12:51.227Z"
   },
   {
    "duration": 412,
    "start_time": "2023-12-28T21:12:51.237Z"
   },
   {
    "duration": 7,
    "start_time": "2023-12-28T21:12:51.650Z"
   },
   {
    "duration": 296,
    "start_time": "2023-12-28T21:12:51.659Z"
   },
   {
    "duration": 2,
    "start_time": "2023-12-28T21:12:51.958Z"
   },
   {
    "duration": 15,
    "start_time": "2023-12-28T21:12:51.961Z"
   },
   {
    "duration": 3531,
    "start_time": "2023-12-28T21:12:51.977Z"
   },
   {
    "duration": 8,
    "start_time": "2023-12-28T21:12:55.509Z"
   },
   {
    "duration": 26,
    "start_time": "2023-12-28T21:12:55.519Z"
   },
   {
    "duration": 116,
    "start_time": "2023-12-28T21:12:55.546Z"
   },
   {
    "duration": 4,
    "start_time": "2023-12-28T21:12:55.663Z"
   },
   {
    "duration": 21,
    "start_time": "2023-12-28T21:12:55.669Z"
   },
   {
    "duration": 6654,
    "start_time": "2023-12-28T21:12:55.691Z"
   },
   {
    "duration": 3,
    "start_time": "2023-12-28T21:13:02.348Z"
   },
   {
    "duration": 30,
    "start_time": "2023-12-28T21:13:02.353Z"
   },
   {
    "duration": 24,
    "start_time": "2023-12-28T21:13:02.385Z"
   },
   {
    "duration": 47,
    "start_time": "2023-12-28T21:13:02.411Z"
   },
   {
    "duration": 3,
    "start_time": "2023-12-28T21:13:02.460Z"
   },
   {
    "duration": 57,
    "start_time": "2023-12-28T21:13:02.465Z"
   },
   {
    "duration": 23,
    "start_time": "2023-12-28T21:13:02.523Z"
   },
   {
    "duration": 6,
    "start_time": "2023-12-28T21:13:02.548Z"
   },
   {
    "duration": 40,
    "start_time": "2023-12-28T21:13:02.558Z"
   },
   {
    "duration": 6990,
    "start_time": "2023-12-28T21:19:25.680Z"
   },
   {
    "duration": 1775,
    "start_time": "2023-12-28T21:19:32.672Z"
   },
   {
    "duration": 859,
    "start_time": "2023-12-28T21:19:34.448Z"
   },
   {
    "duration": 33,
    "start_time": "2023-12-28T21:19:35.309Z"
   },
   {
    "duration": 7,
    "start_time": "2023-12-28T21:19:35.344Z"
   },
   {
    "duration": 90,
    "start_time": "2023-12-28T21:19:35.353Z"
   },
   {
    "duration": 9,
    "start_time": "2023-12-28T21:19:35.444Z"
   },
   {
    "duration": 442,
    "start_time": "2023-12-28T21:19:35.455Z"
   },
   {
    "duration": 7,
    "start_time": "2023-12-28T21:19:35.899Z"
   },
   {
    "duration": 320,
    "start_time": "2023-12-28T21:19:35.907Z"
   },
   {
    "duration": 3,
    "start_time": "2023-12-28T21:19:36.229Z"
   },
   {
    "duration": 16,
    "start_time": "2023-12-28T21:19:36.233Z"
   },
   {
    "duration": 3511,
    "start_time": "2023-12-28T21:19:36.251Z"
   },
   {
    "duration": 8,
    "start_time": "2023-12-28T21:19:39.765Z"
   },
   {
    "duration": 40,
    "start_time": "2023-12-28T21:19:39.774Z"
   },
   {
    "duration": 91,
    "start_time": "2023-12-28T21:19:39.816Z"
   },
   {
    "duration": 4,
    "start_time": "2023-12-28T21:19:39.908Z"
   },
   {
    "duration": 5,
    "start_time": "2023-12-28T21:19:39.913Z"
   },
   {
    "duration": 7457,
    "start_time": "2023-12-28T21:19:39.920Z"
   },
   {
    "duration": 4,
    "start_time": "2023-12-28T21:19:47.378Z"
   },
   {
    "duration": 7,
    "start_time": "2023-12-28T21:19:47.384Z"
   },
   {
    "duration": 4,
    "start_time": "2023-12-28T21:19:47.393Z"
   },
   {
    "duration": 48,
    "start_time": "2023-12-28T21:19:47.398Z"
   },
   {
    "duration": 4,
    "start_time": "2023-12-28T21:19:47.448Z"
   },
   {
    "duration": 7,
    "start_time": "2023-12-28T21:19:47.453Z"
   },
   {
    "duration": 6,
    "start_time": "2023-12-28T21:19:47.461Z"
   },
   {
    "duration": 5,
    "start_time": "2023-12-28T21:19:47.469Z"
   },
   {
    "duration": 6,
    "start_time": "2023-12-28T21:19:47.476Z"
   },
   {
    "duration": 181988,
    "start_time": "2023-12-28T21:19:47.483Z"
   },
   {
    "duration": 39804,
    "start_time": "2023-12-28T21:22:49.542Z"
   },
   {
    "duration": 2997,
    "start_time": "2023-12-28T21:23:29.348Z"
   },
   {
    "duration": 7,
    "start_time": "2023-12-28T21:23:32.346Z"
   },
   {
    "duration": 32,
    "start_time": "2023-12-28T21:23:32.354Z"
   },
   {
    "duration": 22,
    "start_time": "2023-12-28T21:23:32.388Z"
   },
   {
    "duration": 14,
    "start_time": "2023-12-28T21:23:32.412Z"
   },
   {
    "duration": 61322,
    "start_time": "2023-12-28T21:23:32.427Z"
   },
   {
    "duration": 14800,
    "start_time": "2023-12-28T21:24:33.750Z"
   },
   {
    "duration": 863,
    "start_time": "2023-12-28T21:24:48.551Z"
   },
   {
    "duration": 6,
    "start_time": "2023-12-28T21:24:49.416Z"
   },
   {
    "duration": 26,
    "start_time": "2023-12-28T21:24:49.424Z"
   },
   {
    "duration": 7,
    "start_time": "2023-12-28T21:24:49.455Z"
   },
   {
    "duration": 19,
    "start_time": "2023-12-28T21:24:49.463Z"
   },
   {
    "duration": 11,
    "start_time": "2023-12-28T21:24:49.483Z"
   },
   {
    "duration": 2955963,
    "start_time": "2023-12-28T21:24:49.495Z"
   },
   {
    "duration": 4,
    "start_time": "2023-12-28T22:14:05.460Z"
   },
   {
    "duration": 5,
    "start_time": "2023-12-28T22:14:05.466Z"
   },
   {
    "duration": 3333,
    "start_time": "2023-12-28T22:14:05.473Z"
   },
   {
    "duration": 182,
    "start_time": "2023-12-28T22:14:08.807Z"
   },
   {
    "duration": 15,
    "start_time": "2023-12-28T22:14:08.991Z"
   },
   {
    "duration": 17,
    "start_time": "2023-12-28T22:14:09.007Z"
   },
   {
    "duration": 9,
    "start_time": "2023-12-28T22:14:09.025Z"
   },
   {
    "duration": 23,
    "start_time": "2023-12-28T22:14:09.035Z"
   },
   {
    "duration": 393430,
    "start_time": "2023-12-28T22:14:09.059Z"
   },
   {
    "duration": 4,
    "start_time": "2023-12-28T22:20:42.490Z"
   },
   {
    "duration": 7,
    "start_time": "2023-12-28T22:20:42.495Z"
   },
   {
    "duration": 1235,
    "start_time": "2023-12-28T22:20:42.503Z"
   },
   {
    "duration": 813,
    "start_time": "2023-12-28T22:20:43.740Z"
   },
   {
    "duration": 15,
    "start_time": "2023-12-28T22:20:44.554Z"
   },
   {
    "duration": 6,
    "start_time": "2023-12-28T22:20:44.571Z"
   },
   {
    "duration": 4,
    "start_time": "2023-12-28T22:20:44.578Z"
   },
   {
    "duration": 3,
    "start_time": "2023-12-28T22:20:44.584Z"
   },
   {
    "duration": 19221,
    "start_time": "2023-12-28T22:20:44.589Z"
   },
   {
    "duration": 4,
    "start_time": "2023-12-28T22:21:03.811Z"
   },
   {
    "duration": 12,
    "start_time": "2023-12-28T22:21:03.816Z"
   },
   {
    "duration": 2919,
    "start_time": "2023-12-28T22:21:03.830Z"
   },
   {
    "duration": 6,
    "start_time": "2023-12-28T22:21:06.751Z"
   },
   {
    "duration": 25,
    "start_time": "2023-12-28T22:21:06.758Z"
   },
   {
    "duration": 6,
    "start_time": "2023-12-28T22:21:06.785Z"
   },
   {
    "duration": 6,
    "start_time": "2023-12-28T22:21:06.792Z"
   },
   {
    "duration": 4,
    "start_time": "2023-12-28T22:21:06.799Z"
   },
   {
    "duration": 10053,
    "start_time": "2023-12-28T22:21:06.804Z"
   },
   {
    "duration": 4,
    "start_time": "2023-12-28T22:21:16.859Z"
   },
   {
    "duration": 19,
    "start_time": "2023-12-28T22:21:16.864Z"
   },
   {
    "duration": 749,
    "start_time": "2023-12-28T22:21:16.884Z"
   },
   {
    "duration": 11,
    "start_time": "2023-12-28T22:21:17.634Z"
   },
   {
    "duration": 14,
    "start_time": "2023-12-28T22:21:17.646Z"
   },
   {
    "duration": 7,
    "start_time": "2023-12-28T22:21:17.661Z"
   },
   {
    "duration": 178,
    "start_time": "2023-12-28T22:21:17.669Z"
   },
   {
    "duration": 174,
    "start_time": "2023-12-28T22:21:17.848Z"
   },
   {
    "duration": 197,
    "start_time": "2023-12-28T22:21:18.024Z"
   },
   {
    "duration": 3,
    "start_time": "2023-12-28T22:21:18.223Z"
   },
   {
    "duration": 1785938,
    "start_time": "2023-12-28T22:21:18.227Z"
   },
   {
    "duration": 5,
    "start_time": "2023-12-28T22:51:04.166Z"
   },
   {
    "duration": 20,
    "start_time": "2023-12-28T22:51:04.172Z"
   },
   {
    "duration": 436996,
    "start_time": "2023-12-28T22:51:04.194Z"
   },
   {
    "duration": 1032,
    "start_time": "2023-12-28T22:58:21.192Z"
   },
   {
    "duration": 437,
    "start_time": "2023-12-28T22:58:22.226Z"
   },
   {
    "duration": 16,
    "start_time": "2023-12-28T22:58:22.665Z"
   },
   {
    "duration": 7,
    "start_time": "2023-12-28T22:58:22.682Z"
   },
   {
    "duration": 15,
    "start_time": "2023-12-28T22:58:22.691Z"
   },
   {
    "duration": 138,
    "start_time": "2023-12-29T07:24:24.819Z"
   },
   {
    "duration": 6702,
    "start_time": "2023-12-29T07:25:05.740Z"
   },
   {
    "duration": 1834,
    "start_time": "2023-12-29T07:25:12.445Z"
   },
   {
    "duration": 893,
    "start_time": "2023-12-29T07:25:14.280Z"
   },
   {
    "duration": 31,
    "start_time": "2023-12-29T07:25:15.175Z"
   },
   {
    "duration": 20,
    "start_time": "2023-12-29T07:25:15.207Z"
   },
   {
    "duration": 83,
    "start_time": "2023-12-29T07:25:15.228Z"
   },
   {
    "duration": 32,
    "start_time": "2023-12-29T07:25:15.313Z"
   },
   {
    "duration": 398,
    "start_time": "2023-12-29T07:25:15.346Z"
   },
   {
    "duration": 7,
    "start_time": "2023-12-29T07:25:15.745Z"
   },
   {
    "duration": 307,
    "start_time": "2023-12-29T07:25:15.755Z"
   },
   {
    "duration": 3,
    "start_time": "2023-12-29T07:25:16.064Z"
   },
   {
    "duration": 4,
    "start_time": "2023-12-29T07:25:16.069Z"
   },
   {
    "duration": 3453,
    "start_time": "2023-12-29T07:25:16.075Z"
   },
   {
    "duration": 13,
    "start_time": "2023-12-29T07:25:19.529Z"
   },
   {
    "duration": 28,
    "start_time": "2023-12-29T07:25:19.544Z"
   },
   {
    "duration": 116,
    "start_time": "2023-12-29T07:25:19.574Z"
   },
   {
    "duration": 5,
    "start_time": "2023-12-29T07:25:19.691Z"
   },
   {
    "duration": 12,
    "start_time": "2023-12-29T07:25:19.697Z"
   },
   {
    "duration": 6616,
    "start_time": "2023-12-29T07:25:19.711Z"
   },
   {
    "duration": 4,
    "start_time": "2023-12-29T07:25:26.328Z"
   },
   {
    "duration": 4,
    "start_time": "2023-12-29T07:25:26.342Z"
   },
   {
    "duration": 18,
    "start_time": "2023-12-29T07:25:26.347Z"
   },
   {
    "duration": 31,
    "start_time": "2023-12-29T07:25:26.367Z"
   },
   {
    "duration": 4,
    "start_time": "2023-12-29T07:25:26.399Z"
   },
   {
    "duration": 14,
    "start_time": "2023-12-29T07:25:26.405Z"
   },
   {
    "duration": 8,
    "start_time": "2023-12-29T07:25:26.421Z"
   },
   {
    "duration": 15,
    "start_time": "2023-12-29T07:25:26.430Z"
   },
   {
    "duration": 26,
    "start_time": "2023-12-29T07:25:26.449Z"
   },
   {
    "duration": 180173,
    "start_time": "2023-12-29T07:25:26.476Z"
   },
   {
    "duration": 40498,
    "start_time": "2023-12-29T07:28:26.650Z"
   },
   {
    "duration": 2985,
    "start_time": "2023-12-29T07:29:07.149Z"
   },
   {
    "duration": 7,
    "start_time": "2023-12-29T07:29:10.135Z"
   },
   {
    "duration": 24,
    "start_time": "2023-12-29T07:29:10.144Z"
   },
   {
    "duration": 7,
    "start_time": "2023-12-29T07:29:10.170Z"
   },
   {
    "duration": 14,
    "start_time": "2023-12-29T07:29:10.179Z"
   },
   {
    "duration": 56650,
    "start_time": "2023-12-29T07:29:10.194Z"
   },
   {
    "duration": 14405,
    "start_time": "2023-12-29T07:30:06.845Z"
   },
   {
    "duration": 855,
    "start_time": "2023-12-29T07:30:21.252Z"
   },
   {
    "duration": 7,
    "start_time": "2023-12-29T07:30:22.109Z"
   },
   {
    "duration": 29,
    "start_time": "2023-12-29T07:30:22.117Z"
   },
   {
    "duration": 7,
    "start_time": "2023-12-29T07:30:22.147Z"
   },
   {
    "duration": 4,
    "start_time": "2023-12-29T07:30:22.156Z"
   },
   {
    "duration": 4,
    "start_time": "2023-12-29T07:30:22.161Z"
   },
   {
    "duration": 2970931,
    "start_time": "2023-12-29T07:30:22.166Z"
   },
   {
    "duration": 4,
    "start_time": "2023-12-29T08:19:53.099Z"
   },
   {
    "duration": 31,
    "start_time": "2023-12-29T08:19:53.104Z"
   },
   {
    "duration": 3420,
    "start_time": "2023-12-29T08:19:53.136Z"
   },
   {
    "duration": 184,
    "start_time": "2023-12-29T08:19:56.558Z"
   },
   {
    "duration": 14,
    "start_time": "2023-12-29T08:19:56.744Z"
   },
   {
    "duration": 7,
    "start_time": "2023-12-29T08:19:56.759Z"
   },
   {
    "duration": 26,
    "start_time": "2023-12-29T08:19:56.767Z"
   },
   {
    "duration": 22,
    "start_time": "2023-12-29T08:19:56.795Z"
   },
   {
    "duration": 400474,
    "start_time": "2023-12-29T08:19:56.818Z"
   },
   {
    "duration": 3,
    "start_time": "2023-12-29T08:26:37.294Z"
   },
   {
    "duration": 25,
    "start_time": "2023-12-29T08:26:37.298Z"
   },
   {
    "duration": 1233,
    "start_time": "2023-12-29T08:26:37.324Z"
   },
   {
    "duration": 839,
    "start_time": "2023-12-29T08:26:38.559Z"
   },
   {
    "duration": 16,
    "start_time": "2023-12-29T08:26:39.400Z"
   },
   {
    "duration": 24,
    "start_time": "2023-12-29T08:26:39.418Z"
   },
   {
    "duration": 3,
    "start_time": "2023-12-29T08:26:39.444Z"
   },
   {
    "duration": 4,
    "start_time": "2023-12-29T08:26:39.449Z"
   },
   {
    "duration": 18815,
    "start_time": "2023-12-29T08:26:39.454Z"
   },
   {
    "duration": 4,
    "start_time": "2023-12-29T08:26:58.270Z"
   },
   {
    "duration": 17,
    "start_time": "2023-12-29T08:26:58.276Z"
   },
   {
    "duration": 2994,
    "start_time": "2023-12-29T08:26:58.295Z"
   },
   {
    "duration": 6,
    "start_time": "2023-12-29T08:27:01.291Z"
   },
   {
    "duration": 41,
    "start_time": "2023-12-29T08:27:01.298Z"
   },
   {
    "duration": 19,
    "start_time": "2023-12-29T08:27:01.341Z"
   },
   {
    "duration": 17,
    "start_time": "2023-12-29T08:27:01.362Z"
   },
   {
    "duration": 45,
    "start_time": "2023-12-29T08:27:01.381Z"
   },
   {
    "duration": 10452,
    "start_time": "2023-12-29T08:27:01.427Z"
   },
   {
    "duration": 3,
    "start_time": "2023-12-29T08:27:11.881Z"
   },
   {
    "duration": 5,
    "start_time": "2023-12-29T08:27:11.885Z"
   },
   {
    "duration": 769,
    "start_time": "2023-12-29T08:27:11.892Z"
   },
   {
    "duration": 6,
    "start_time": "2023-12-29T08:27:12.663Z"
   },
   {
    "duration": 19,
    "start_time": "2023-12-29T08:27:12.671Z"
   },
   {
    "duration": 6,
    "start_time": "2023-12-29T08:27:12.691Z"
   },
   {
    "duration": 187,
    "start_time": "2023-12-29T08:27:12.699Z"
   },
   {
    "duration": 193,
    "start_time": "2023-12-29T08:27:12.888Z"
   },
   {
    "duration": 183,
    "start_time": "2023-12-29T08:27:13.082Z"
   },
   {
    "duration": 3,
    "start_time": "2023-12-29T08:27:13.266Z"
   },
   {
    "duration": 1752537,
    "start_time": "2023-12-29T08:27:13.274Z"
   },
   {
    "duration": 5,
    "start_time": "2023-12-29T08:56:25.813Z"
   },
   {
    "duration": 16,
    "start_time": "2023-12-29T08:56:25.819Z"
   },
   {
    "duration": 432692,
    "start_time": "2023-12-29T08:56:25.843Z"
   },
   {
    "duration": 1091,
    "start_time": "2023-12-29T09:03:38.536Z"
   },
   {
    "duration": 463,
    "start_time": "2023-12-29T09:03:39.629Z"
   },
   {
    "duration": 15,
    "start_time": "2023-12-29T09:03:40.094Z"
   },
   {
    "duration": 7,
    "start_time": "2023-12-29T09:03:40.110Z"
   },
   {
    "duration": 26,
    "start_time": "2023-12-29T09:03:40.119Z"
   },
   {
    "duration": 21,
    "start_time": "2023-12-29T09:03:40.147Z"
   },
   {
    "duration": 40676,
    "start_time": "2023-12-29T09:03:40.170Z"
   },
   {
    "duration": 6889,
    "start_time": "2023-12-29T11:11:43.989Z"
   },
   {
    "duration": 1688,
    "start_time": "2023-12-29T11:11:50.880Z"
   },
   {
    "duration": 888,
    "start_time": "2023-12-29T11:11:52.569Z"
   },
   {
    "duration": 33,
    "start_time": "2023-12-29T11:11:53.459Z"
   },
   {
    "duration": 7,
    "start_time": "2023-12-29T11:11:53.493Z"
   },
   {
    "duration": 91,
    "start_time": "2023-12-29T11:11:53.502Z"
   },
   {
    "duration": 15,
    "start_time": "2023-12-29T11:11:53.594Z"
   },
   {
    "duration": 399,
    "start_time": "2023-12-29T11:11:53.611Z"
   },
   {
    "duration": 7,
    "start_time": "2023-12-29T11:11:54.011Z"
   },
   {
    "duration": 317,
    "start_time": "2023-12-29T11:11:54.021Z"
   },
   {
    "duration": 3,
    "start_time": "2023-12-29T11:11:54.340Z"
   },
   {
    "duration": 13,
    "start_time": "2023-12-29T11:11:54.344Z"
   },
   {
    "duration": 3513,
    "start_time": "2023-12-29T11:11:54.359Z"
   },
   {
    "duration": 8,
    "start_time": "2023-12-29T11:11:57.873Z"
   },
   {
    "duration": 40,
    "start_time": "2023-12-29T11:11:57.882Z"
   },
   {
    "duration": 100,
    "start_time": "2023-12-29T11:11:57.923Z"
   },
   {
    "duration": 4,
    "start_time": "2023-12-29T11:11:58.025Z"
   },
   {
    "duration": 8,
    "start_time": "2023-12-29T11:11:58.030Z"
   },
   {
    "duration": 6911,
    "start_time": "2023-12-29T11:11:58.042Z"
   },
   {
    "duration": 4,
    "start_time": "2023-12-29T11:12:04.955Z"
   },
   {
    "duration": 12,
    "start_time": "2023-12-29T11:12:04.961Z"
   },
   {
    "duration": 5,
    "start_time": "2023-12-29T11:12:04.975Z"
   },
   {
    "duration": 40,
    "start_time": "2023-12-29T11:12:04.982Z"
   },
   {
    "duration": 5,
    "start_time": "2023-12-29T11:12:05.041Z"
   },
   {
    "duration": 45,
    "start_time": "2023-12-29T11:12:05.047Z"
   },
   {
    "duration": 24,
    "start_time": "2023-12-29T11:12:05.094Z"
   },
   {
    "duration": 13,
    "start_time": "2023-12-29T11:12:05.119Z"
   },
   {
    "duration": 4,
    "start_time": "2023-12-29T11:12:05.136Z"
   },
   {
    "duration": 178603,
    "start_time": "2023-12-29T11:12:05.142Z"
   },
   {
    "duration": 39997,
    "start_time": "2023-12-29T11:15:03.747Z"
   },
   {
    "duration": 3012,
    "start_time": "2023-12-29T11:15:43.746Z"
   },
   {
    "duration": 6,
    "start_time": "2023-12-29T11:15:46.759Z"
   },
   {
    "duration": 14,
    "start_time": "2023-12-29T11:15:46.767Z"
   },
   {
    "duration": 7,
    "start_time": "2023-12-29T11:15:46.783Z"
   },
   {
    "duration": 6,
    "start_time": "2023-12-29T11:15:46.791Z"
   },
   {
    "duration": 63945,
    "start_time": "2023-12-29T11:15:46.798Z"
   },
   {
    "duration": 13600,
    "start_time": "2023-12-29T11:16:50.744Z"
   },
   {
    "duration": 756,
    "start_time": "2023-12-29T11:17:04.346Z"
   },
   {
    "duration": 6,
    "start_time": "2023-12-29T11:17:05.103Z"
   },
   {
    "duration": 23,
    "start_time": "2023-12-29T11:17:05.111Z"
   },
   {
    "duration": 7,
    "start_time": "2023-12-29T11:17:05.141Z"
   },
   {
    "duration": 5,
    "start_time": "2023-12-29T11:17:05.150Z"
   },
   {
    "duration": 4,
    "start_time": "2023-12-29T11:17:05.156Z"
   },
   {
    "duration": 2961348,
    "start_time": "2023-12-29T11:17:05.161Z"
   },
   {
    "duration": 4,
    "start_time": "2023-12-29T12:06:26.511Z"
   },
   {
    "duration": 19,
    "start_time": "2023-12-29T12:06:26.516Z"
   },
   {
    "duration": 3371,
    "start_time": "2023-12-29T12:06:26.537Z"
   },
   {
    "duration": 182,
    "start_time": "2023-12-29T12:06:29.910Z"
   },
   {
    "duration": 15,
    "start_time": "2023-12-29T12:06:30.094Z"
   },
   {
    "duration": 20,
    "start_time": "2023-12-29T12:06:30.110Z"
   },
   {
    "duration": 27,
    "start_time": "2023-12-29T12:06:30.131Z"
   },
   {
    "duration": 32,
    "start_time": "2023-12-29T12:06:30.159Z"
   },
   {
    "duration": 399543,
    "start_time": "2023-12-29T12:06:30.193Z"
   },
   {
    "duration": 5,
    "start_time": "2023-12-29T12:13:09.738Z"
   },
   {
    "duration": 9,
    "start_time": "2023-12-29T12:13:09.745Z"
   },
   {
    "duration": 1215,
    "start_time": "2023-12-29T12:13:09.755Z"
   },
   {
    "duration": 784,
    "start_time": "2023-12-29T12:13:10.972Z"
   },
   {
    "duration": 15,
    "start_time": "2023-12-29T12:13:11.758Z"
   },
   {
    "duration": 6,
    "start_time": "2023-12-29T12:13:11.775Z"
   },
   {
    "duration": 5,
    "start_time": "2023-12-29T12:13:11.782Z"
   },
   {
    "duration": 20,
    "start_time": "2023-12-29T12:13:11.788Z"
   },
   {
    "duration": 19029,
    "start_time": "2023-12-29T12:13:11.810Z"
   },
   {
    "duration": 4,
    "start_time": "2023-12-29T12:13:30.840Z"
   },
   {
    "duration": 40,
    "start_time": "2023-12-29T12:13:30.846Z"
   },
   {
    "duration": 3085,
    "start_time": "2023-12-29T12:13:30.888Z"
   },
   {
    "duration": 6,
    "start_time": "2023-12-29T12:13:33.975Z"
   },
   {
    "duration": 25,
    "start_time": "2023-12-29T12:13:33.983Z"
   },
   {
    "duration": 7,
    "start_time": "2023-12-29T12:13:34.009Z"
   },
   {
    "duration": 4,
    "start_time": "2023-12-29T12:13:34.017Z"
   },
   {
    "duration": 6,
    "start_time": "2023-12-29T12:13:34.022Z"
   },
   {
    "duration": 10305,
    "start_time": "2023-12-29T12:13:34.043Z"
   },
   {
    "duration": 4,
    "start_time": "2023-12-29T12:13:44.349Z"
   },
   {
    "duration": 23,
    "start_time": "2023-12-29T12:13:44.354Z"
   },
   {
    "duration": 742,
    "start_time": "2023-12-29T12:13:44.379Z"
   },
   {
    "duration": 6,
    "start_time": "2023-12-29T12:13:45.123Z"
   },
   {
    "duration": 58,
    "start_time": "2023-12-29T12:13:45.130Z"
   },
   {
    "duration": 28,
    "start_time": "2023-12-29T12:13:45.190Z"
   },
   {
    "duration": 183,
    "start_time": "2023-12-29T12:13:45.220Z"
   },
   {
    "duration": 187,
    "start_time": "2023-12-29T12:13:45.405Z"
   },
   {
    "duration": 230,
    "start_time": "2023-12-29T12:13:45.594Z"
   },
   {
    "duration": 3,
    "start_time": "2023-12-29T12:13:45.825Z"
   },
   {
    "duration": 1794237,
    "start_time": "2023-12-29T12:13:45.833Z"
   },
   {
    "duration": 5,
    "start_time": "2023-12-29T12:43:40.072Z"
   },
   {
    "duration": 24,
    "start_time": "2023-12-29T12:43:40.078Z"
   },
   {
    "duration": 448081,
    "start_time": "2023-12-29T12:43:40.105Z"
   },
   {
    "duration": 1067,
    "start_time": "2023-12-29T12:51:08.188Z"
   },
   {
    "duration": 472,
    "start_time": "2023-12-29T12:51:09.257Z"
   },
   {
    "duration": 22,
    "start_time": "2023-12-29T12:51:09.731Z"
   },
   {
    "duration": 13,
    "start_time": "2023-12-29T12:51:09.755Z"
   },
   {
    "duration": 31,
    "start_time": "2023-12-29T12:51:09.770Z"
   },
   {
    "duration": 27,
    "start_time": "2023-12-29T12:51:09.803Z"
   },
   {
    "duration": 39211,
    "start_time": "2023-12-29T12:51:09.832Z"
   },
   {
    "duration": 7,
    "start_time": "2023-12-29T12:51:49.045Z"
   },
   {
    "duration": 88,
    "start_time": "2023-12-29T12:51:49.054Z"
   },
   {
    "duration": 10571,
    "start_time": "2023-12-29T16:12:09.412Z"
   },
   {
    "duration": 1964,
    "start_time": "2023-12-29T16:12:19.986Z"
   },
   {
    "duration": 2273,
    "start_time": "2023-12-29T16:12:21.952Z"
   },
   {
    "duration": 29,
    "start_time": "2023-12-29T16:12:24.227Z"
   },
   {
    "duration": 6,
    "start_time": "2023-12-29T16:12:24.258Z"
   },
   {
    "duration": 104,
    "start_time": "2023-12-29T16:12:24.266Z"
   },
   {
    "duration": 12,
    "start_time": "2023-12-29T16:12:24.372Z"
   },
   {
    "duration": 459,
    "start_time": "2023-12-29T16:12:24.386Z"
   },
   {
    "duration": 6,
    "start_time": "2023-12-29T16:12:24.847Z"
   },
   {
    "duration": 287,
    "start_time": "2023-12-29T16:12:24.854Z"
   },
   {
    "duration": 3,
    "start_time": "2023-12-29T16:12:25.143Z"
   },
   {
    "duration": 8,
    "start_time": "2023-12-29T16:12:25.147Z"
   },
   {
    "duration": 3429,
    "start_time": "2023-12-29T16:12:25.157Z"
   },
   {
    "duration": 7,
    "start_time": "2023-12-29T16:12:28.589Z"
   },
   {
    "duration": 13,
    "start_time": "2023-12-29T16:12:28.598Z"
   },
   {
    "duration": 88,
    "start_time": "2023-12-29T16:12:28.612Z"
   },
   {
    "duration": 4,
    "start_time": "2023-12-29T16:12:28.702Z"
   },
   {
    "duration": 12,
    "start_time": "2023-12-29T16:12:28.707Z"
   },
   {
    "duration": 6332,
    "start_time": "2023-12-29T16:12:28.720Z"
   },
   {
    "duration": 4,
    "start_time": "2023-12-29T16:12:35.053Z"
   },
   {
    "duration": 11,
    "start_time": "2023-12-29T16:12:35.058Z"
   },
   {
    "duration": 5,
    "start_time": "2023-12-29T16:12:35.071Z"
   },
   {
    "duration": 38,
    "start_time": "2023-12-29T16:12:35.078Z"
   },
   {
    "duration": 4,
    "start_time": "2023-12-29T16:12:35.117Z"
   },
   {
    "duration": 7,
    "start_time": "2023-12-29T16:12:35.122Z"
   },
   {
    "duration": 4,
    "start_time": "2023-12-29T16:12:35.131Z"
   },
   {
    "duration": 5,
    "start_time": "2023-12-29T16:12:35.137Z"
   },
   {
    "duration": 5,
    "start_time": "2023-12-29T16:12:35.143Z"
   },
   {
    "duration": 180770,
    "start_time": "2023-12-29T16:12:35.149Z"
   },
   {
    "duration": 85,
    "start_time": "2023-12-29T18:30:37.750Z"
   },
   {
    "duration": 3440,
    "start_time": "2023-12-29T18:30:43.161Z"
   },
   {
    "duration": 6,
    "start_time": "2023-12-29T18:30:51.485Z"
   },
   {
    "duration": 2673,
    "start_time": "2023-12-29T18:31:23.882Z"
   },
   {
    "duration": 4,
    "start_time": "2023-12-29T18:31:33.133Z"
   },
   {
    "duration": 3471,
    "start_time": "2023-12-29T18:32:14.902Z"
   },
   {
    "duration": 12,
    "start_time": "2023-12-29T18:32:24.429Z"
   },
   {
    "duration": 479,
    "start_time": "2023-12-29T18:36:28.018Z"
   },
   {
    "duration": 10907,
    "start_time": "2023-12-29T18:36:57.939Z"
   },
   {
    "duration": 93,
    "start_time": "2023-12-29T18:37:08.849Z"
   },
   {
    "duration": 15110,
    "start_time": "2023-12-29T18:39:27.948Z"
   },
   {
    "duration": 86,
    "start_time": "2023-12-29T18:39:52.822Z"
   },
   {
    "duration": 82,
    "start_time": "2023-12-29T19:16:51.729Z"
   },
   {
    "duration": 93,
    "start_time": "2023-12-29T19:16:59.957Z"
   },
   {
    "duration": 76,
    "start_time": "2023-12-29T19:17:22.582Z"
   },
   {
    "duration": 6841,
    "start_time": "2023-12-29T19:17:40.997Z"
   },
   {
    "duration": 6607,
    "start_time": "2023-12-29T19:17:55.101Z"
   },
   {
    "duration": 3430,
    "start_time": "2023-12-29T19:18:27.557Z"
   },
   {
    "duration": 10,
    "start_time": "2023-12-29T19:18:36.084Z"
   },
   {
    "duration": 6870,
    "start_time": "2023-12-29T19:19:22.123Z"
   },
   {
    "duration": 3396,
    "start_time": "2023-12-29T19:19:29.027Z"
   },
   {
    "duration": 8,
    "start_time": "2023-12-29T19:19:41.381Z"
   },
   {
    "duration": 6263,
    "start_time": "2023-12-29T19:20:16.553Z"
   },
   {
    "duration": 3,
    "start_time": "2023-12-29T19:20:31.180Z"
   },
   {
    "duration": 3425,
    "start_time": "2023-12-29T19:20:40.220Z"
   },
   {
    "duration": 9,
    "start_time": "2023-12-29T19:20:50.421Z"
   },
   {
    "duration": 418,
    "start_time": "2023-12-29T19:22:10.997Z"
   },
   {
    "duration": 3415,
    "start_time": "2023-12-29T19:22:14.580Z"
   },
   {
    "duration": 8,
    "start_time": "2023-12-29T19:22:24.736Z"
   },
   {
    "duration": 420,
    "start_time": "2023-12-29T19:22:46.261Z"
   },
   {
    "duration": 2,
    "start_time": "2023-12-29T19:22:47.397Z"
   },
   {
    "duration": 3397,
    "start_time": "2023-12-29T19:22:48.054Z"
   },
   {
    "duration": 8,
    "start_time": "2023-12-29T19:23:03.255Z"
   },
   {
    "duration": 4,
    "start_time": "2023-12-29T19:23:27.949Z"
   },
   {
    "duration": 4,
    "start_time": "2023-12-29T19:23:28.392Z"
   },
   {
    "duration": 3358,
    "start_time": "2023-12-29T19:23:29.043Z"
   },
   {
    "duration": 3424,
    "start_time": "2023-12-29T19:23:38.311Z"
   },
   {
    "duration": 9,
    "start_time": "2023-12-29T19:23:42.686Z"
   },
   {
    "duration": 3,
    "start_time": "2023-12-29T19:25:00.988Z"
   },
   {
    "duration": 3590,
    "start_time": "2023-12-29T19:25:04.001Z"
   },
   {
    "duration": 8,
    "start_time": "2023-12-29T19:25:15.327Z"
   },
   {
    "duration": 3,
    "start_time": "2023-12-29T19:26:34.495Z"
   },
   {
    "duration": 726,
    "start_time": "2023-12-29T19:26:35.250Z"
   },
   {
    "duration": 12818,
    "start_time": "2023-12-29T19:51:24.983Z"
   },
   {
    "duration": 1465,
    "start_time": "2023-12-29T19:51:37.803Z"
   },
   {
    "duration": 894,
    "start_time": "2023-12-29T19:51:39.269Z"
   },
   {
    "duration": 26,
    "start_time": "2023-12-29T19:51:40.165Z"
   },
   {
    "duration": 7,
    "start_time": "2023-12-29T19:51:45.689Z"
   },
   {
    "duration": 68,
    "start_time": "2023-12-29T19:51:46.284Z"
   },
   {
    "duration": 8,
    "start_time": "2023-12-29T19:51:51.905Z"
   },
   {
    "duration": 12651,
    "start_time": "2023-12-29T19:52:48.302Z"
   },
   {
    "duration": 1385,
    "start_time": "2023-12-29T19:53:00.956Z"
   },
   {
    "duration": 919,
    "start_time": "2023-12-29T19:53:02.343Z"
   },
   {
    "duration": 31,
    "start_time": "2023-12-29T19:53:03.263Z"
   },
   {
    "duration": 19,
    "start_time": "2023-12-29T19:53:03.296Z"
   },
   {
    "duration": 70,
    "start_time": "2023-12-29T19:53:03.317Z"
   },
   {
    "duration": 12,
    "start_time": "2023-12-29T19:53:03.389Z"
   },
   {
    "duration": 463,
    "start_time": "2023-12-29T19:53:03.403Z"
   },
   {
    "duration": 6,
    "start_time": "2023-12-29T19:53:03.868Z"
   },
   {
    "duration": 298,
    "start_time": "2023-12-29T19:53:03.876Z"
   },
   {
    "duration": 2,
    "start_time": "2023-12-29T19:53:04.176Z"
   },
   {
    "duration": 10,
    "start_time": "2023-12-29T19:53:04.180Z"
   },
   {
    "duration": 123,
    "start_time": "2023-12-29T19:53:04.191Z"
   },
   {
    "duration": 0,
    "start_time": "2023-12-29T19:53:04.316Z"
   },
   {
    "duration": 12753,
    "start_time": "2023-12-29T19:56:20.518Z"
   },
   {
    "duration": 2368,
    "start_time": "2023-12-29T19:56:33.274Z"
   },
   {
    "duration": 892,
    "start_time": "2023-12-29T19:56:35.643Z"
   },
   {
    "duration": 28,
    "start_time": "2023-12-29T19:56:36.537Z"
   },
   {
    "duration": 7,
    "start_time": "2023-12-29T19:56:36.566Z"
   },
   {
    "duration": 87,
    "start_time": "2023-12-29T19:56:36.574Z"
   },
   {
    "duration": 14,
    "start_time": "2023-12-29T19:56:36.663Z"
   },
   {
    "duration": 402,
    "start_time": "2023-12-29T19:56:36.678Z"
   },
   {
    "duration": 8,
    "start_time": "2023-12-29T19:56:37.082Z"
   },
   {
    "duration": 308,
    "start_time": "2023-12-29T19:56:37.092Z"
   },
   {
    "duration": 2,
    "start_time": "2023-12-29T19:56:37.402Z"
   },
   {
    "duration": 12,
    "start_time": "2023-12-29T19:56:37.406Z"
   },
   {
    "duration": 679,
    "start_time": "2023-12-29T19:56:37.419Z"
   },
   {
    "duration": 2212013,
    "start_time": "2023-12-29T19:56:38.100Z"
   },
   {
    "duration": 10,
    "start_time": "2023-12-29T20:33:30.116Z"
   },
   {
    "duration": 479,
    "start_time": "2023-12-29T20:42:15.206Z"
   },
   {
    "duration": 3583,
    "start_time": "2023-12-29T20:42:42.009Z"
   },
   {
    "duration": 1320,
    "start_time": "2023-12-29T20:42:55.323Z"
   },
   {
    "duration": 15,
    "start_time": "2023-12-29T20:43:20.418Z"
   },
   {
    "duration": 88,
    "start_time": "2023-12-29T20:43:42.255Z"
   },
   {
    "duration": 7,
    "start_time": "2023-12-29T20:43:46.231Z"
   },
   {
    "duration": 12656,
    "start_time": "2023-12-29T20:44:20.503Z"
   },
   {
    "duration": 2380,
    "start_time": "2023-12-29T20:44:33.162Z"
   },
   {
    "duration": 890,
    "start_time": "2023-12-29T20:44:35.544Z"
   },
   {
    "duration": 31,
    "start_time": "2023-12-29T20:44:36.436Z"
   },
   {
    "duration": 7,
    "start_time": "2023-12-29T20:44:36.468Z"
   },
   {
    "duration": 91,
    "start_time": "2023-12-29T20:44:36.477Z"
   },
   {
    "duration": 8,
    "start_time": "2023-12-29T20:44:36.573Z"
   },
   {
    "duration": 397,
    "start_time": "2023-12-29T20:44:36.583Z"
   },
   {
    "duration": 7,
    "start_time": "2023-12-29T20:44:36.981Z"
   },
   {
    "duration": 303,
    "start_time": "2023-12-29T20:44:36.990Z"
   },
   {
    "duration": 2,
    "start_time": "2023-12-29T20:44:37.295Z"
   },
   {
    "duration": 7,
    "start_time": "2023-12-29T20:44:37.298Z"
   },
   {
    "duration": 668,
    "start_time": "2023-12-29T20:44:37.315Z"
   },
   {
    "duration": 3370,
    "start_time": "2023-12-29T20:44:37.984Z"
   },
   {
    "duration": 12738,
    "start_time": "2023-12-29T20:45:05.070Z"
   },
   {
    "duration": 2446,
    "start_time": "2023-12-29T20:45:17.811Z"
   },
   {
    "duration": 832,
    "start_time": "2023-12-29T20:45:20.258Z"
   },
   {
    "duration": 30,
    "start_time": "2023-12-29T20:45:21.092Z"
   },
   {
    "duration": 6,
    "start_time": "2023-12-29T20:45:21.124Z"
   },
   {
    "duration": 83,
    "start_time": "2023-12-29T20:45:21.131Z"
   },
   {
    "duration": 7,
    "start_time": "2023-12-29T20:45:21.216Z"
   },
   {
    "duration": 402,
    "start_time": "2023-12-29T20:45:21.224Z"
   },
   {
    "duration": 8,
    "start_time": "2023-12-29T20:45:21.628Z"
   },
   {
    "duration": 311,
    "start_time": "2023-12-29T20:45:21.638Z"
   },
   {
    "duration": 2,
    "start_time": "2023-12-29T20:45:21.951Z"
   },
   {
    "duration": 12,
    "start_time": "2023-12-29T20:45:21.955Z"
   },
   {
    "duration": 579,
    "start_time": "2023-12-29T20:45:21.968Z"
   },
   {
    "duration": 2271291,
    "start_time": "2023-12-29T20:45:22.550Z"
   },
   {
    "duration": 10,
    "start_time": "2023-12-29T21:23:13.844Z"
   },
   {
    "duration": 3,
    "start_time": "2023-12-29T21:26:17.247Z"
   },
   {
    "duration": 118,
    "start_time": "2023-12-29T21:26:18.146Z"
   },
   {
    "duration": 5,
    "start_time": "2023-12-29T21:26:20.324Z"
   },
   {
    "duration": 2,
    "start_time": "2023-12-29T21:26:32.103Z"
   },
   {
    "duration": 6897,
    "start_time": "2023-12-29T21:26:36.779Z"
   },
   {
    "duration": 3,
    "start_time": "2023-12-29T21:26:43.678Z"
   },
   {
    "duration": 3,
    "start_time": "2023-12-29T21:27:19.247Z"
   },
   {
    "duration": 4,
    "start_time": "2023-12-29T21:27:20.760Z"
   },
   {
    "duration": 33,
    "start_time": "2023-12-29T21:27:28.074Z"
   },
   {
    "duration": 4,
    "start_time": "2023-12-29T21:27:29.930Z"
   },
   {
    "duration": 7,
    "start_time": "2023-12-29T21:27:33.341Z"
   },
   {
    "duration": 5,
    "start_time": "2023-12-29T21:27:37.038Z"
   },
   {
    "duration": 5,
    "start_time": "2023-12-29T21:27:38.654Z"
   },
   {
    "duration": 3,
    "start_time": "2023-12-29T21:27:40.968Z"
   },
   {
    "duration": 180852,
    "start_time": "2023-12-29T21:27:44.075Z"
   },
   {
    "duration": 34896,
    "start_time": "2023-12-29T21:30:44.931Z"
   },
   {
    "duration": 1254,
    "start_time": "2023-12-29T21:31:19.829Z"
   },
   {
    "duration": 6,
    "start_time": "2023-12-29T21:31:21.085Z"
   },
   {
    "duration": 28,
    "start_time": "2023-12-29T21:31:21.092Z"
   },
   {
    "duration": 7,
    "start_time": "2023-12-29T21:31:55.052Z"
   },
   {
    "duration": 15,
    "start_time": "2023-12-29T21:31:56.889Z"
   },
   {
    "duration": 19254,
    "start_time": "2023-12-29T21:38:07.910Z"
   },
   {
    "duration": 2511,
    "start_time": "2023-12-29T21:38:27.166Z"
   },
   {
    "duration": 890,
    "start_time": "2023-12-29T21:38:29.679Z"
   },
   {
    "duration": 33,
    "start_time": "2023-12-29T21:38:30.570Z"
   },
   {
    "duration": 32,
    "start_time": "2023-12-29T21:38:30.605Z"
   },
   {
    "duration": 100,
    "start_time": "2023-12-29T21:38:30.639Z"
   },
   {
    "duration": 37,
    "start_time": "2023-12-29T21:38:30.741Z"
   },
   {
    "duration": 401,
    "start_time": "2023-12-29T21:38:30.780Z"
   },
   {
    "duration": 6,
    "start_time": "2023-12-29T21:38:31.183Z"
   },
   {
    "duration": 293,
    "start_time": "2023-12-29T21:38:31.214Z"
   },
   {
    "duration": 6,
    "start_time": "2023-12-29T21:38:31.508Z"
   },
   {
    "duration": 31,
    "start_time": "2023-12-29T21:38:31.516Z"
   },
   {
    "duration": 629,
    "start_time": "2023-12-29T21:38:31.549Z"
   },
   {
    "duration": 19113,
    "start_time": "2023-12-30T07:18:26.939Z"
   },
   {
    "duration": 2532,
    "start_time": "2023-12-30T07:18:46.054Z"
   },
   {
    "duration": 862,
    "start_time": "2023-12-30T07:18:48.587Z"
   },
   {
    "duration": 26,
    "start_time": "2023-12-30T07:18:49.451Z"
   },
   {
    "duration": 6,
    "start_time": "2023-12-30T07:18:49.479Z"
   },
   {
    "duration": 85,
    "start_time": "2023-12-30T07:18:49.486Z"
   },
   {
    "duration": 6,
    "start_time": "2023-12-30T07:18:49.573Z"
   },
   {
    "duration": 386,
    "start_time": "2023-12-30T07:18:49.581Z"
   },
   {
    "duration": 7,
    "start_time": "2023-12-30T07:18:49.968Z"
   },
   {
    "duration": 293,
    "start_time": "2023-12-30T07:18:49.976Z"
   },
   {
    "duration": 3,
    "start_time": "2023-12-30T07:18:50.271Z"
   },
   {
    "duration": 3,
    "start_time": "2023-12-30T07:18:50.275Z"
   },
   {
    "duration": 599,
    "start_time": "2023-12-30T07:18:50.279Z"
   },
   {
    "duration": 3435,
    "start_time": "2023-12-30T07:40:45.643Z"
   },
   {
    "duration": 212,
    "start_time": "2023-12-30T07:40:51.694Z"
   },
   {
    "duration": 5387,
    "start_time": "2023-12-30T07:40:53.712Z"
   },
   {
    "duration": 46,
    "start_time": "2023-12-30T07:41:07.127Z"
   },
   {
    "duration": 54,
    "start_time": "2023-12-30T07:43:45.048Z"
   },
   {
    "duration": 2208876,
    "start_time": "2023-12-30T07:43:50.986Z"
   },
   {
    "duration": 2,
    "start_time": "2023-12-30T08:20:39.863Z"
   },
   {
    "duration": 52,
    "start_time": "2023-12-30T08:20:39.867Z"
   },
   {
    "duration": 3,
    "start_time": "2023-12-30T08:20:39.921Z"
   },
   {
    "duration": 107,
    "start_time": "2023-12-30T08:20:39.926Z"
   },
   {
    "duration": 5,
    "start_time": "2023-12-30T08:20:40.035Z"
   },
   {
    "duration": 19,
    "start_time": "2023-12-30T08:20:40.042Z"
   },
   {
    "duration": 197,
    "start_time": "2023-12-30T08:20:40.063Z"
   },
   {
    "duration": 0,
    "start_time": "2023-12-30T08:20:40.262Z"
   },
   {
    "duration": 0,
    "start_time": "2023-12-30T08:20:40.263Z"
   },
   {
    "duration": 0,
    "start_time": "2023-12-30T08:20:40.264Z"
   },
   {
    "duration": 3,
    "start_time": "2023-12-30T08:54:32.567Z"
   },
   {
    "duration": 405,
    "start_time": "2023-12-30T08:54:33.552Z"
   },
   {
    "duration": 2,
    "start_time": "2023-12-30T08:55:02.221Z"
   },
   {
    "duration": 1031,
    "start_time": "2023-12-30T08:55:02.657Z"
   },
   {
    "duration": 9,
    "start_time": "2023-12-30T08:55:15.194Z"
   },
   {
    "duration": 3,
    "start_time": "2023-12-30T08:55:25.586Z"
   },
   {
    "duration": 111,
    "start_time": "2023-12-30T08:55:25.894Z"
   },
   {
    "duration": 4,
    "start_time": "2023-12-30T08:55:26.353Z"
   },
   {
    "duration": 3,
    "start_time": "2023-12-30T08:55:27.246Z"
   },
   {
    "duration": 6202,
    "start_time": "2023-12-30T08:55:29.439Z"
   },
   {
    "duration": 3,
    "start_time": "2023-12-30T08:55:36.745Z"
   },
   {
    "duration": 3,
    "start_time": "2023-12-30T08:55:37.242Z"
   },
   {
    "duration": 5,
    "start_time": "2023-12-30T08:55:38.116Z"
   },
   {
    "duration": 27,
    "start_time": "2023-12-30T08:55:39.776Z"
   },
   {
    "duration": 4,
    "start_time": "2023-12-30T08:55:40.086Z"
   },
   {
    "duration": 6,
    "start_time": "2023-12-30T08:55:40.228Z"
   },
   {
    "duration": 5,
    "start_time": "2023-12-30T08:55:45.460Z"
   },
   {
    "duration": 10,
    "start_time": "2023-12-30T08:55:46.851Z"
   },
   {
    "duration": 2,
    "start_time": "2023-12-30T08:55:48.806Z"
   },
   {
    "duration": 169515,
    "start_time": "2023-12-30T08:55:49.326Z"
   },
   {
    "duration": 39703,
    "start_time": "2023-12-30T08:58:38.914Z"
   },
   {
    "duration": 1160,
    "start_time": "2023-12-30T08:59:18.620Z"
   },
   {
    "duration": 7,
    "start_time": "2023-12-30T08:59:19.782Z"
   },
   {
    "duration": 23,
    "start_time": "2023-12-30T08:59:19.791Z"
   },
   {
    "duration": 18721,
    "start_time": "2023-12-30T09:19:47.955Z"
   },
   {
    "duration": 2471,
    "start_time": "2023-12-30T09:20:06.678Z"
   },
   {
    "duration": 854,
    "start_time": "2023-12-30T09:20:09.151Z"
   },
   {
    "duration": 36,
    "start_time": "2023-12-30T09:20:10.008Z"
   },
   {
    "duration": 7,
    "start_time": "2023-12-30T09:20:10.045Z"
   },
   {
    "duration": 81,
    "start_time": "2023-12-30T09:20:10.054Z"
   },
   {
    "duration": 7,
    "start_time": "2023-12-30T09:20:10.136Z"
   },
   {
    "duration": 420,
    "start_time": "2023-12-30T09:20:10.145Z"
   },
   {
    "duration": 6,
    "start_time": "2023-12-30T09:20:10.566Z"
   },
   {
    "duration": 296,
    "start_time": "2023-12-30T09:20:10.574Z"
   },
   {
    "duration": 3,
    "start_time": "2023-12-30T09:20:10.871Z"
   },
   {
    "duration": 490,
    "start_time": "2023-12-30T09:20:10.875Z"
   },
   {
    "duration": 2172326,
    "start_time": "2023-12-30T09:20:11.367Z"
   },
   {
    "duration": 8,
    "start_time": "2023-12-30T09:56:23.694Z"
   },
   {
    "duration": 11,
    "start_time": "2023-12-30T09:56:23.704Z"
   },
   {
    "duration": 83,
    "start_time": "2023-12-30T09:56:23.717Z"
   },
   {
    "duration": 13,
    "start_time": "2023-12-30T09:56:23.802Z"
   },
   {
    "duration": 2,
    "start_time": "2023-12-30T09:56:23.817Z"
   },
   {
    "duration": 6258,
    "start_time": "2023-12-30T09:56:23.821Z"
   },
   {
    "duration": 4,
    "start_time": "2023-12-30T09:56:30.080Z"
   },
   {
    "duration": 43,
    "start_time": "2023-12-30T09:56:30.086Z"
   },
   {
    "duration": 37,
    "start_time": "2023-12-30T09:56:30.131Z"
   },
   {
    "duration": 68,
    "start_time": "2023-12-30T09:56:30.169Z"
   },
   {
    "duration": 11,
    "start_time": "2023-12-30T09:56:30.238Z"
   },
   {
    "duration": 40,
    "start_time": "2023-12-30T09:56:30.251Z"
   },
   {
    "duration": 5,
    "start_time": "2023-12-30T13:05:54.335Z"
   },
   {
    "duration": 6,
    "start_time": "2023-12-30T13:10:17.240Z"
   },
   {
    "duration": 4,
    "start_time": "2023-12-30T13:15:06.504Z"
   },
   {
    "duration": 3,
    "start_time": "2023-12-30T13:15:14.632Z"
   },
   {
    "duration": 169461,
    "start_time": "2023-12-30T13:15:15.561Z"
   },
   {
    "duration": 39192,
    "start_time": "2023-12-30T13:18:44.325Z"
   },
   {
    "duration": 1365,
    "start_time": "2023-12-30T13:19:23.519Z"
   },
   {
    "duration": 174,
    "start_time": "2023-12-30T13:20:52.242Z"
   },
   {
    "duration": 1057,
    "start_time": "2023-12-30T13:21:13.904Z"
   },
   {
    "duration": 7,
    "start_time": "2023-12-30T13:21:23.595Z"
   },
   {
    "duration": 12,
    "start_time": "2023-12-30T13:27:12.325Z"
   },
   {
    "duration": 2,
    "start_time": "2023-12-30T13:27:19.289Z"
   },
   {
    "duration": 15124,
    "start_time": "2023-12-30T13:27:20.492Z"
   },
   {
    "duration": 99,
    "start_time": "2023-12-30T13:27:35.620Z"
   },
   {
    "duration": 0,
    "start_time": "2023-12-30T13:27:35.721Z"
   },
   {
    "duration": 4,
    "start_time": "2023-12-30T13:28:29.403Z"
   },
   {
    "duration": 1116,
    "start_time": "2023-12-30T13:28:57.111Z"
   },
   {
    "duration": 6,
    "start_time": "2023-12-30T13:29:29.906Z"
   },
   {
    "duration": 8,
    "start_time": "2023-12-30T13:29:36.798Z"
   },
   {
    "duration": 3,
    "start_time": "2023-12-30T13:30:06.728Z"
   },
   {
    "duration": 3,
    "start_time": "2023-12-30T13:30:27.430Z"
   },
   {
    "duration": 2863071,
    "start_time": "2023-12-30T13:30:30.420Z"
   },
   {
    "duration": 4,
    "start_time": "2023-12-30T14:18:13.493Z"
   },
   {
    "duration": 30,
    "start_time": "2023-12-30T14:18:13.498Z"
   },
   {
    "duration": 0,
    "start_time": "2023-12-30T14:18:13.530Z"
   },
   {
    "duration": 0,
    "start_time": "2023-12-30T14:18:13.532Z"
   },
   {
    "duration": 0,
    "start_time": "2023-12-30T14:18:13.532Z"
   },
   {
    "duration": 0,
    "start_time": "2023-12-30T14:18:13.533Z"
   },
   {
    "duration": 0,
    "start_time": "2023-12-30T14:18:13.534Z"
   },
   {
    "duration": 1,
    "start_time": "2023-12-30T14:18:13.535Z"
   },
   {
    "duration": 0,
    "start_time": "2023-12-30T14:18:13.537Z"
   },
   {
    "duration": 0,
    "start_time": "2023-12-30T14:18:13.538Z"
   },
   {
    "duration": 0,
    "start_time": "2023-12-30T14:18:13.539Z"
   },
   {
    "duration": 0,
    "start_time": "2023-12-30T14:18:13.540Z"
   },
   {
    "duration": 0,
    "start_time": "2023-12-30T14:18:13.541Z"
   },
   {
    "duration": 0,
    "start_time": "2023-12-30T14:18:13.542Z"
   },
   {
    "duration": 0,
    "start_time": "2023-12-30T14:18:13.544Z"
   },
   {
    "duration": 0,
    "start_time": "2023-12-30T14:18:13.544Z"
   },
   {
    "duration": 0,
    "start_time": "2023-12-30T14:18:13.545Z"
   },
   {
    "duration": 0,
    "start_time": "2023-12-30T14:18:13.546Z"
   },
   {
    "duration": 0,
    "start_time": "2023-12-30T14:18:13.548Z"
   },
   {
    "duration": 0,
    "start_time": "2023-12-30T14:18:13.549Z"
   },
   {
    "duration": 0,
    "start_time": "2023-12-30T14:18:13.550Z"
   },
   {
    "duration": 0,
    "start_time": "2023-12-30T14:18:13.550Z"
   },
   {
    "duration": 0,
    "start_time": "2023-12-30T14:18:13.551Z"
   },
   {
    "duration": 0,
    "start_time": "2023-12-30T14:18:13.552Z"
   },
   {
    "duration": 0,
    "start_time": "2023-12-30T14:18:13.553Z"
   },
   {
    "duration": 3,
    "start_time": "2023-12-30T14:18:42.139Z"
   },
   {
    "duration": 4,
    "start_time": "2023-12-30T14:18:51.572Z"
   },
   {
    "duration": 1224,
    "start_time": "2023-12-30T14:19:05.765Z"
   },
   {
    "duration": 8,
    "start_time": "2023-12-30T14:19:42.348Z"
   },
   {
    "duration": 3,
    "start_time": "2023-12-30T14:19:48.466Z"
   },
   {
    "duration": 3,
    "start_time": "2023-12-30T14:19:51.770Z"
   },
   {
    "duration": 381691,
    "start_time": "2023-12-30T14:19:57.664Z"
   },
   {
    "duration": 4,
    "start_time": "2023-12-30T14:26:19.357Z"
   },
   {
    "duration": 6,
    "start_time": "2023-12-30T14:26:19.363Z"
   },
   {
    "duration": 202856,
    "start_time": "2023-12-30T14:26:19.371Z"
   },
   {
    "duration": 1596,
    "start_time": "2023-12-30T14:34:40.570Z"
   },
   {
    "duration": 7,
    "start_time": "2023-12-30T14:36:55.970Z"
   },
   {
    "duration": 9,
    "start_time": "2023-12-30T14:37:03.220Z"
   },
   {
    "duration": 2,
    "start_time": "2023-12-30T14:37:25.837Z"
   },
   {
    "duration": 2,
    "start_time": "2023-12-30T14:37:27.253Z"
   },
   {
    "duration": 5,
    "start_time": "2023-12-30T14:37:42.476Z"
   },
   {
    "duration": 4,
    "start_time": "2023-12-30T14:38:31.643Z"
   },
   {
    "duration": 18658,
    "start_time": "2023-12-30T14:38:34.813Z"
   },
   {
    "duration": 18947,
    "start_time": "2023-12-30T14:39:02.588Z"
   },
   {
    "duration": 4,
    "start_time": "2023-12-30T14:39:21.537Z"
   },
   {
    "duration": 3,
    "start_time": "2023-12-30T14:39:43.595Z"
   },
   {
    "duration": 1074,
    "start_time": "2023-12-30T14:39:45.070Z"
   },
   {
    "duration": 81,
    "start_time": "2023-12-30T14:40:43.055Z"
   },
   {
    "duration": 90,
    "start_time": "2023-12-30T14:40:59.661Z"
   },
   {
    "duration": 18162,
    "start_time": "2023-12-30T14:41:47.426Z"
   },
   {
    "duration": 4,
    "start_time": "2023-12-30T14:42:05.590Z"
   },
   {
    "duration": 2,
    "start_time": "2023-12-30T14:42:25.867Z"
   },
   {
    "duration": 1113,
    "start_time": "2023-12-30T14:42:27.484Z"
   },
   {
    "duration": 3,
    "start_time": "2023-12-30T14:50:21.621Z"
   },
   {
    "duration": 1599,
    "start_time": "2023-12-30T14:50:26.046Z"
   },
   {
    "duration": 1051,
    "start_time": "2023-12-30T14:50:38.314Z"
   },
   {
    "duration": 6,
    "start_time": "2023-12-30T14:51:16.018Z"
   },
   {
    "duration": 3,
    "start_time": "2023-12-30T14:51:48.345Z"
   },
   {
    "duration": 2,
    "start_time": "2023-12-30T14:51:49.088Z"
   },
   {
    "duration": 10026,
    "start_time": "2023-12-30T14:51:52.624Z"
   },
   {
    "duration": 3,
    "start_time": "2023-12-30T14:52:11.385Z"
   },
   {
    "duration": 2047,
    "start_time": "2023-12-30T14:52:13.172Z"
   },
   {
    "duration": 17,
    "start_time": "2023-12-30T14:52:45.349Z"
   },
   {
    "duration": 5,
    "start_time": "2023-12-30T14:53:16.266Z"
   },
   {
    "duration": 3,
    "start_time": "2023-12-30T14:54:26.775Z"
   },
   {
    "duration": 2,
    "start_time": "2023-12-30T14:54:27.402Z"
   },
   {
    "duration": 18829,
    "start_time": "2023-12-30T14:54:28.120Z"
   },
   {
    "duration": 4,
    "start_time": "2023-12-30T14:55:20.521Z"
   },
   {
    "duration": 2,
    "start_time": "2023-12-30T14:55:27.834Z"
   },
   {
    "duration": 1087,
    "start_time": "2023-12-30T14:55:29.325Z"
   },
   {
    "duration": 7,
    "start_time": "2023-12-30T14:55:42.949Z"
   },
   {
    "duration": 3,
    "start_time": "2023-12-30T14:55:51.520Z"
   },
   {
    "duration": 2,
    "start_time": "2023-12-30T14:55:53.067Z"
   },
   {
    "duration": 9947,
    "start_time": "2023-12-30T14:55:54.452Z"
   },
   {
    "duration": 2,
    "start_time": "2023-12-30T14:56:22.324Z"
   },
   {
    "duration": 6712,
    "start_time": "2023-12-30T14:56:24.730Z"
   },
   {
    "duration": 3,
    "start_time": "2023-12-30T14:56:38.321Z"
   },
   {
    "duration": 1812,
    "start_time": "2023-12-30T14:56:43.053Z"
   },
   {
    "duration": 1135,
    "start_time": "2023-12-30T14:57:02.130Z"
   },
   {
    "duration": 7,
    "start_time": "2023-12-30T14:57:27.415Z"
   },
   {
    "duration": 160,
    "start_time": "2023-12-30T14:57:54.664Z"
   },
   {
    "duration": 385,
    "start_time": "2023-12-30T14:59:10.639Z"
   },
   {
    "duration": 153,
    "start_time": "2023-12-30T14:59:12.568Z"
   },
   {
    "duration": 154,
    "start_time": "2023-12-30T14:59:14.620Z"
   },
   {
    "duration": 2,
    "start_time": "2023-12-30T15:00:29.923Z"
   },
   {
    "duration": 47,
    "start_time": "2023-12-30T15:00:32.499Z"
   },
   {
    "duration": 1928986,
    "start_time": "2023-12-30T15:00:42.779Z"
   },
   {
    "duration": 18800,
    "start_time": "2023-12-30T15:45:24.162Z"
   },
   {
    "duration": 2382,
    "start_time": "2023-12-30T15:45:42.964Z"
   },
   {
    "duration": 841,
    "start_time": "2023-12-30T15:45:45.347Z"
   },
   {
    "duration": 28,
    "start_time": "2023-12-30T15:45:46.190Z"
   },
   {
    "duration": 7,
    "start_time": "2023-12-30T15:45:46.220Z"
   },
   {
    "duration": 68,
    "start_time": "2023-12-30T15:45:46.228Z"
   },
   {
    "duration": 7,
    "start_time": "2023-12-30T15:45:46.315Z"
   },
   {
    "duration": 421,
    "start_time": "2023-12-30T15:45:46.324Z"
   },
   {
    "duration": 7,
    "start_time": "2023-12-30T15:45:46.746Z"
   },
   {
    "duration": 296,
    "start_time": "2023-12-30T15:45:46.755Z"
   },
   {
    "duration": 3,
    "start_time": "2023-12-30T15:45:47.053Z"
   },
   {
    "duration": 522,
    "start_time": "2023-12-30T15:45:47.057Z"
   },
   {
    "duration": 2230840,
    "start_time": "2023-12-30T15:45:47.580Z"
   },
   {
    "duration": 7,
    "start_time": "2023-12-30T16:22:58.424Z"
   },
   {
    "duration": 14,
    "start_time": "2023-12-30T16:22:58.432Z"
   },
   {
    "duration": 92,
    "start_time": "2023-12-30T16:22:58.447Z"
   },
   {
    "duration": 4,
    "start_time": "2023-12-30T16:22:58.540Z"
   },
   {
    "duration": 6,
    "start_time": "2023-12-30T16:22:58.546Z"
   },
   {
    "duration": 6149,
    "start_time": "2023-12-30T16:22:58.553Z"
   },
   {
    "duration": 9,
    "start_time": "2023-12-30T16:23:04.706Z"
   },
   {
    "duration": 3,
    "start_time": "2023-12-30T16:23:04.717Z"
   },
   {
    "duration": 5,
    "start_time": "2023-12-30T16:23:04.722Z"
   },
   {
    "duration": 29,
    "start_time": "2023-12-30T16:23:04.728Z"
   },
   {
    "duration": 3,
    "start_time": "2023-12-30T16:23:04.759Z"
   },
   {
    "duration": 6,
    "start_time": "2023-12-30T16:23:04.763Z"
   },
   {
    "duration": 29,
    "start_time": "2023-12-30T16:23:04.770Z"
   },
   {
    "duration": 29,
    "start_time": "2023-12-30T16:23:04.800Z"
   },
   {
    "duration": 42,
    "start_time": "2023-12-30T16:23:04.830Z"
   },
   {
    "duration": 172147,
    "start_time": "2023-12-30T16:23:04.873Z"
   },
   {
    "duration": 39508,
    "start_time": "2023-12-30T16:25:57.021Z"
   },
   {
    "duration": 1200,
    "start_time": "2023-12-30T16:26:36.531Z"
   },
   {
    "duration": 184,
    "start_time": "2023-12-30T16:26:37.733Z"
   },
   {
    "duration": 5,
    "start_time": "2023-12-30T17:00:04.702Z"
   },
   {
    "duration": 5,
    "start_time": "2023-12-30T17:00:17.174Z"
   },
   {
    "duration": 2,
    "start_time": "2023-12-30T17:00:23.051Z"
   },
   {
    "duration": 37541,
    "start_time": "2023-12-30T17:01:05.288Z"
   },
   {
    "duration": 1064,
    "start_time": "2023-12-30T17:01:42.916Z"
   },
   {
    "duration": 170443,
    "start_time": "2023-12-30T17:01:43.981Z"
   },
   {
    "duration": 6,
    "start_time": "2023-12-30T17:04:52.519Z"
   },
   {
    "duration": 7,
    "start_time": "2023-12-30T17:04:59.849Z"
   },
   {
    "duration": 2,
    "start_time": "2023-12-30T17:05:33.334Z"
   },
   {
    "duration": 16027,
    "start_time": "2023-12-30T17:05:34.588Z"
   },
   {
    "duration": 1100,
    "start_time": "2023-12-30T17:06:19.493Z"
   },
   {
    "duration": 7,
    "start_time": "2023-12-30T17:06:36.701Z"
   },
   {
    "duration": 8,
    "start_time": "2023-12-30T17:06:52.955Z"
   },
   {
    "duration": 3,
    "start_time": "2023-12-30T17:07:08.093Z"
   },
   {
    "duration": 3,
    "start_time": "2023-12-30T17:07:08.775Z"
   },
   {
    "duration": 2841534,
    "start_time": "2023-12-30T17:07:10.077Z"
   },
   {
    "duration": 4,
    "start_time": "2023-12-30T17:54:31.612Z"
   },
   {
    "duration": 31,
    "start_time": "2023-12-30T17:54:31.618Z"
   },
   {
    "duration": 1279,
    "start_time": "2023-12-30T17:54:31.651Z"
   },
   {
    "duration": 6,
    "start_time": "2023-12-30T17:54:32.932Z"
   },
   {
    "duration": 12,
    "start_time": "2023-12-30T17:54:32.939Z"
   },
   {
    "duration": 3,
    "start_time": "2023-12-30T17:54:32.953Z"
   },
   {
    "duration": 377660,
    "start_time": "2023-12-30T17:54:32.957Z"
   },
   {
    "duration": 3,
    "start_time": "2023-12-30T18:00:50.619Z"
   },
   {
    "duration": 1588,
    "start_time": "2023-12-30T18:00:50.624Z"
   },
   {
    "duration": 7,
    "start_time": "2023-12-30T18:00:52.214Z"
   },
   {
    "duration": 5,
    "start_time": "2023-12-30T18:00:52.222Z"
   },
   {
    "duration": 6,
    "start_time": "2023-12-30T18:00:52.228Z"
   },
   {
    "duration": 18848,
    "start_time": "2023-12-30T18:00:52.236Z"
   },
   {
    "duration": 4,
    "start_time": "2023-12-30T18:01:11.085Z"
   },
   {
    "duration": 5,
    "start_time": "2023-12-30T18:01:11.090Z"
   },
   {
    "duration": 1107,
    "start_time": "2023-12-30T18:01:11.096Z"
   },
   {
    "duration": 6,
    "start_time": "2023-12-30T18:01:12.204Z"
   },
   {
    "duration": 8,
    "start_time": "2023-12-30T18:01:12.211Z"
   },
   {
    "duration": 4,
    "start_time": "2023-12-30T18:01:12.220Z"
   },
   {
    "duration": 6731,
    "start_time": "2023-12-30T18:01:12.225Z"
   },
   {
    "duration": 3,
    "start_time": "2023-12-30T18:01:18.957Z"
   },
   {
    "duration": 1137,
    "start_time": "2023-12-30T18:01:18.961Z"
   },
   {
    "duration": 6,
    "start_time": "2023-12-30T18:01:20.100Z"
   },
   {
    "duration": 159,
    "start_time": "2023-12-30T18:01:20.108Z"
   },
   {
    "duration": 158,
    "start_time": "2023-12-30T18:01:20.269Z"
   },
   {
    "duration": 161,
    "start_time": "2023-12-30T18:01:20.428Z"
   },
   {
    "duration": 3,
    "start_time": "2023-12-30T18:01:20.592Z"
   },
   {
    "duration": 1931514,
    "start_time": "2023-12-30T18:01:20.597Z"
   },
   {
    "duration": 2,
    "start_time": "2023-12-30T18:33:32.113Z"
   },
   {
    "duration": 370522,
    "start_time": "2023-12-30T18:33:32.117Z"
   },
   {
    "duration": 1530,
    "start_time": "2023-12-30T18:39:42.641Z"
   },
   {
    "duration": 6,
    "start_time": "2023-12-30T18:39:44.173Z"
   },
   {
    "duration": 11,
    "start_time": "2023-12-30T18:39:44.180Z"
   },
   {
    "duration": 6,
    "start_time": "2023-12-30T18:43:59.888Z"
   },
   {
    "duration": 13,
    "start_time": "2023-12-30T18:44:01.550Z"
   },
   {
    "duration": 19434,
    "start_time": "2023-12-30T18:45:42.821Z"
   },
   {
    "duration": 2403,
    "start_time": "2023-12-30T18:46:02.257Z"
   },
   {
    "duration": 850,
    "start_time": "2023-12-30T18:46:04.661Z"
   },
   {
    "duration": 33,
    "start_time": "2023-12-30T18:46:05.512Z"
   },
   {
    "duration": 38,
    "start_time": "2023-12-30T18:46:05.547Z"
   },
   {
    "duration": 69,
    "start_time": "2023-12-30T18:46:05.586Z"
   },
   {
    "duration": 8,
    "start_time": "2023-12-30T18:46:05.656Z"
   },
   {
    "duration": 399,
    "start_time": "2023-12-30T18:46:05.665Z"
   },
   {
    "duration": 6,
    "start_time": "2023-12-30T18:46:06.065Z"
   },
   {
    "duration": 289,
    "start_time": "2023-12-30T18:46:06.072Z"
   },
   {
    "duration": 3,
    "start_time": "2023-12-30T18:46:06.363Z"
   },
   {
    "duration": 486,
    "start_time": "2023-12-30T18:46:06.367Z"
   },
   {
    "duration": 2220074,
    "start_time": "2023-12-30T18:46:06.854Z"
   },
   {
    "duration": 7,
    "start_time": "2023-12-30T19:23:06.932Z"
   },
   {
    "duration": 7,
    "start_time": "2023-12-30T19:23:06.941Z"
   },
   {
    "duration": 106,
    "start_time": "2023-12-30T19:23:06.950Z"
   },
   {
    "duration": 4,
    "start_time": "2023-12-30T19:23:07.058Z"
   },
   {
    "duration": 14,
    "start_time": "2023-12-30T19:23:07.063Z"
   },
   {
    "duration": 6071,
    "start_time": "2023-12-30T19:23:07.078Z"
   },
   {
    "duration": 4,
    "start_time": "2023-12-30T19:23:13.151Z"
   },
   {
    "duration": 4,
    "start_time": "2023-12-30T19:23:13.156Z"
   },
   {
    "duration": 4,
    "start_time": "2023-12-30T19:23:13.162Z"
   },
   {
    "duration": 50,
    "start_time": "2023-12-30T19:23:13.167Z"
   },
   {
    "duration": 4,
    "start_time": "2023-12-30T19:23:13.219Z"
   },
   {
    "duration": 10,
    "start_time": "2023-12-30T19:23:13.225Z"
   },
   {
    "duration": 4,
    "start_time": "2023-12-30T19:23:13.237Z"
   },
   {
    "duration": 5,
    "start_time": "2023-12-30T19:23:13.243Z"
   },
   {
    "duration": 8,
    "start_time": "2023-12-30T19:23:13.249Z"
   },
   {
    "duration": 175073,
    "start_time": "2023-12-30T19:23:13.258Z"
   },
   {
    "duration": 37584,
    "start_time": "2023-12-30T19:26:08.333Z"
   },
   {
    "duration": 1184,
    "start_time": "2023-12-30T19:26:45.919Z"
   },
   {
    "duration": 10,
    "start_time": "2023-12-30T19:26:47.105Z"
   },
   {
    "duration": 6,
    "start_time": "2023-12-30T19:26:47.116Z"
   },
   {
    "duration": 14693,
    "start_time": "2023-12-30T19:26:47.123Z"
   },
   {
    "duration": 1117,
    "start_time": "2023-12-30T19:27:01.817Z"
   },
   {
    "duration": 7,
    "start_time": "2023-12-30T19:27:02.936Z"
   },
   {
    "duration": 4,
    "start_time": "2023-12-30T19:27:02.944Z"
   },
   {
    "duration": 7,
    "start_time": "2023-12-30T19:27:02.950Z"
   },
   {
    "duration": 2833784,
    "start_time": "2023-12-30T19:27:02.959Z"
   },
   {
    "duration": 3,
    "start_time": "2023-12-30T20:14:16.745Z"
   },
   {
    "duration": 2,
    "start_time": "2023-12-30T20:14:16.752Z"
   },
   {
    "duration": 1249,
    "start_time": "2023-12-30T20:14:16.755Z"
   },
   {
    "duration": 10,
    "start_time": "2023-12-30T20:14:18.005Z"
   },
   {
    "duration": 4,
    "start_time": "2023-12-30T20:14:18.016Z"
   },
   {
    "duration": 3,
    "start_time": "2023-12-30T20:14:18.021Z"
   },
   {
    "duration": 377901,
    "start_time": "2023-12-30T20:14:18.026Z"
   },
   {
    "duration": 3,
    "start_time": "2023-12-30T20:20:35.929Z"
   },
   {
    "duration": 1666,
    "start_time": "2023-12-30T20:20:35.934Z"
   },
   {
    "duration": 14,
    "start_time": "2023-12-30T20:20:37.602Z"
   },
   {
    "duration": 8,
    "start_time": "2023-12-30T20:20:37.618Z"
   },
   {
    "duration": 4,
    "start_time": "2023-12-30T20:20:37.628Z"
   },
   {
    "duration": 20292,
    "start_time": "2023-12-30T20:20:37.633Z"
   },
   {
    "duration": 4,
    "start_time": "2023-12-30T20:20:57.927Z"
   },
   {
    "duration": 12,
    "start_time": "2023-12-30T20:20:57.932Z"
   },
   {
    "duration": 1124,
    "start_time": "2023-12-30T20:20:57.945Z"
   },
   {
    "duration": 6,
    "start_time": "2023-12-30T20:20:59.071Z"
   },
   {
    "duration": 4,
    "start_time": "2023-12-30T20:20:59.079Z"
   },
   {
    "duration": 7,
    "start_time": "2023-12-30T20:20:59.084Z"
   },
   {
    "duration": 6766,
    "start_time": "2023-12-30T20:20:59.092Z"
   },
   {
    "duration": 2,
    "start_time": "2023-12-30T20:21:05.860Z"
   },
   {
    "duration": 1218,
    "start_time": "2023-12-30T20:21:05.864Z"
   },
   {
    "duration": 6,
    "start_time": "2023-12-30T20:21:07.084Z"
   },
   {
    "duration": 167,
    "start_time": "2023-12-30T20:21:07.092Z"
   },
   {
    "duration": 162,
    "start_time": "2023-12-30T20:21:07.261Z"
   },
   {
    "duration": 175,
    "start_time": "2023-12-30T20:21:07.424Z"
   },
   {
    "duration": 3,
    "start_time": "2023-12-30T20:21:07.601Z"
   },
   {
    "duration": 1943737,
    "start_time": "2023-12-30T20:21:07.605Z"
   },
   {
    "duration": 3,
    "start_time": "2023-12-30T20:53:31.344Z"
   },
   {
    "duration": 373185,
    "start_time": "2023-12-30T20:53:31.348Z"
   },
   {
    "duration": 1500,
    "start_time": "2023-12-30T20:59:44.534Z"
   },
   {
    "duration": 7,
    "start_time": "2023-12-30T20:59:46.036Z"
   },
   {
    "duration": 15,
    "start_time": "2023-12-30T20:59:46.045Z"
   },
   {
    "duration": 8,
    "start_time": "2023-12-30T20:59:46.062Z"
   },
   {
    "duration": 15,
    "start_time": "2023-12-30T20:59:46.071Z"
   }
  ],
  "kernelspec": {
   "display_name": "Python 3 (ipykernel)",
   "language": "python",
   "name": "python3"
  },
  "language_info": {
   "codemirror_mode": {
    "name": "ipython",
    "version": 3
   },
   "file_extension": ".py",
   "mimetype": "text/x-python",
   "name": "python",
   "nbconvert_exporter": "python",
   "pygments_lexer": "ipython3",
   "version": "3.9.13"
  },
  "toc": {
   "base_numbering": 1,
   "nav_menu": {},
   "number_sections": true,
   "sideBar": true,
   "skip_h1_title": true,
   "title_cell": "Содержание",
   "title_sidebar": "Contents",
   "toc_cell": true,
   "toc_position": {
    "height": "calc(100% - 180px)",
    "left": "10px",
    "top": "150px",
    "width": "193.958px"
   },
   "toc_section_display": true,
   "toc_window_display": true
  }
 },
 "nbformat": 4,
 "nbformat_minor": 2
}
